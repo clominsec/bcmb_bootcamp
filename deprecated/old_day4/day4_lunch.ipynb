{
 "cells": [
  {
   "cell_type": "markdown",
   "metadata": {},
   "source": [
    "### Day 4 working lunch exercise\n",
    "\n",
    "You have ~ two ours to complete this mini-project. You may work together but each student should turn in their own copy of the exercise. We will grade on effort so please do your best to answer all the questions and work together! \n",
    "\n",
    "Create a Python notebook to run and document your analysis. You can start with this notebook, or from another existing notebook. When finished, export the notebook and submit it to Blackboard.\n",
    "\n",
    "We have provided you with another raw, scRNAseq data set. The sample is, like the walk-through, of PBMCs, however these were sequenced to greater depth. Use what you have learned to ...\n",
    "1. Load the data and perform quality control to remove bad cells and undetected genes \n",
    "2. Normalize, find highly variable genes, run PCA, and determine the most significant PCs\n",
    "3. Cluster the data\n",
    "4. Assign putative cell type labels using the marker genes that we went over\n",
    "5. Possibly repeat 3-4 if you clusters are too small or too large\n",
    "6. Check you cell annotations by using the score_genes function\n",
    "\n",
    "We will get you started ..."
   ]
  },
  {
   "cell_type": "code",
   "execution_count": 1,
   "metadata": {},
   "outputs": [
    {
     "name": "stdout",
     "output_type": "stream",
     "text": [
      "scanpy==1.6.0 anndata==0.7.4 umap==0.4.6 numpy==1.18.5 scipy==1.5.0 pandas==1.0.5 scikit-learn==0.22.1 statsmodels==0.11.1 python-igraph==0.8.2 louvain==0.6.1 leidenalg==0.8.1\n"
     ]
    }
   ],
   "source": [
    "%matplotlib inline\n",
    "import pandas as pd\n",
    "import matplotlib\n",
    "import seaborn as sns \n",
    "import scanpy as sc\n",
    "import scipy as sp\n",
    "import numpy as np\n",
    "\n",
    "sc.settings.verbosity = 3             # verbosity: errors (0), warnings (1), info (2), hints (3)\n",
    "sc.logging.print_header()\n",
    "sc.settings.set_figure_params(dpi=80, facecolor='white')"
   ]
  },
  {
   "cell_type": "code",
   "execution_count": 2,
   "metadata": {},
   "outputs": [
    {
     "data": {
      "text/plain": [
       "AnnData object with n_obs × n_vars = 2909 × 32738\n",
       "    var: 'gene_ids'"
      ]
     },
     "execution_count": 2,
     "metadata": {},
     "output_type": "execute_result"
    }
   ],
   "source": [
    "adata = sc.read(\"data/esu/esu_full.h5ad\")\n",
    "\n",
    "adata"
   ]
  },
  {
   "cell_type": "code",
   "execution_count": null,
   "metadata": {},
   "outputs": [],
   "source": []
  }
 ],
 "metadata": {
  "kernelspec": {
   "display_name": "Python 3",
   "language": "python",
   "name": "python3"
  },
  "language_info": {
   "codemirror_mode": {
    "name": "ipython",
    "version": 3
   },
   "file_extension": ".py",
   "mimetype": "text/x-python",
   "name": "python",
   "nbconvert_exporter": "python",
   "pygments_lexer": "ipython3",
   "version": "3.8.1"
  }
 },
 "nbformat": 4,
 "nbformat_minor": 4
}

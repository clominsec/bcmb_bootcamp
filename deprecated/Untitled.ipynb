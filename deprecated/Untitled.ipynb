{
 "cells": [
  {
   "cell_type": "code",
   "execution_count": null,
   "id": "f0acfcd9-c0bc-4b44-8fcd-82dc9890b362",
   "metadata": {},
   "outputs": [],
   "source": [
    "cefa=pd.read_csv(\"/home/timp/Code/bcmb_bootcamp2020/day5/data/cefamandole.csv\")\n",
    "cefa"
   ]
  },
  {
   "cell_type": "code",
   "execution_count": null,
   "id": "da0aea76-8d7c-46df-9880-3741ad50c5c4",
   "metadata": {},
   "outputs": [],
   "source": [
    "sns.relplot(data=cefa, x=\"Time\", y=\"conc\", hue=\"Subject\")"
   ]
  },
  {
   "cell_type": "markdown",
   "id": "89375bc5-29ec-4df7-8dc1-5d43be2caafd",
   "metadata": {},
   "source": [
    "So - now we can either use the analytical exponential that we expect from this:\n",
    "\n",
    "$[C] = C_0 e^{-(renal+nonrenal)t}$\n",
    "\n",
    "Or we can generate the ODE as we did in the previous unit:"
   ]
  },
  {
   "cell_type": "code",
   "execution_count": null,
   "id": "f87f4a77-1ad5-48a8-91a2-d0e1225b7536",
   "metadata": {},
   "outputs": [],
   "source": [
    "from scipy.integrate import solve_ivp"
   ]
  },
  {
   "cell_type": "code",
   "execution_count": null,
   "id": "f4166dcb-0e96-4419-baeb-ee73b1f1f1fa",
   "metadata": {},
   "outputs": [],
   "source": [
    "def decay(t, C, renal, nonrenal):\n",
    "    rate = -(renal * C) - (nonrenal * C)\n",
    "    return rate"
   ]
  },
  {
   "cell_type": "markdown",
   "id": "11cebaf6-e86d-42e0-9970-f5b3f250e00c",
   "metadata": {},
   "source": [
    "But then we still need a function to output the concentration for us:"
   ]
  },
  {
   "cell_type": "code",
   "execution_count": null,
   "id": "6b02a86c-ee65-4d0e-8f50-e9b098e6bfc5",
   "metadata": {},
   "outputs": [],
   "source": [
    "def conc(t, renal, nonrenal, C_0):\n",
    "    C_solver = solve_ivp(decay, [min(t), max(t)], C_0, t_eval=t)\n",
    "    return C_solver.y"
   ]
  },
  {
   "cell_type": "markdown",
   "id": "2d54038a-213b-4dc0-927f-8f991412344b",
   "metadata": {},
   "source": [
    "Let's fit each patient individually:"
   ]
  },
  {
   "cell_type": "code",
   "execution_count": null,
   "id": "a5a07901-43ad-4558-ae18-2fbc54f1b69a",
   "metadata": {},
   "outputs": [],
   "source": [
    "for patient in cefa.Subject.unique():\n",
    "    thispatient=cefa[cefa.Subject==patient]\n",
    "    enz_param, enz_param_covar = optimize.curve_fit(conc, thispatient.Time, thispatient.conc)\n",
    "    print(patient+\": \")\n",
    "    print(enz_param)"
   ]
  }
 ],
 "metadata": {
  "kernelspec": {
   "display_name": "Python 3 (ipykernel)",
   "language": "python",
   "name": "python3"
  },
  "language_info": {
   "codemirror_mode": {
    "name": "ipython",
    "version": 3
   },
   "file_extension": ".py",
   "mimetype": "text/x-python",
   "name": "python",
   "nbconvert_exporter": "python",
   "pygments_lexer": "ipython3",
   "version": "3.10.4"
  }
 },
 "nbformat": 4,
 "nbformat_minor": 5
}

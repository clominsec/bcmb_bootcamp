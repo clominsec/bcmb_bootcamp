{
 "cells": [
  {
   "cell_type": "markdown",
   "metadata": {},
   "source": [
    "Day 1 - Lunch Exercises\n",
    "=======================\n",
    "\n",
    "We are going to use our newly discovered CLI superpowers to create and organize a project directory, download some DNA sequence files, and perform some top-level analyses to summarise  "
   ]
  },
  {
   "cell_type": "code",
   "execution_count": null,
   "metadata": {},
   "outputs": [],
   "source": []
  },
  {
   "cell_type": "code",
   "execution_count": null,
   "metadata": {},
   "outputs": [],
   "source": []
  },
  {
   "cell_type": "code",
   "execution_count": null,
   "metadata": {},
   "outputs": [],
   "source": []
  },
  {
   "cell_type": "code",
   "execution_count": null,
   "metadata": {},
   "outputs": [],
   "source": []
  },
  {
   "cell_type": "markdown",
   "metadata": {},
   "source": [
    "Navigate in your web browser to the download page for the human genome (hg38) hosted by UCSC.\n",
    "\n",
    "[https://hgdownload.soe.ucsc.edu/goldenPath/hg38/chromosomes/](https://hgdownload.soe.ucsc.edu/goldenPath/hg38/chromosomes/)\n",
    "\n",
    "Each group should download the chromosome sequence corresponding to your group number (e.g. group 1 = chr1, group 2 = chr2, etc). Edit the cell below to download the appropriate file for your group"
   ]
  },
  {
   "cell_type": "code",
   "execution_count": 4,
   "metadata": {},
   "outputs": [
    {
     "name": "stdout",
     "output_type": "stream",
     "text": [
      "--2020-07-27 13:30:15--  https://hgdownload.soe.ucsc.edu/goldenPath/hg38/chromosomes/chr1.fa.gz\n",
      "Resolving hgdownload.soe.ucsc.edu... 128.114.119.163\n",
      "Connecting to hgdownload.soe.ucsc.edu|128.114.119.163|:443... connected.\n",
      "HTTP request sent, awaiting response... 200 OK\n",
      "Length: 74778116 (71M) [application/x-gzip]\n",
      "Saving to: 'chr1.fa.gz'\n",
      "\n",
      "100%[======================================>] 74,778,116  1.65MB/s   in 40s    \n",
      "\n",
      "2020-07-27 13:30:56 (1.77 MB/s) - 'chr1.fa.gz' saved [74778116/74778116]\n",
      "\n"
     ]
    }
   ],
   "source": [
    "MY_CHROMOSOME=chr1\n",
    "MY_CHROMOSOME_FILE=$MY_CHROMOSOME.fa\n",
    "\n",
    "wget https://hgdownload.soe.ucsc.edu/goldenPath/hg38/chromosomes/$MY_CHROMOSOME_FILE.gz"
   ]
  },
  {
   "cell_type": "markdown",
   "metadata": {},
   "source": [
    "Now we will need to 'unzip' the file."
   ]
  },
  {
   "cell_type": "code",
   "execution_count": 6,
   "metadata": {},
   "outputs": [
    {
     "name": "stdout",
     "output_type": "stream",
     "text": [
      "/Users/loyalgoff/Google Drive/Work/Goff Lab/Teaching/BCMB/bcmb_bootcamp2020/day1/notebooks\n"
     ]
    }
   ],
   "source": []
  },
  {
   "cell_type": "markdown",
   "metadata": {},
   "source": [
    "Now that we have the sequence file uncompressed, let's take a look and see what it looks like:"
   ]
  },
  {
   "cell_type": "code",
   "execution_count": 5,
   "metadata": {},
   "outputs": [
    {
     "name": "stdout",
     "output_type": "stream",
     "text": [
      "head: cannot open 'chr1.fa' for reading: No such file or directory\n"
     ]
    },
    {
     "ename": "",
     "evalue": "1",
     "output_type": "error",
     "traceback": []
    }
   ],
   "source": [
    "head $MY_CHROMOSOME_FILE -n 50"
   ]
  }
 ],
 "metadata": {
  "kernelspec": {
   "display_name": "Bash",
   "language": "bash",
   "name": "bash"
  },
  "language_info": {
   "codemirror_mode": "shell",
   "file_extension": ".sh",
   "mimetype": "text/x-sh",
   "name": "bash"
  }
 },
 "nbformat": 4,
 "nbformat_minor": 4
}

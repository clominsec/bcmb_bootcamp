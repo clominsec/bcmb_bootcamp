{
 "cells": [
  {
   "cell_type": "markdown",
   "metadata": {},
   "source": [
    "Introduction to Unix and the Command Line\n",
    "===================================\n",
    "\n",
    "## Hardware, software, and Operating Systems\n",
    "\n",
    "## Computer Structure\n",
    "\n",
    "## Interfaces\n",
    "How we interact with the computer (input and output)\n",
    "\n",
    "### Graphical User Interface (GUI)\n",
    "\n",
    "### Command Line Interface (CLI)\n",
    "\n",
    "## File System\n"
   ]
  },
  {
   "cell_type": "markdown",
   "metadata": {},
   "source": [
    "### Navigating the File System"
   ]
  },
  {
   "cell_type": "code",
   "execution_count": 1,
   "metadata": {
    "scrolled": true
   },
   "outputs": [
    {
     "name": "stdout",
     "output_type": "stream",
     "text": [
      "/Users/loyalgoff/Google Drive/Work/Goff Lab/Teaching/BCMB/bcmb_bootcamp2020/day1/notebooks\n"
     ]
    }
   ],
   "source": [
    "pwd"
   ]
  },
  {
   "cell_type": "markdown",
   "metadata": {},
   "source": [
    "We can list the contents of the directory using the built-in program `ls`"
   ]
  },
  {
   "cell_type": "code",
   "execution_count": 2,
   "metadata": {},
   "outputs": [
    {
     "name": "stdout",
     "output_type": "stream",
     "text": [
      "Day1-CLI_intro.ipynb  Day1-overview.md\ttest.fa\n"
     ]
    }
   ],
   "source": [
    "ls"
   ]
  },
  {
   "cell_type": "markdown",
   "metadata": {},
   "source": [
    "#### Options/Input arguments\n",
    "Bash/shell commands can take input arguments or options. One convention is to use a dash (`-`) to specify arguments. For example, we can ask ls to show a more detailed list of information for each file/folder:"
   ]
  },
  {
   "cell_type": "code",
   "execution_count": 3,
   "metadata": {},
   "outputs": [
    {
     "name": "stdout",
     "output_type": "stream",
     "text": [
      "total 20\n",
      "-rw------- 1 loyalgoff staff 9256 Jul 27 11:59 Day1-CLI_intro.ipynb\n",
      "-rw-r--r-- 1 loyalgoff staff 1250 Jul 27 11:41 Day1-overview.md\n",
      "-rw------- 1 loyalgoff staff   85 Jul  7 23:15 test.fa\n"
     ]
    }
   ],
   "source": [
    "ls -l"
   ]
  },
  {
   "cell_type": "markdown",
   "metadata": {},
   "source": [
    "We can aggregate different options by directly appending options one after another. The following shows how to display file sizes in human readable formats (`-h`):"
   ]
  },
  {
   "cell_type": "code",
   "execution_count": 4,
   "metadata": {},
   "outputs": [
    {
     "name": "stdout",
     "output_type": "stream",
     "text": [
      "total 20K\n",
      "-rw------- 1 loyalgoff staff 9.9K Jul 27 12:01 Day1-CLI_intro.ipynb\n",
      "-rw-r--r-- 1 loyalgoff staff 1.3K Jul 27 11:41 Day1-overview.md\n",
      "-rw------- 1 loyalgoff staff   85 Jul  7 23:15 test.fa\n"
     ]
    }
   ],
   "source": [
    "ls -lh"
   ]
  },
  {
   "cell_type": "markdown",
   "metadata": {},
   "source": [
    "Sometimes commands take in arguments for various purposes. Again, using ls as example, it can take path as an argument. Without the path, it will by default show the current listings, as shown above. Given a path, it will list items in that path:"
   ]
  },
  {
   "cell_type": "code",
   "execution_count": 5,
   "metadata": {},
   "outputs": [
    {
     "name": "stdout",
     "output_type": "stream",
     "text": [
      "assignments  notebooks\tslides\n"
     ]
    }
   ],
   "source": [
    "ls ../"
   ]
  },
  {
   "cell_type": "markdown",
   "metadata": {},
   "source": [
    "### Manual Pages (man)\n",
    "It is certainly not expected that you memorize all arguments for every command.  This is where the manual (`man`) comes in handy.  You can use `man command_name` to find information about how to use a specific command. For example:"
   ]
  },
  {
   "cell_type": "code",
   "execution_count": 15,
   "metadata": {},
   "outputs": [
    {
     "name": "stdout",
     "output_type": "stream",
     "text": [
      "LS(1)                            User Commands                           LS(1)\n",
      "\n",
      "\n",
      "\n",
      "NAME\n",
      "       ls - list directory contents\n",
      "\n",
      "SYNOPSIS\n",
      "       ls [OPTION]... [FILE]...\n",
      "\n",
      "DESCRIPTION\n",
      "       List  information  about  the FILEs (the current directory by default).\n",
      "       Sort entries alphabetically if none of -cftuvSUX nor --sort  is  speci-\n",
      "       fied.\n",
      "\n",
      "       Mandatory  arguments  to  long  options are mandatory for short options\n",
      "       too.\n",
      "\n",
      "       -a, --all\n",
      "              do not ignore entries starting with .\n",
      "\n",
      "       -A, --almost-all\n",
      "              do not list implied . and ..\n",
      "\n",
      "       --author\n",
      "              with -l, print the author of each file\n",
      "\n",
      "       -b, --escape\n",
      "              print C-style escapes for nongraphic characters\n",
      "\n",
      "       --block-size=SIZE\n",
      "              scale sizes by SIZE before printing them; e.g., '--block-size=M'\n",
      "              prints sizes in units of 1,048,576 bytes; see SIZE format below\n",
      "\n",
      "       -B, --ignore-backups\n",
      "              do not list implied entries ending with ~\n",
      "\n",
      "       -c     with -lt: sort by, and show, ctime (time of last modification of\n",
      "              file status information); with -l: show ctime and sort by  name;\n",
      "              otherwise: sort by ctime, newest first\n",
      "\n",
      "       -C     list entries by columns\n",
      "\n",
      "       --color[=WHEN]\n",
      "              colorize  the output; WHEN can be 'always' (default if omitted),\n",
      "              'auto', or 'never'; more info below\n",
      "\n",
      "       -d, --directory\n",
      "              list directories themselves, not their contents\n",
      "\n",
      "       -D, --dired\n",
      "              generate output designed for Emacs' dired mode\n",
      "\n",
      "       -f     do not sort, enable -aU, disable -ls --color\n",
      "\n",
      "       -F, --classify\n",
      "              append indicator (one of */=>@|) to entries\n",
      "\n",
      "       --file-type\n",
      "              likewise, except do not append '*'\n",
      "\n",
      "       --format=WORD\n",
      "              across -x, commas -m, horizontal -x, long -l, single-column  -1,\n",
      "              verbose -l, vertical -C\n",
      "\n",
      "       --full-time\n",
      "              like -l --time-style=full-iso\n",
      "\n",
      "       -g     like -l, but do not list owner\n",
      "\n",
      "       --group-directories-first\n",
      "              group directories before files;\n",
      "\n",
      "              can   be  augmented  with  a  --sort  option,  but  any  use  of\n",
      "              --sort=none (-U) disables grouping\n",
      "\n",
      "       -G, --no-group\n",
      "              in a long listing, don't print group names\n",
      "\n",
      "       -h, --human-readable\n",
      "              with -l and/or -s, print human readable sizes (e.g., 1K 234M 2G)\n",
      "\n",
      "       --si   likewise, but use powers of 1000 not 1024\n",
      "\n",
      "       -H, --dereference-command-line\n",
      "              follow symbolic links listed on the command line\n",
      "\n",
      "       --dereference-command-line-symlink-to-dir\n",
      "              follow each command line symbolic link\n",
      "\n",
      "              that points to a directory\n",
      "\n",
      "       --hide=PATTERN\n",
      "              do  not  list implied entries matching shell PATTERN (overridden\n",
      "              by -a or -A)\n",
      "\n",
      "       --indicator-style=WORD\n",
      "              append indicator with style WORD to entry names: none (default),\n",
      "              slash (-p), file-type (--file-type), classify (-F)\n",
      "\n",
      "       -i, --inode\n",
      "              print the index number of each file\n",
      "\n",
      "       -I, --ignore=PATTERN\n",
      "              do not list implied entries matching shell PATTERN\n",
      "\n",
      "       -k, --kibibytes\n",
      "              default to 1024-byte blocks for disk usage\n",
      "\n",
      "       -l     use a long listing format\n",
      "\n",
      "       -L, --dereference\n",
      "              when showing file information for a symbolic link, show informa-\n",
      "              tion for the file the link references rather than for  the  link\n",
      "              itself\n",
      "\n",
      "       -m     fill width with a comma separated list of entries\n",
      "\n",
      "       -n, --numeric-uid-gid\n",
      "              like -l, but list numeric user and group IDs\n",
      "\n",
      "       -N, --literal\n",
      "              print  raw entry names (don't treat e.g. control characters spe-\n",
      "              cially)\n",
      "\n",
      "       -o     like -l, but do not list group information\n",
      "\n",
      "       -p, --indicator-style=slash\n",
      "              append / indicator to directories\n",
      "\n",
      "       -q, --hide-control-chars\n",
      "              print ? instead of nongraphic characters\n",
      "\n",
      "       --show-control-chars\n",
      "              show nongraphic characters as-is (the default, unless program is\n",
      "              'ls' and output is a terminal)\n",
      "\n",
      "       -Q, --quote-name\n",
      "              enclose entry names in double quotes\n",
      "\n",
      "       --quoting-style=WORD\n",
      "              use  quoting style WORD for entry names: literal, locale, shell,\n",
      "              shell-always, shell-escape, shell-escape-always, c, escape\n",
      "\n",
      "       -r, --reverse\n",
      "              reverse order while sorting\n",
      "\n",
      "       -R, --recursive\n",
      "              list subdirectories recursively\n",
      "\n",
      "       -s, --size\n",
      "              print the allocated size of each file, in blocks\n",
      "\n",
      "       -S     sort by file size, largest first\n",
      "\n",
      "       --sort=WORD\n",
      "              sort by WORD instead of name: none (-U), size (-S),  time  (-t),\n",
      "              version (-v), extension (-X)\n",
      "\n",
      "       --time=WORD\n",
      "              with -l, show time as WORD instead of default modification time:\n",
      "              atime or access or use (-u); ctime  or  status  (-c);  also  use\n",
      "              specified time as sort key if --sort=time (newest first)\n",
      "\n",
      "       --time-style=STYLE\n",
      "              with  -l, show times using style STYLE: full-iso, long-iso, iso,\n",
      "              locale, or +FORMAT; FORMAT is interpreted  like  in  'date';  if\n",
      "              FORMAT  is  FORMAT1<newline>FORMAT2,  then  FORMAT1  applies  to\n",
      "              non-recent files and FORMAT2 to recent files; if STYLE  is  pre-\n",
      "              fixed  with  'posix-', STYLE takes effect only outside the POSIX\n",
      "              locale\n",
      "\n",
      "       -t     sort by modification time, newest first\n",
      "\n",
      "       -T, --tabsize=COLS\n",
      "              assume tab stops at each COLS instead of 8\n",
      "\n",
      "       -u     with -lt: sort by, and show, access time; with -l:  show  access\n",
      "              time  and  sort  by name; otherwise: sort by access time, newest\n",
      "              first\n",
      "\n",
      "       -U     do not sort; list entries in directory order\n",
      "\n",
      "       -v     natural sort of (version) numbers within text\n",
      "\n",
      "       -w, --width=COLS\n",
      "              set output width to COLS.  0 means no limit\n",
      "\n",
      "       -x     list entries by lines instead of by columns\n",
      "\n",
      "       -X     sort alphabetically by entry extension\n",
      "\n",
      "       -Z, --context\n",
      "              print any security context of each file\n",
      "\n",
      "       -1     list one file per line.  Avoid '\\n' with -q or -b\n",
      "\n",
      "       --help display this help and exit\n",
      "\n",
      "       --version\n",
      "              output version information and exit\n",
      "\n",
      "       The SIZE argument is an integer and  optional  unit  (example:  10K  is\n",
      "       10*1024).   Units  are  K,M,G,T,P,E,Z,Y  (powers  of 1024) or KB,MB,...\n",
      "       (powers of 1000).\n",
      "\n",
      "       Using color to distinguish file types is disabled both by  default  and\n",
      "       with  --color=never.  With --color=auto, ls emits color codes only when\n",
      "       standard output is connected to a terminal.  The LS_COLORS  environment\n",
      "       variable can change the settings.  Use the dircolors command to set it.\n",
      "\n",
      "   Exit status:\n",
      "       0      if OK,\n",
      "\n",
      "       1      if minor problems (e.g., cannot access subdirectory),\n",
      "\n",
      "       2      if serious trouble (e.g., cannot access command-line  argument).\n",
      "\n",
      "AUTHOR\n",
      "       Written by Richard M. Stallman and David MacKenzie.\n",
      "\n",
      "REPORTING BUGS\n",
      "       GNU coreutils online help: <http://www.gnu.org/software/coreutils/>\n",
      "       Report ls translation bugs to <http://translationproject.org/team/>\n",
      "\n",
      "COPYRIGHT\n",
      "       Copyright  (C) 2016 Free Software Foundation, Inc.  License GPLv3+: GNU\n",
      "       GPL version 3 or later <http://gnu.org/licenses/gpl.html>.\n",
      "       This is free software: you are free  to  change  and  redistribute  it.\n",
      "       There is NO WARRANTY, to the extent permitted by law.\n",
      "\n",
      "SEE ALSO\n",
      "       Full documentation at: <http://www.gnu.org/software/coreutils/ls>\n",
      "       or available locally via: info '(coreutils) ls invocation'\n",
      "\n",
      "\n",
      "\n",
      "GNU coreutils 8.25               January 2016                            LS(1)\n"
     ]
    }
   ],
   "source": [
    "man ls"
   ]
  },
  {
   "cell_type": "markdown",
   "metadata": {},
   "source": [
    "Here, man is a command that takes one input argument (which should be a Bash command) and outputs the corresponding manual."
   ]
  },
  {
   "cell_type": "markdown",
   "metadata": {},
   "source": [
    "## Creating and Navigating Folders\n",
    "Now that we have a basic overview of how to interact with the computer in bash, it will be useful to understand how to create folders (directories) and navigate around our system. We've already used the `pwd` command to learn where we currently are. But what if we wanted to make a new directory to contain a project?\n",
    "\n",
    "The `mkdir` command stands for “make directory”. It takes in a directory name as an _argument_, and then creates a new directory in the current working directory."
   ]
  },
  {
   "cell_type": "code",
   "execution_count": 7,
   "metadata": {},
   "outputs": [],
   "source": [
    "mkdir myDirectory"
   ]
  },
  {
   "cell_type": "markdown",
   "metadata": {},
   "source": [
    "Nothing seemed to happen?  Lets check and see if our new directory was made:"
   ]
  },
  {
   "cell_type": "code",
   "execution_count": 8,
   "metadata": {},
   "outputs": [
    {
     "name": "stdout",
     "output_type": "stream",
     "text": [
      "total 32\n",
      "-rw------- 1 loyalgoff staff 22484 Jul 27 12:07 Day1-CLI_intro.ipynb\n",
      "-rw-r--r-- 1 loyalgoff staff  1250 Jul 27 11:41 Day1-overview.md\n",
      "drwxr-xr-x 2 loyalgoff staff    64 Jul 27 12:08 myDirectory\n",
      "-rw------- 1 loyalgoff staff    85 Jul  7 23:15 test.fa\n"
     ]
    }
   ],
   "source": [
    "ls -l"
   ]
  },
  {
   "cell_type": "markdown",
   "metadata": {},
   "source": [
    "There it is, lets try and move into the directory."
   ]
  },
  {
   "cell_type": "markdown",
   "metadata": {},
   "source": [
    "`cd` stands for “change directory”. Just as you would click on a folder in Windows Explorer or Finder on a Mac, `cd` switches you into the directory you specify. In other words, `cd` changes the working directory."
   ]
  },
  {
   "cell_type": "code",
   "execution_count": 10,
   "metadata": {},
   "outputs": [
    {
     "name": "stdout",
     "output_type": "stream",
     "text": [
      "bash: cd: myDirectory: No such file or directory\n",
      "/Users/loyalgoff/Google Drive/Work/Goff Lab/Teaching/BCMB/bcmb_bootcamp2020/day1/notebooks/myDirectory\n"
     ]
    }
   ],
   "source": [
    "cd myDirectory\n",
    "pwd"
   ]
  },
  {
   "cell_type": "markdown",
   "metadata": {},
   "source": [
    "We can move back into the previous directory by using the shortcut `..`"
   ]
  },
  {
   "cell_type": "code",
   "execution_count": 11,
   "metadata": {},
   "outputs": [
    {
     "name": "stdout",
     "output_type": "stream",
     "text": [
      "/Users/loyalgoff/Google Drive/Work/Goff Lab/Teaching/BCMB/bcmb_bootcamp2020/day1/notebooks\n"
     ]
    }
   ],
   "source": [
    "cd ..\n",
    "pwd"
   ]
  },
  {
   "cell_type": "markdown",
   "metadata": {},
   "source": [
    "And finally, we can remove an (empty) directory using `rmdir`."
   ]
  },
  {
   "cell_type": "code",
   "execution_count": 12,
   "metadata": {},
   "outputs": [
    {
     "name": "stdout",
     "output_type": "stream",
     "text": [
      "Day1-CLI_intro.ipynb  Day1-overview.md\ttest.fa\n"
     ]
    }
   ],
   "source": [
    "rmdir myDirectory\n",
    "ls"
   ]
  },
  {
   "cell_type": "markdown",
   "metadata": {},
   "source": [
    "### Review\n",
    "* The command line is a text interface for the computer’s operating system. To access the command line, we use the terminal.\n",
    "* A filesystem organizes a computer’s files and directories into a tree. It starts with the root directory. Each parent directory can contain more child directories and files.\n",
    "* From the command line, you can navigate through files and folders on your computer\n",
    "  + `pwd` outputs the name of the current working directory.\n",
    "  + `ls` lists all files and directories in the working directory.\n",
    "  + `cd` switches you into the directory you specify.\n",
    "  + `mkdir` creates a new directory in the working directory.\n",
    "  + `rmdir` removes an empty directory"
   ]
  },
  {
   "cell_type": "markdown",
   "metadata": {},
   "source": [
    "## Viewing and changing files"
   ]
  },
  {
   "cell_type": "markdown",
   "metadata": {},
   "source": [
    "### Creating files\n",
    "There are several ways to create a file. One of the easiest is to just create an empty file by touching it (`touch`)\n"
   ]
  },
  {
   "cell_type": "code",
   "execution_count": 7,
   "metadata": {},
   "outputs": [],
   "source": [
    "touch myBrandNewFile.txt"
   ]
  },
  {
   "cell_type": "code",
   "execution_count": 8,
   "metadata": {},
   "outputs": [
    {
     "name": "stdout",
     "output_type": "stream",
     "text": [
      "total 44\n",
      "-rw-r--r-- 1 loyalgoff staff   556 Jul 27 12:11 Day1-Afternoon-Intro_to_python.ipynb\n",
      "-rw------- 1 loyalgoff staff 25378 Jul 27 12:23 Day1-Morning-CLI_intro_and_git.ipynb\n",
      "-rw-r--r-- 1 loyalgoff staff  1343 Jul 27 12:14 Day1-overview.md\n",
      "-rw-r--r-- 1 loyalgoff staff     0 Jul 27 12:23 myBrandNewFile.txt\n",
      "-rw-r--r-- 1 loyalgoff staff    12 Jul 27 12:22 myOlderFile.txt\n",
      "-rw------- 1 loyalgoff staff    85 Jul  7 23:15 test.fa\n"
     ]
    }
   ],
   "source": [
    "ls -l"
   ]
  },
  {
   "cell_type": "markdown",
   "metadata": {},
   "source": [
    "Since this file is empty, we should add something to it at this point.  We can write directly to a file by _*redirecting*_ some content into the file.  This is achieved with the `>`. Imaging that this is an arrow pointing to where you want to put the output.  Here we will also introduce you to the `echo` command which simply repeats the first argument.  Here we're going to have the output of `echo` _redirected_ into our new file."
   ]
  },
  {
   "cell_type": "code",
   "execution_count": 9,
   "metadata": {},
   "outputs": [],
   "source": [
    "echo 'Hello World' > myBrandNewFile.txt"
   ]
  },
  {
   "cell_type": "markdown",
   "metadata": {},
   "source": [
    "We can now view the contents of a file by using the command `cat`:"
   ]
  },
  {
   "cell_type": "code",
   "execution_count": 10,
   "metadata": {},
   "outputs": [
    {
     "name": "stdout",
     "output_type": "stream",
     "text": [
      "Hello World\n"
     ]
    }
   ],
   "source": [
    "cat myBrandNewFile.txt"
   ]
  },
  {
   "cell_type": "markdown",
   "metadata": {},
   "source": [
    "### Moving and removing files\n",
    "\n",
    "The `mv` command moves files or directories"
   ]
  },
  {
   "cell_type": "code",
   "execution_count": 11,
   "metadata": {},
   "outputs": [
    {
     "name": "stdout",
     "output_type": "stream",
     "text": [
      "total 44\n",
      "-rw-r--r-- 1 loyalgoff staff   556 Jul 27 12:11 Day1-Afternoon-Intro_to_python.ipynb\n",
      "-rw------- 1 loyalgoff staff 25378 Jul 27 12:23 Day1-Morning-CLI_intro_and_git.ipynb\n",
      "-rw-r--r-- 1 loyalgoff staff  1343 Jul 27 12:14 Day1-overview.md\n",
      "-rw-r--r-- 1 loyalgoff staff    12 Jul 27 12:23 myOlderFile.txt\n",
      "-rw------- 1 loyalgoff staff    85 Jul  7 23:15 test.fa\n"
     ]
    }
   ],
   "source": [
    "mv myBrandNewFile.txt myOlderFile.txt\n",
    "ls -l"
   ]
  },
  {
   "cell_type": "markdown",
   "metadata": {},
   "source": [
    "The `rm` command removes files or directories <font color='red'>(removed files will be gone forever, proceed with caution)</font>"
   ]
  },
  {
   "cell_type": "markdown",
   "metadata": {},
   "source": [
    "And finally, we can remove a file using the `rm` command:"
   ]
  },
  {
   "cell_type": "code",
   "execution_count": 12,
   "metadata": {},
   "outputs": [
    {
     "name": "stdout",
     "output_type": "stream",
     "text": [
      "total 40\n",
      "drwxr-xr-x 7 loyalgoff staff   224 Jul 27 12:24 .\n",
      "drwxr-xr-x 5 loyalgoff staff   160 Jul 27 11:48 ..\n",
      "drwxr-xr-x 7 loyalgoff staff   224 Jul 27 12:11 .ipynb_checkpoints\n",
      "-rw-r--r-- 1 loyalgoff staff   556 Jul 27 12:11 Day1-Afternoon-Intro_to_python.ipynb\n",
      "-rw------- 1 loyalgoff staff 25378 Jul 27 12:23 Day1-Morning-CLI_intro_and_git.ipynb\n",
      "-rw-r--r-- 1 loyalgoff staff  1343 Jul 27 12:14 Day1-overview.md\n",
      "-rw------- 1 loyalgoff staff    85 Jul  7 23:15 test.fa\n"
     ]
    }
   ],
   "source": [
    "rm myOlderFile.txt\n",
    "ls -la"
   ]
  },
  {
   "cell_type": "markdown",
   "metadata": {},
   "source": [
    "### File properties"
   ]
  },
  {
   "cell_type": "code",
   "execution_count": 13,
   "metadata": {},
   "outputs": [
    {
     "name": "stdout",
     "output_type": "stream",
     "text": [
      "4\ttest.fa\n",
      "4.0K\ttest.fa\n"
     ]
    }
   ],
   "source": [
    "du test.fa\n",
    "\n",
    "du -h test.fa #outputs in 'human-readable' format (byte, kb, mb, etc)"
   ]
  },
  {
   "cell_type": "markdown",
   "metadata": {},
   "source": [
    "To count the number of words and lines in your file"
   ]
  },
  {
   "cell_type": "code",
   "execution_count": 14,
   "metadata": {},
   "outputs": [
    {
     "name": "stdout",
     "output_type": "stream",
     "text": [
      "  8   8 320 test.fa\n",
      "8 test.fa\n",
      "320 test.fa\n"
     ]
    }
   ],
   "source": [
    "wc test.fa #words\n",
    "wc -l test.fa #lines\n",
    "wc -m test.fa #characters"
   ]
  },
  {
   "cell_type": "markdown",
   "metadata": {},
   "source": [
    "### Downloading files from the internet"
   ]
  },
  {
   "cell_type": "code",
   "execution_count": 15,
   "metadata": {},
   "outputs": [
    {
     "name": "stdout",
     "output_type": "stream",
     "text": [
      "--2020-07-27 13:13:28--  https://hgdownload.soe.ucsc.edu/goldenPath/hg38/chromosomes/chr1.fa.gz\n",
      "Resolving hgdownload.soe.ucsc.edu... 128.114.119.163\n",
      "Connecting to hgdownload.soe.ucsc.edu|128.114.119.163|:443... connected.\n",
      "HTTP request sent, awaiting response... 200 OK\n",
      "Length: 74778116 (71M) [application/x-gzip]\n",
      "Saving to: 'chr1.fa.gz'\n",
      "\n",
      "100%[======================================>] 74,778,116  1.90MB/s   in 37s    \n",
      "\n",
      "2020-07-27 13:14:05 (1.94 MB/s) - 'chr1.fa.gz' saved [74778116/74778116]\n",
      "\n"
     ]
    }
   ],
   "source": [
    "wget https://hgdownload.soe.ucsc.edu/goldenPath/hg38/chromosomes/chr1.fa.gz"
   ]
  },
  {
   "cell_type": "markdown",
   "metadata": {},
   "source": [
    "### File compression/uncompression\n",
    "This is done using programs such as tar, and gzip/gunzip"
   ]
  },
  {
   "cell_type": "code",
   "execution_count": 8,
   "metadata": {},
   "outputs": [
    {
     "name": "stdout",
     "output_type": "stream",
     "text": [
      "gzip: file.txt: No such file or directory\n",
      "gzip: file.txt.gz: No such file or directory\n"
     ]
    },
    {
     "ename": "",
     "evalue": "1",
     "output_type": "error",
     "traceback": []
    }
   ],
   "source": [
    "gzip test.fa # to compress the file\n",
    "\n",
    "gunzip test.fa.gz # to uncompress the file"
   ]
  },
  {
   "cell_type": "markdown",
   "metadata": {},
   "source": [
    "Try it out for yourself!"
   ]
  },
  {
   "cell_type": "code",
   "execution_count": null,
   "metadata": {},
   "outputs": [],
   "source": [
    "wget http://hgdownload.cse.ucsc.edu/goldenpath/hg19/database/knownGene.txt.gz"
   ]
  },
  {
   "cell_type": "markdown",
   "metadata": {},
   "source": [
    "## Understanding commands"
   ]
  },
  {
   "cell_type": "code",
   "execution_count": 7,
   "metadata": {},
   "outputs": [
    {
     "name": "stdout",
     "output_type": "stream",
     "text": [
      "total 32\n",
      "drwxr-xr-x  6 loyalgoff  staff   192B Jul  4 15:04 ..\n",
      "-rw-r--r--  1 loyalgoff  staff    85B Jul  7 16:17 test.fa\n",
      "drwxr-xr-x  4 loyalgoff  staff   128B Jul  7 17:02 .ipynb_checkpoints\n",
      "-rw-r--r--  1 loyalgoff  staff   2.0K Jul  7 17:14 test_cli.ipynb\n",
      "-rw-r--r--  1 loyalgoff  staff   6.2K Jul  7 17:17 Day 1 - Intro to the Command Line.ipynb\n",
      "drwxr-xr-x  6 loyalgoff  staff   192B Jul  7 17:17 .\n"
     ]
    }
   ],
   "source": [
    "ls -larth"
   ]
  },
  {
   "cell_type": "code",
   "execution_count": null,
   "metadata": {},
   "outputs": [],
   "source": []
  }
 ],
 "metadata": {
  "kernelspec": {
   "display_name": "Bash",
   "language": "bash",
   "name": "bash"
  },
  "language_info": {
   "codemirror_mode": "shell",
   "file_extension": ".sh",
   "mimetype": "text/x-sh",
   "name": "bash"
  }
 },
 "nbformat": 4,
 "nbformat_minor": 4
}

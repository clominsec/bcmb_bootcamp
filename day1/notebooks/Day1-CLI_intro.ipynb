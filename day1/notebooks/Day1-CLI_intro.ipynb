{
 "cells": [
  {
   "cell_type": "markdown",
   "metadata": {},
   "source": [
    "Introduction to Unix and the Command Line\n",
    "===================================\n",
    "\n",
    "## Hardware, software, and Operating Systems\n",
    "\n",
    "## Computer Structure\n",
    "\n",
    "## Interfaces\n",
    "How we interact with the computer (input and output)\n",
    "\n",
    "### Graphical User Interface (GUI)\n",
    "\n",
    "### Command Line Interface (CLI)\n",
    "\n",
    "## File System\n",
    "\n",
    "### Navigating the File System"
   ]
  },
  {
   "cell_type": "code",
   "execution_count": 1,
   "metadata": {
    "scrolled": true
   },
   "outputs": [
    {
     "name": "stdout",
     "output_type": "stream",
     "text": [
      "/Users/loyalgoff/Google Drive/Work/Goff Lab/Teaching/BCMB/bcmb_bootcamp2020/day1/notebooks\n"
     ]
    }
   ],
   "source": [
    "pwd"
   ]
  },
  {
   "cell_type": "markdown",
   "metadata": {},
   "source": [
    "We can list the contents of the directory using the built-in program `ls`"
   ]
  },
  {
   "cell_type": "code",
   "execution_count": 2,
   "metadata": {},
   "outputs": [
    {
     "name": "stdout",
     "output_type": "stream",
     "text": [
      "Day 1 - Intro to the Command Line.ipynb\ttest_cli.ipynb\n",
      "test.fa\n"
     ]
    }
   ],
   "source": [
    "ls"
   ]
  },
  {
   "cell_type": "markdown",
   "metadata": {},
   "source": [
    "## Creating and Navigating Folders\n",
    "\n",
    "The `mkdir` command stands for “make directory”. It takes in a directory name as an _argument_, and then creates a new directory in the current working directory."
   ]
  },
  {
   "cell_type": "code",
   "execution_count": 3,
   "metadata": {},
   "outputs": [],
   "source": [
    "mkdir myDirectory"
   ]
  },
  {
   "cell_type": "markdown",
   "metadata": {},
   "source": [
    "`cd` stands for “change directory”. Just as you would click on a folder in Windows Explorer or Finder on a Mac, `cd` switches you into the directory you specify. In other words, `cd` changes the working directory."
   ]
  },
  {
   "cell_type": "code",
   "execution_count": 4,
   "metadata": {},
   "outputs": [
    {
     "name": "stdout",
     "output_type": "stream",
     "text": [
      "/Users/loyalgoff/Google Drive/Work/Goff Lab/Teaching/BCMB/bcmb_bootcamp2020/day1/notebooks/myDirectory\n"
     ]
    }
   ],
   "source": [
    "cd myDirectory\n",
    "pwd"
   ]
  },
  {
   "cell_type": "markdown",
   "metadata": {},
   "source": [
    "We can move back into the previous directory by using the shortcut `..`"
   ]
  },
  {
   "cell_type": "code",
   "execution_count": 5,
   "metadata": {},
   "outputs": [
    {
     "name": "stdout",
     "output_type": "stream",
     "text": [
      "/Users/loyalgoff/Google Drive/Work/Goff Lab/Teaching/BCMB/bcmb_bootcamp2020/day1/notebooks\n"
     ]
    }
   ],
   "source": [
    "cd ..\n",
    "pwd"
   ]
  },
  {
   "cell_type": "markdown",
   "metadata": {},
   "source": [
    "And finally, we can remove an (empty) directory using `rmdir`."
   ]
  },
  {
   "cell_type": "code",
   "execution_count": 6,
   "metadata": {},
   "outputs": [
    {
     "name": "stdout",
     "output_type": "stream",
     "text": [
      "Day 1 - Intro to the Command Line.ipynb\ttest_cli.ipynb\n",
      "test.fa\n"
     ]
    }
   ],
   "source": [
    "rmdir myDirectory\n",
    "ls"
   ]
  },
  {
   "cell_type": "markdown",
   "metadata": {},
   "source": [
    "### Review\n",
    "* The command line is a text interface for the computer’s operating system. To access the command line, we use the terminal.\n",
    "* A filesystem organizes a computer’s files and directories into a tree. It starts with the root directory. Each parent directory can contain more child directories and files.\n",
    "* From the command line, you can navigate through files and folders on your computer\n",
    "  + `pwd` outputs the name of the current working directory.\n",
    "  + `ls` lists all files and directories in the working directory.\n",
    "  + `cd` switches you into the directory you specify.\n",
    "  + `mkdir` creates a new directory in the working directory.\n",
    "  + `rmdir` removes an empty directory"
   ]
  },
  {
   "cell_type": "markdown",
   "metadata": {},
   "source": [
    "## Manual Pages"
   ]
  },
  {
   "cell_type": "code",
   "execution_count": null,
   "metadata": {},
   "outputs": [],
   "source": []
  },
  {
   "cell_type": "markdown",
   "metadata": {},
   "source": [
    "## Viewing and changing files"
   ]
  },
  {
   "cell_type": "code",
   "execution_count": null,
   "metadata": {},
   "outputs": [],
   "source": []
  },
  {
   "cell_type": "markdown",
   "metadata": {},
   "source": [
    "### Moving and removing files\n",
    "\n",
    "The `mv` command moves files or directories"
   ]
  },
  {
   "cell_type": "code",
   "execution_count": null,
   "metadata": {},
   "outputs": [],
   "source": [
    "mv "
   ]
  },
  {
   "cell_type": "markdown",
   "metadata": {},
   "source": [
    "The `rm` command removes files or directories <font color='red'>(removed files will be gone forever, proceed with caution)</font>"
   ]
  },
  {
   "cell_type": "code",
   "execution_count": null,
   "metadata": {},
   "outputs": [],
   "source": [
    "rm "
   ]
  },
  {
   "cell_type": "markdown",
   "metadata": {},
   "source": [
    "### File properties"
   ]
  },
  {
   "cell_type": "code",
   "execution_count": 9,
   "metadata": {},
   "outputs": [
    {
     "name": "stdout",
     "output_type": "stream",
     "text": [
      "du: file.txt: No such file or directory\n",
      "du: file.txt: No such file or directory\n"
     ]
    },
    {
     "ename": "",
     "evalue": "1",
     "output_type": "error",
     "traceback": []
    }
   ],
   "source": [
    "du file.txt\n",
    "\n",
    "du -h file.txt #outputs in 'human-readable' format (byte, kb, mb, etc)"
   ]
  },
  {
   "cell_type": "markdown",
   "metadata": {},
   "source": [
    "To count the number of words and lines in your file"
   ]
  },
  {
   "cell_type": "code",
   "execution_count": 10,
   "metadata": {},
   "outputs": [
    {
     "name": "stdout",
     "output_type": "stream",
     "text": [
      "wc: file.txt: open: No such file or directory\n"
     ]
    },
    {
     "ename": "",
     "evalue": "1",
     "output_type": "error",
     "traceback": []
    }
   ],
   "source": [
    "wc file.txt #words\n",
    "wc -l file.txt #lines\n",
    "wc -m file.txt #characters"
   ]
  },
  {
   "cell_type": "markdown",
   "metadata": {},
   "source": [
    "### Downloading files from the internet"
   ]
  },
  {
   "cell_type": "code",
   "execution_count": null,
   "metadata": {},
   "outputs": [],
   "source": [
    "wget <url>"
   ]
  },
  {
   "cell_type": "markdown",
   "metadata": {},
   "source": [
    "### File compression/uncompression\n",
    "This is done using programs such as tar, and gzip/gunzip"
   ]
  },
  {
   "cell_type": "code",
   "execution_count": 8,
   "metadata": {},
   "outputs": [
    {
     "name": "stdout",
     "output_type": "stream",
     "text": [
      "gzip: file.txt: No such file or directory\n",
      "gzip: file.txt.gz: No such file or directory\n"
     ]
    },
    {
     "ename": "",
     "evalue": "1",
     "output_type": "error",
     "traceback": []
    }
   ],
   "source": [
    "gzip file.txt # to compress the file\n",
    "\n",
    "gunzip file.txt.gz # to uncompress the file"
   ]
  },
  {
   "cell_type": "markdown",
   "metadata": {},
   "source": [
    "Try it out for yourself!"
   ]
  },
  {
   "cell_type": "code",
   "execution_count": null,
   "metadata": {},
   "outputs": [],
   "source": [
    "wget http://hgdownload.cse.ucsc.edu/goldenpath/hg19/database/knownGene.txt.gz"
   ]
  },
  {
   "cell_type": "markdown",
   "metadata": {},
   "source": [
    "## Understanding commands"
   ]
  },
  {
   "cell_type": "code",
   "execution_count": 7,
   "metadata": {},
   "outputs": [
    {
     "name": "stdout",
     "output_type": "stream",
     "text": [
      "total 32\n",
      "drwxr-xr-x  6 loyalgoff  staff   192B Jul  4 15:04 ..\n",
      "-rw-r--r--  1 loyalgoff  staff    85B Jul  7 16:17 test.fa\n",
      "drwxr-xr-x  4 loyalgoff  staff   128B Jul  7 17:02 .ipynb_checkpoints\n",
      "-rw-r--r--  1 loyalgoff  staff   2.0K Jul  7 17:14 test_cli.ipynb\n",
      "-rw-r--r--  1 loyalgoff  staff   6.2K Jul  7 17:17 Day 1 - Intro to the Command Line.ipynb\n",
      "drwxr-xr-x  6 loyalgoff  staff   192B Jul  7 17:17 .\n"
     ]
    }
   ],
   "source": [
    "ls -larth"
   ]
  },
  {
   "cell_type": "code",
   "execution_count": null,
   "metadata": {},
   "outputs": [],
   "source": []
  }
 ],
 "metadata": {
  "kernelspec": {
   "display_name": "Bash",
   "language": "bash",
   "name": "bash"
  },
  "language_info": {
   "codemirror_mode": "shell",
   "file_extension": ".sh",
   "mimetype": "text/x-sh",
   "name": "bash"
  }
 },
 "nbformat": 4,
 "nbformat_minor": 4
}

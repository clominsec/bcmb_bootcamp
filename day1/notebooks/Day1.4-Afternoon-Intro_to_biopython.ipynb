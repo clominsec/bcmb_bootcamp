{
 "cells": [
  {
   "cell_type": "markdown",
   "metadata": {},
   "source": [
    "# Biopython"
   ]
  },
  {
   "cell_type": "markdown",
   "metadata": {},
   "source": [
    "[Biopython](www.biopython.org) is a well-maintained collection of modules, tools, and scripts specifically designed to help with common bioinformatics tasks.  It is free and open source, with a large number of contributors maintaining the package. "
   ]
  },
  {
   "cell_type": "markdown",
   "metadata": {},
   "source": [
    "## Sequences and Sequence objects\n",
    "Earlier, we created and manipulated DNA sequences as strings. A core component of biopython is the creation of specific 'classes' to store and manipulate certain types of items. One of these is the `Seq` class which is designed to hold all of the relevant information needed for biological sequences (DNA, RNA, protein, etc). There are two primary components for a biological sequences.  The sequence itself and the 'Alphabet' used to define what the characters in the sequence represent (i.e. [A,G,C,T] for DNA or [A,G,C,U] for RNA).\n",
    "\n",
    "Lets start by creating a 'generic' sequence (`Seq` object) in biopython."
   ]
  },
  {
   "cell_type": "code",
   "execution_count": null,
   "metadata": {},
   "outputs": [],
   "source": [
    "from Bio.Seq import Seq # first we import a function from a sub module of the Bio (biopython) module directly.\n",
    "\n",
    "mySeq = Seq(\"TTGAGCAGTTGAGCGATTATGTCGATTAGCTGAGGCATTCGAGCTATG\")\n",
    "\n",
    "print(mySeq)\n",
    "print(type(mySeq))\n",
    "\n",
    "#str(mySeq)\n",
    "\n",
    "print(mySeq.alphabet)"
   ]
  },
  {
   "cell_type": "markdown",
   "metadata": {},
   "source": [
    "So why go to all of this trouble to create a `Seq` object instead of just storing the DNA seqence as a string?  Well, the `Seq` object defines a number of methods (functions) that code for useful _biological_ operations:"
   ]
  },
  {
   "cell_type": "code",
   "execution_count": null,
   "metadata": {},
   "outputs": [],
   "source": [
    "print(mySeq)\n",
    "print(mySeq.complement())\n",
    "print(mySeq.reverse_complement())\n",
    "print(mySeq.transcribe())\n",
    "print(mySeq.transcribe().translate())\n",
    "print(mySeq.count(\"TT\"))"
   ]
  },
  {
   "cell_type": "markdown",
   "metadata": {},
   "source": [
    "`Seq` objects store sequence information `SeqRecord` objects store metadata information associated with an individual `Seq` object including an identifier (id) a name, and a description.  We'll see more of these as we progress."
   ]
  },
  {
   "cell_type": "markdown",
   "metadata": {},
   "source": [
    "## Parsers\n",
    "An important task in bioinformatics is 'parsing' files of different format. There are many types of file formats for biological data, some of which are human readable, and some are not readily so. And some of them can contain thousands or millions of data points that you may need to iterate over in order to analyze. Thankfully biopython maintains several functions in the `Bio.SeqIO` module to parse common biological file formats.\n",
    "\n",
    "You've already been introduced to the FASTA format earlier today. FASTA files can contain many unique sequences within a single file. Using biopython, we can parse a FASTA file into individual `SeqRecord` objects and then iteratively do something with them."
   ]
  },
  {
   "cell_type": "code",
   "execution_count": null,
   "metadata": {},
   "outputs": [],
   "source": [
    "from Bio import SeqIO # notice we are importing a different sub module called SeqIO\n",
    "\n",
    "fasta_file = SeqIO.parse(\"test.fa\",'fasta')\n",
    "\n",
    "# Lets access the `Seq` object contained within each returned `SeqRecord` and print that out.\n",
    "for record in fasta_file:\n",
    "    print(record.seq)"
   ]
  },
  {
   "cell_type": "markdown",
   "metadata": {},
   "source": [
    "When we use this and other parsers, they will return an object of a relevant class.  In the case of `SeqRecord` objects, there are additional properties parsed and stored"
   ]
  },
  {
   "cell_type": "code",
   "execution_count": null,
   "metadata": {},
   "outputs": [],
   "source": [
    "from Bio.Alphabet import generic_dna\n",
    "fasta_file = SeqIO.parse(\"test.fa\",'fasta',alphabet=generic_dna) # Reconnect and parse the 'test.fa' file. This time we will specify an Alphabet for the records to indicate they are DNA sequences.\n",
    "\n",
    "# Lets grab the first record\n",
    "a = next(fasta_file)\n",
    "\n",
    "print(a)\n",
    "\n",
    "print(a.id)\n",
    "print(len(a))\n",
    "print(a.description)\n",
    "\n",
    "# To see a full list of available attributes (not all of them may be populated) we can use help()\n",
    "help(a)\n"
   ]
  },
  {
   "cell_type": "markdown",
   "metadata": {},
   "source": [
    "And we can export or print the object in a variety of common biological formats (prespecified formats in [Bio.SeqIO](https://biopython.org/wiki/SeqIO). This makes for a very convenient way to convert sequence records between formats"
   ]
  },
  {
   "cell_type": "code",
   "execution_count": null,
   "metadata": {},
   "outputs": [],
   "source": [
    "print(a.format('tab'))\n",
    "print(a.format('embl'))\n",
    "print(a.format('stockholm'))\n",
    "print(a.format('clustal'))\n",
    "print(a.format('fasta'))"
   ]
  },
  {
   "cell_type": "markdown",
   "metadata": {},
   "source": [
    "We can manipulate and slice `SeqRecord` objects as well. This will return a _new_ `SeqRecord` object."
   ]
  },
  {
   "cell_type": "code",
   "execution_count": null,
   "metadata": {},
   "outputs": [],
   "source": [
    "a[:5] #retrieve the first 5 elements of the string"
   ]
  },
  {
   "cell_type": "markdown",
   "metadata": {},
   "source": [
    "You can combine (concatenate) `SeqRecord` obejects together as well"
   ]
  },
  {
   "cell_type": "code",
   "execution_count": null,
   "metadata": {},
   "outputs": [],
   "source": [
    "b = next(fasta_file)\n",
    "\n",
    "print(b)\n",
    "\n",
    "new_seq = a + b\n",
    "\n",
    "print(new_seq)\n",
    "print(len(new_seq))"
   ]
  },
  {
   "cell_type": "markdown",
   "metadata": {},
   "source": [
    "## Querying NCBI datasets\n",
    "The National Center for Biotechnology Information (NCBI) maintains several useful data repositories and databases for biological data. [Entrez](https://www.ncbi.nlm.nih.gov/Web/Search/entrezfs.html) is a web-based data retrieval system that provides access to the NCBI databases. Biopython provides tools to access and retrieve data through Entrez from within your programs or scripts. Lets see some examples of how we can use these tools. First, lets get some information about what databases are available to query."
   ]
  },
  {
   "cell_type": "code",
   "execution_count": null,
   "metadata": {},
   "outputs": [],
   "source": [
    "from Bio import Entrez\n",
    "\n",
    "# we must identify ourselves to the Entrez service in order to access\n",
    "Entrez.email = \"loyalgoff@jhmi.edu\"\n",
    "\n",
    "# make an initial connection in the form of a handle\n",
    "handle = Entrez.einfo()\n",
    "\n",
    "result = handle.read() # similar to reading a file\n",
    "\n",
    "handle.close() # close the handle when you are done\n",
    "\n",
    "print(result)\n"
   ]
  },
  {
   "cell_type": "markdown",
   "metadata": {},
   "source": [
    "The results are returned (by default) in XML format. But we can use Entrez's parser `Entrez.read` to read the handle and parse the XML directly into a more python-friendly dictionary."
   ]
  },
  {
   "cell_type": "code",
   "execution_count": null,
   "metadata": {},
   "outputs": [],
   "source": [
    "# make a new connection to Entrez\n",
    "handle = Entrez.einfo()\n",
    "\n",
    "result = Entrez.read(handle)\n",
    "\n",
    "result.keys() # returns a list of keys for the dictionary\n"
   ]
  },
  {
   "cell_type": "markdown",
   "metadata": {},
   "source": [
    "It seems this record has only one dictionary key called 'DbList' lets see whats inside"
   ]
  },
  {
   "cell_type": "code",
   "execution_count": null,
   "metadata": {},
   "outputs": [],
   "source": [
    "result['DbList']"
   ]
  },
  {
   "cell_type": "markdown",
   "metadata": {},
   "source": [
    "This is a list of all of the available databases which we can query with Entrez using the Biopython interface. We can recursively learn more about each of these databases by usine EInfo again."
   ]
  },
  {
   "cell_type": "code",
   "execution_count": null,
   "metadata": {},
   "outputs": [],
   "source": [
    "handle = Entrez.einfo(db=\"nucleotide\")\n",
    "\n",
    "result = Entrez.read(handle)\n",
    "\n",
    "print(result[\"DbInfo\"].keys())\n",
    "\n",
    "print(result[\"DbInfo\"][\"Description\"])\n",
    "print(result[\"DbInfo\"][\"LastUpdate\"])"
   ]
  },
  {
   "cell_type": "markdown",
   "metadata": {},
   "source": [
    "The `FieldList` element is a list of possible search fields for this database. Let's dig a bit deeper"
   ]
  },
  {
   "cell_type": "code",
   "execution_count": null,
   "metadata": {},
   "outputs": [],
   "source": [
    "for field in result['DbInfo']['FieldList']:\n",
    "    print(f'{field[\"Name\"]}\\t {field[\"FullName\"]}\\t {field[\"Description\"]}')"
   ]
  },
  {
   "cell_type": "markdown",
   "metadata": {},
   "source": [
    "Now you try and get information about another NCBI database through `Entrez.einfo()`"
   ]
  },
  {
   "cell_type": "code",
   "execution_count": null,
   "metadata": {},
   "outputs": [],
   "source": []
  },
  {
   "cell_type": "markdown",
   "metadata": {},
   "source": [
    "### Searching for gene information and ids\n",
    "Now we can use this information to begin to query the nucleotide database at NCBI using the above fields to construct our search. Lets see if we can search records associated with the human gene 'Notch1' using `esearch()` "
   ]
  },
  {
   "cell_type": "code",
   "execution_count": null,
   "metadata": {},
   "outputs": [],
   "source": [
    "handle = Entrez.esearch(\n",
    "                db = 'nucleotide',\n",
    "                term = \"Homo[Orgn] AND NOTCH1[Gene]\"\n",
    "    )\n",
    "\n",
    "result = Entrez.read(handle)\n",
    "\n",
    "print(result)\n",
    "\n",
    "print(result['Count'])"
   ]
  },
  {
   "cell_type": "markdown",
   "metadata": {},
   "source": [
    "We have identified 24 records associated with this gene.  Here we can see the Entrez IDs assocated with each record.  We will use these to 'fetch' the full record for the first few id records"
   ]
  },
  {
   "cell_type": "code",
   "execution_count": null,
   "metadata": {},
   "outputs": [],
   "source": [
    "notch1_ids = result['IdList']\n",
    "print(str(notch1_ids))"
   ]
  },
  {
   "cell_type": "code",
   "execution_count": null,
   "metadata": {},
   "outputs": [],
   "source": [
    "handle = Entrez.efetch(db=\"nucleotide\", id=notch1_ids[:2], rettype=\"fasta\", retmode=\"text\") # here we are specifically requesting these records in a fasta format\n",
    "\n",
    "results = SeqIO.parse(handle,'fasta') # and now we can pass this handle to Bio.SeqIO.parse to parse the handle into SeqRecord objects\n",
    "\n",
    "# and now we can loop through the list of 'SeqRecord' objects\n",
    "for res in results:\n",
    "    print(res.format('fasta'))"
   ]
  },
  {
   "cell_type": "markdown",
   "metadata": {},
   "source": [
    "Of course there are a number of different 'pythonic' ways in which you can achieve this as well.  For example:"
   ]
  },
  {
   "cell_type": "code",
   "execution_count": null,
   "metadata": {},
   "outputs": [],
   "source": [
    "with Entrez.efetch(\n",
    "    db=\"nucleotide\", rettype=\"gb\", retmode=\"text\", id=\"1389542951\"\n",
    ") as handle:\n",
    "    record = SeqIO.read(handle, \"gb\")\n",
    "print(f'Gene ID {record.id} contains {len(record.features)} features')"
   ]
  },
  {
   "cell_type": "code",
   "execution_count": null,
   "metadata": {},
   "outputs": [],
   "source": [
    "# Lets take a look at some of these features...\n",
    "\n",
    "for feature in record.features[:20]:\n",
    "    print(feature)\n",
    "    \n",
    "type(record.features[0])"
   ]
  },
  {
   "cell_type": "markdown",
   "metadata": {},
   "source": [
    "## Example in the real\n",
    "Lets try to do a common exercise in sequence analysis, and compare two sequences for similarity.  To do this, we will introduce you to a dot plot, which is a visual way of comparing sequences to each other. Let's compare the sequence of the same gene between mouse and human."
   ]
  },
  {
   "cell_type": "code",
   "execution_count": null,
   "metadata": {},
   "outputs": [],
   "source": [
    "# Pick a gene\n",
    "gene = \"Hoxc6\"\n",
    "\n",
    "\n",
    "# Search for human records\n",
    "handle = Entrez.esearch(\n",
    "                db = 'nucleotide',\n",
    "                term = f\"Homo[Orgn] AND {gene}[Gene]\"\n",
    "    )\n",
    "\n",
    "hum = Entrez.read(handle)\n",
    "\n",
    "humID = hum['IdList'][0]\n",
    "\n",
    "# Search for mouse records\n",
    "handle = Entrez.esearch(\n",
    "                db = 'nucleotide',\n",
    "                term = f\"Mus[Orgn] AND {gene}[Gene]\"\n",
    "    )\n",
    "\n",
    "mus = Entrez.read(handle)\n",
    "\n",
    "musID = mus['IdList'][0]\n",
    "\n",
    "#Retrieve full human record\n",
    "with Entrez.efetch(\n",
    "    db=\"nucleotide\", rettype=\"gb\", retmode=\"text\", id=humID\n",
    ") as handle:\n",
    "    hRecord = SeqIO.read(handle, \"gb\")\n",
    "    \n",
    "#Retrieve full mouse record\n",
    "with Entrez.efetch(\n",
    "    db=\"nucleotide\", rettype=\"gb\", retmode=\"text\", id=musID\n",
    ") as handle:\n",
    "    mRecord = SeqIO.read(handle, \"gb\")\n"
   ]
  },
  {
   "cell_type": "code",
   "execution_count": null,
   "metadata": {},
   "outputs": [],
   "source": [
    "#Calculate the similarity betwen the two sequences over a certain window size\n",
    "window = 10\n",
    "hSeq = hRecord.seq\n",
    "mSeq = mRecord.seq\n",
    "data = [[(hSeq[i:i+window] == mSeq[j:j+window]) for j in range(len(hSeq)-window)] for i in range(len(mSeq)-window)]"
   ]
  },
  {
   "cell_type": "code",
   "execution_count": null,
   "metadata": {},
   "outputs": [],
   "source": [
    "%matplotlib inline \n",
    "import seaborn as sns\n",
    "import matplotlib.pyplot as plt\n",
    "\n",
    "plt.rcParams[\"figure.figsize\"] = (12,8)\n",
    "\n",
    "ax = sns.heatmap(data)\n",
    "ax.set(xlabel=f'Human {gene}',ylabel=f'Mouse {gene}',title=f\"{gene} Dot Plot - Mouse vs Human\")\n",
    "plt.show()"
   ]
  }
 ],
 "metadata": {
  "kernelspec": {
   "display_name": "Python 3",
   "language": "python",
   "name": "python3"
  },
  "language_info": {
   "codemirror_mode": {
    "name": "ipython",
    "version": 3
   },
   "file_extension": ".py",
   "mimetype": "text/x-python",
   "name": "python",
   "nbconvert_exporter": "python",
   "pygments_lexer": "ipython3",
   "version": "3.7.0"
  }
 },
 "nbformat": 4,
 "nbformat_minor": 4
}

{
 "cells": [
  {
   "cell_type": "markdown",
   "metadata": {},
   "source": [
    "# Day1 - Afternoon - More *nix"
   ]
  },
  {
   "cell_type": "markdown",
   "metadata": {},
   "source": [
    "_Note: this is a static notebook (ie. not interactive). All exercises and commands in this session will be performed directly in a terminal window.  To launch a new terminal, click on `File>New>Terminal`._"
   ]
  },
  {
   "cell_type": "markdown",
   "metadata": {},
   "source": [
    "## Bash (shell) scripting\n",
    "\n",
    "* manage complex workflows more easily\n",
    "* work on a cluster\n",
    "    - distribute multiple similar jobs\n",
    "    - good responsible coding practice\n",
    "* beginning of reproducible research"
   ]
  },
  {
   "cell_type": "markdown",
   "metadata": {},
   "source": [
    "### A simple command"
   ]
  },
  {
   "cell_type": "markdown",
   "metadata": {},
   "source": [
    "```\n",
    "$ echo 'Hello, world!'\n",
    "```"
   ]
  },
  {
   "cell_type": "markdown",
   "metadata": {},
   "source": [
    "### Let's make it a script\n",
    "To make this command into a reuseable script, we just need to put it into a file. Let's create a file `hiscript.sh` and put this command inside. (.sh is conventionally used to denote bash script files)\n",
    "\n",
    "...\n",
    "\n",
    "Once we've created this new file, we can save it and run the script by calling it directly as so."
   ]
  },
  {
   "cell_type": "markdown",
   "metadata": {},
   "source": [
    "```\n",
    "$ bash hiscript.sh\n",
    "```"
   ]
  },
  {
   "cell_type": "markdown",
   "metadata": {},
   "source": [
    "`bash` is the bash 'shell interpreter'"
   ]
  },
  {
   "cell_type": "markdown",
   "metadata": {},
   "source": [
    "Technically, we should add a bit more information to our file to make it an autonomous program"
   ]
  },
  {
   "cell_type": "markdown",
   "metadata": {},
   "source": [
    "```\n",
    "#!/bin/bash\n",
    "\n",
    "echo 'Hello, world'\n",
    "```\n",
    "\n",
    "The 'shebang' (hash-bang) tells the computer what interpreter to use to run this command. It could be bash, as we have here, or perl, python etc."
   ]
  },
  {
   "cell_type": "markdown",
   "metadata": {},
   "source": [
    "finally, we need to change the permissions on the file. This makes the file into an executable program. Here we are adding the 'execute' permission to the file\n",
    "\n",
    "```\n",
    "$ chmod a+x hiscript.sh\n",
    "```\n",
    "\n",
    "And now we can run the file directly as an executable program.\n",
    "\n",
    "```\n",
    "$ ./hiscript.sh\n",
    "```"
   ]
  },
  {
   "cell_type": "markdown",
   "metadata": {},
   "source": [
    "### Permissions\n",
    "Lets take a look again at the files in our directory"
   ]
  },
  {
   "cell_type": "code",
   "execution_count": 1,
   "metadata": {},
   "outputs": [
    {
     "name": "stdout",
     "output_type": "stream",
     "text": [
      "total 3304\n",
      "-rw-r--r--  1 loyalgoff  staff   1.1K Aug 27 20:57 Day1-overview.md\n",
      "-rw-r--r--  1 loyalgoff  staff   994B Aug 27 20:57 Day1.0-Morning-Review_of_prereq_assignments.ipynb\n",
      "-rw-r--r--  1 loyalgoff  staff   1.2M Aug 27 21:06 Day1.1-Morning-Unix_I.ipynb\n",
      "-rw-r--r--  1 loyalgoff  staff   376K Aug 27 20:57 Day1.2-Morning-Intro_to_git_and_GitHub.ipynb\n",
      "-rw-r--r--  1 loyalgoff  staff   8.6K Aug 27 21:41 Day1.3 - Afternoon - Unix_and_Bash.ipynb\n",
      "drwxr-xr-x  3 loyalgoff  staff    96B Aug 27 20:57 data\n"
     ]
    }
   ],
   "source": [
    "%%bash\n",
    "ls -lh"
   ]
  },
  {
   "cell_type": "markdown",
   "metadata": {},
   "source": [
    "The first set of characters in each returned line details the permissions of the file. The permissions are assigned based on three different 'levels' of users, and there are three types of permissions:\n",
    "\n",
    "<img src=\"attachment:9db34afb-50c6-41dd-be47-1ea6eead8fca.png\" alt=\"Drawing\" style=\"width: 200px;\"/>\n",
    "\n",
    "Specific permissions on a given file are added or removed for each 'level' using `chmod`\n",
    "\n",
    "```\n",
    "$ touch testfile  #creates an empty file named testfile\n",
    "$ ls -l testfile   #what are the default permissions?\n",
    "$ chmod +x testfile ##sets the execute bit for owner, group and world.\n",
    "```\n",
    "\n",
    "```\n",
    "$ chmod 755 testfile ##sets rwx permissions for owner, r-x for group and world.\n",
    "```"
   ]
  },
  {
   "cell_type": "markdown",
   "metadata": {},
   "source": [
    "## Variables\n",
    "```\n",
    "$ nano testscript.sh\n",
    "\n",
    "#!/bin/bash\n",
    "\n",
    "echo \"x=$x\"\n",
    "x=1   # when assigning shell variables you\n",
    "      # cannot leave any spaces around the = sign\n",
    "echo \"x=$x\"\n",
    "y=2\n",
    "echo \"y=$y\"\n",
    "y=$x\n",
    "echo \"y=$y\"\n",
    "```\n",
    "Save the script, give it executable permissions, and run.\n"
   ]
  },
  {
   "cell_type": "markdown",
   "metadata": {},
   "source": [
    "## A practical example\n",
    "how many genes are annotated on chromosome 19 in the file, hg38genes.txt?\n",
    "\n",
    "remember pipes?\n",
    "\n",
    "`$ grep chr19 data/hg38genes.txt | wc -l`\n",
    "\n",
    "### Looping with a script\n",
    "\n",
    "Now lets get the number of genes on chromosomes 11, 12, 13, and 14. We could do each separately but that’s more typing and risks mistakes.\n",
    "\n",
    "Let’s write a script for this . . ."
   ]
  },
  {
   "cell_type": "markdown",
   "metadata": {},
   "source": [
    "```\n",
    "$ nano countgenes.sh\n",
    "\n",
    "#!/bin/bash\n",
    "\n",
    "for i in chr11 chr12 chr13 chr14\n",
    "do\n",
    "   echo $i\n",
    "   grep $i hg38genes.txt | wc -l\n",
    "done\n",
    "```"
   ]
  },
  {
   "cell_type": "markdown",
   "metadata": {},
   "source": [
    "### A script with terminal input"
   ]
  },
  {
   "cell_type": "markdown",
   "metadata": {},
   "source": [
    "```\n",
    "$ nano inputscript.sh\n",
    "\n",
    "#!/bin/bash\n",
    "echo \"this script takes input from the terminal.\"\n",
    "echo \"type an integer between 1 and 10:\"\n",
    "read MYNUM\n",
    "echo \"you typed $MYNUM\"\n",
    "```"
   ]
  },
  {
   "cell_type": "markdown",
   "metadata": {},
   "source": [
    "### Practice exercises\n",
    "\n",
    "1. Write a script that uses grep, cut, sort, and uniq with pipes to print the number of genes in hg38genes.txt annotated on each chromosome on the plus strand and the number of genes on the minus strand, for chromosomes 14, 15, 16, and 17.\n",
    "\n",
    "2. Write a script that accepts terminal input and that will count the number of genes on the chromosome specified. The input should be only numerical, so your program will need to prepend the string chr. Be sure to use the -w option with grep so that chr1 really does only retrieve chr1 and not chr10, chr11 etc."
   ]
  },
  {
   "cell_type": "markdown",
   "metadata": {},
   "source": [
    "## While loops\n",
    "\n",
    "`while` will continue executing the code in the loop as long as its condition is true:\n",
    "\n",
    "```\n",
    "$ nano while.sh\n",
    "\n",
    "VAR=1\n",
    "while [ $VAR -lt 5 ]\n",
    "do\n",
    "    echo \"VAR=$VAR\"\n",
    "    VAR=$[ VAR+1 ]\n",
    "done\n",
    "```\n",
    "\n",
    "NOTE that the test evaluation  [  is actually a program! so you need spaces before and after the square bracket. Possible tests for integers include -eq, -lt, -gt, -le, -ge. Strings can be compared with = and != . Lots of other tests are possible.\n"
   ]
  },
  {
   "cell_type": "markdown",
   "metadata": {},
   "source": [
    "it’s easy to write a while loop that never finishes. Remember control-c will kill a running/runaway process.\n",
    "\n",
    "example of while loop that never terminates:\n",
    "\n",
    "```\n",
    "VAR=1\n",
    "while [ $VAR -lt 5 ]\n",
    "do\n",
    "    echo \"VAR=$VAR\"\n",
    "done\n",
    "```"
   ]
  },
  {
   "cell_type": "markdown",
   "metadata": {},
   "source": [
    "## Conditions\n",
    "\n",
    "if-then-else statements are very useful, when you want to execute code only if some condition is met. ‘fi’ terminates the if statement.\n",
    "\n",
    "```\n",
    "VAR=2\n",
    "if [ $VAR -gt 5 ] ; then\n",
    "    echo \"VAR > 5\"\n",
    "else\n",
    "    echo \"VAR <= 5\"\n",
    "fi\n",
    "```"
   ]
  },
  {
   "cell_type": "markdown",
   "metadata": {},
   "source": [
    "additional “else” statements can be added, using elif:\n",
    "\n",
    "```\n",
    "VAR=2\n",
    "if [ $VAR -gt 5 ] ; then\n",
    "    echo \"VAR > 5\"\n",
    "elif [ $VAR -lt 0 ]; then\n",
    "    echo \"VAR < 0\"\n",
    "else\n",
    "    echo \"0 <= VAR <= 5\"\n",
    "fi\n",
    "```"
   ]
  },
  {
   "cell_type": "markdown",
   "metadata": {},
   "source": [
    "## Conditional arguments\n",
    "\n",
    "```\n",
    "$ nano args.sh\n",
    "\n",
    "#!/bin/bash\n",
    "\n",
    "echo \"the first argument is $1.\"\n",
    "echo \"the second argument is $2.\"\n",
    "echo \"the number of arguments is $#.\"\n",
    "echo \"the name of the program is $0.\"\n",
    "echo \"\\$@ is a variable with all arguments: $@\"\n",
    "\n",
    "\n",
    "$ ./args.sh argument1 arg2 another argument\n",
    "```\n",
    "\n",
    "#### Exercise:\n",
    "1. Create a bash script that takes two arguments: a string, and an integer. The output of the script should be to repeat the input string as many times as indicated by the second argument.\n"
   ]
  },
  {
   "cell_type": "markdown",
   "metadata": {},
   "source": [
    "## Reading file(s)/lines\n",
    "When you are working on bash scripts, sometimes you may need to read a file line by line.\n",
    "\n",
    "```\n",
    "#!/bin/bash\n",
    "\n",
    "file='data/authors.txt'\n",
    "n=1\n",
    "while read line; do\n",
    "    echo \"Line $n : $line\"\n",
    "    n=$((n+1))\n",
    "done < $file\n",
    "```\n",
    "Let's deconstruct what's actually happening in this script.\n"
   ]
  },
  {
   "cell_type": "markdown",
   "metadata": {},
   "source": [
    "## cut | sort | uniq\n",
    "\n",
    "### `cut` - remove sections from each line of files\n",
    "cut can grab columns of data from a delimited (in this case tab-delimited) \n",
    "\n",
    "```\n",
    "$ man cut\n",
    "\n",
    "$ cut -f1 data/hg38genes.txt\n",
    "\n",
    "# cut -f2,3 data/hg38genes.txt\n",
    "```\n",
    "\n",
    "### `sort` - sort or merge records (lines) of text and binary files\n",
    "We can combine the power of `cut` with another command-line tool, `sort` by using the pipe (`|`) operator.\n",
    "\n",
    "```\n",
    "# sort all chromosomes\n",
    "$ cut -f1 data/hg38genes.txt | sort \n",
    "\n",
    "# sort all start positions\n",
    "$ cut -f2 data/hg38genes.txt | sort\n",
    "```\n",
    "^ What happened here? let's `man sort` to see if we can figure out a solution.\n",
    "\n",
    "### `uniq` - report or filter out repeated lines in a file\n",
    "As it's name implies, `uniq` will take the input provided and collapse it to the unique set of rows.\n",
    "When combined with `cut` and `sort` this can be a very handy set of tools for summarizing tabular data in files.\n",
    "\n",
    "```\n",
    "#Find unique chromosome names\n",
    "$ cut -f1 data/hg38genes.txt | sort | uniq\n",
    "```\n",
    "What if we added the argument `-c` to `uniq`? (hint: `man uniq` for answer)\n",
    "\n",
    "#### Exercises:\n",
    "Using the combination of `cut | sort | uniq`, find:\n",
    "\n",
    "1. How many genes are on each strand ('+', '-') in the file hg38genes.txt?\n",
    "\n",
    "2. How many genes are on each strand, for each chromosome?\n",
    "\n"
   ]
  },
  {
   "cell_type": "markdown",
   "metadata": {},
   "source": [
    "## awk\n",
    "awk is an incredibly powerful unix utility for manipulating data/files!\n",
    "\n",
    "```\n",
    "$ awk '{print $1}' data/hg38genes.txt  # assumes tab/space delimited columns\n",
    "$ awk '{if ($1==\"chr2\") print $5}' data/hg38genes.txt\n",
    "\n",
    "$ awk '{print $2,$3}' data/hg38genes.txt # you can print out multiple columns\n",
    "$ awk '{print $3-$2}' data/hg38genes.txt # even perform operations on different columns\n",
    "\n",
    "\n",
    "$ awk '{if ($5 ~ /MIR/) print}' data/hg38genes.txt \n",
    "$ awk '{if ($5 ~ /MIR/ && $1!=\"chr3\") print}' data/hg38genes.txt\n",
    "```"
   ]
  },
  {
   "cell_type": "markdown",
   "metadata": {},
   "source": [
    "## sed\n",
    "The unix string editor, is also a very useful tool. There are many modes but one of the most useful works like find-and-substitute, where the pattern to find is given first and the substitution next.\n",
    "\n",
    "```\n",
    "$ sed -e s/chr/CHR/ data/hg38genes.txt\n",
    "```\n",
    "\n",
    "This will find the first occurrence of chr in each line and substitute it with CHR. To substitute all occurrences, specify ‘global’: \n",
    "\n",
    "```\n",
    "$ sed -e s/chr/CHR/g data/hg38genes.txt\n",
    "```\n"
   ]
  },
  {
   "cell_type": "markdown",
   "metadata": {},
   "source": [
    "## Review\n",
    "Let's stop here for the day:\n",
    "\n",
    "- Review outstanding questions/comments\n",
    "- Review of any particular questions\n",
    "- Homework quiz/problem set"
   ]
  }
 ],
 "metadata": {
  "kernelspec": {
   "display_name": "Python 3",
   "language": "python",
   "name": "python3"
  },
  "language_info": {
   "codemirror_mode": {
    "name": "ipython",
    "version": 3
   },
   "file_extension": ".py",
   "mimetype": "text/x-python",
   "name": "python",
   "nbconvert_exporter": "python",
   "pygments_lexer": "ipython3",
   "version": "3.7.6"
  }
 },
 "nbformat": 4,
 "nbformat_minor": 4
}

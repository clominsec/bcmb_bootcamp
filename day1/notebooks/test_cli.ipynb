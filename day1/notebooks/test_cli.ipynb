{
 "cells": [
  {
   "cell_type": "code",
   "execution_count": 1,
   "metadata": {},
   "outputs": [
    {
     "name": "stdout",
     "output_type": "stream",
     "text": [
      "/Users/loyalgoff/Google Drive/Work/Goff Lab/Teaching/BCMB/bcmb_bootcamp2020/day1/notebooks\n"
     ]
    }
   ],
   "source": [
    "pwd"
   ]
  },
  {
   "cell_type": "code",
   "execution_count": 6,
   "metadata": {},
   "outputs": [
    {
     "name": "stdout",
     "output_type": "stream",
     "text": [
      ">test_dna_sequence_1\n",
      "TGGCGTTGTCTTTAATTCGATTAGCATTGCATATCGATTATCTAGCGATATGCTATGCTTAGC\n",
      "\u001b[K\u001b[?1l\u001b>a (END)\u001b[27m\u001b[K\u0007"
     ]
    }
   ],
   "source": [
    "more test.fa"
   ]
  },
  {
   "cell_type": "code",
   "execution_count": 7,
   "metadata": {},
   "outputs": [
    {
     "name": "stdout",
     "output_type": "stream",
     "text": [
      ">test_dna_sequence_1\n"
     ]
    }
   ],
   "source": [
    "head -n1 test.fa"
   ]
  },
  {
   "cell_type": "code",
   "execution_count": 4,
   "metadata": {},
   "outputs": [
    {
     "name": "stdout",
     "output_type": "stream",
     "text": [
      "a\n",
      "b\n",
      "c\n"
     ]
    }
   ],
   "source": [
    "for i in a b c;\n",
    "do\n",
    "echo $i;\n",
    "done"
   ]
  }
 ],
 "metadata": {
  "kernelspec": {
   "display_name": "Bash",
   "language": "bash",
   "name": "bash"
  },
  "language_info": {
   "codemirror_mode": "shell",
   "file_extension": ".sh",
   "mimetype": "text/x-sh",
   "name": "bash"
  }
 },
 "nbformat": 4,
 "nbformat_minor": 4
}

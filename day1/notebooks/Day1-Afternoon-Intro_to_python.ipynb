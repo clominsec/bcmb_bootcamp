{
 "cells": [
  {
   "cell_type": "markdown",
   "metadata": {},
   "source": [
    "# Introduction to Python"
   ]
  },
  {
   "cell_type": "markdown",
   "metadata": {},
   "source": [
    "## What is python?"
   ]
  },
  {
   "cell_type": "markdown",
   "metadata": {},
   "source": [
    "## Using Python"
   ]
  },
  {
   "cell_type": "markdown",
   "metadata": {},
   "source": [
    "### The python shell\n",
    "The python shell, similar to the bash shell, allows us to use python in an interactive manner. You enter in one command at a time and the result is immediately returned.  The python shell can be called directly from the terminal with the command `python`"
   ]
  },
  {
   "cell_type": "markdown",
   "metadata": {},
   "source": [
    "This is a very convenient tool for testing python commands, and for getting started with the language, but it is not very useful for creating actual programs and or scripts to run. To make an actual program, you will need to put your code in a text file and save it with a `.py` extension."
   ]
  },
  {
   "cell_type": "markdown",
   "metadata": {},
   "source": [
    "### Python scripts\n",
    "To create a python script, we can click on File > New > Text File in the top menu above. This will open the Jupyter Lab text editor in which we are going to create our very first python program. [\"Hello World\" \n",
    "demonstration]"
   ]
  },
  {
   "cell_type": "markdown",
   "metadata": {},
   "source": [
    "### IPython Notebooks\n",
    "Another way in which we can use python is how we are doing so here."
   ]
  },
  {
   "cell_type": "markdown",
   "metadata": {},
   "source": [
    "## The Basics\n",
    "If you ever get lost or need more information about how a function or object works in python, you can use the `help()` function. "
   ]
  },
  {
   "cell_type": "code",
   "execution_count": null,
   "metadata": {},
   "outputs": [],
   "source": [
    "help()"
   ]
  },
  {
   "cell_type": "code",
   "execution_count": null,
   "metadata": {},
   "outputs": [],
   "source": [
    "help('+')"
   ]
  },
  {
   "cell_type": "code",
   "execution_count": null,
   "metadata": {},
   "outputs": [],
   "source": [
    "help(open)"
   ]
  },
  {
   "cell_type": "markdown",
   "metadata": {},
   "source": [
    "### Variables"
   ]
  },
  {
   "cell_type": "markdown",
   "metadata": {},
   "source": [
    "### Data Types\n",
    "In python, like most programming languages 'data type' is an important concept. When you store data in variables, you need to be aware of _how_ that data is being stored. This is referred to as a data type.  Different data types can do different things and can interact with different 'operators' (e.g. '+, -, *, &, etc' in distinct ways.  For example the `+` operator will sum the values of two variables that contain numbers:"
   ]
  },
  {
   "cell_type": "code",
   "execution_count": null,
   "metadata": {},
   "outputs": [],
   "source": [
    "a = 2\n",
    "b = 3\n",
    "a+b"
   ]
  },
  {
   "cell_type": "markdown",
   "metadata": {},
   "source": [
    "but it will concatenate two variables that contain strings:"
   ]
  },
  {
   "cell_type": "code",
   "execution_count": null,
   "metadata": {},
   "outputs": [],
   "source": [
    "a = '2'\n",
    "b = '3'\n",
    "a+b"
   ]
  },
  {
   "cell_type": "markdown",
   "metadata": {},
   "source": [
    "The following data types are 'built-in' by default in python:\n",
    "    \n",
    "* Text Type:\t`str`\n",
    "* Numeric Types:\t`int`, `float`\n",
    "* Sequence Types:\t`list`, `tuple`, `range`\n",
    "* Mapping Type:\t`dict`\n",
    "* Set Types:\t`set`\n"
   ]
  },
  {
   "cell_type": "markdown",
   "metadata": {},
   "source": [
    "You can always check to see what 'type' a variable is by using the `type()` function"
   ]
  },
  {
   "cell_type": "code",
   "execution_count": null,
   "metadata": {},
   "outputs": [],
   "source": [
    "x = 5\n",
    "type(x)"
   ]
  },
  {
   "cell_type": "markdown",
   "metadata": {},
   "source": [
    "Python will automatically set the data type when you create a variable under certain conditions."
   ]
  },
  {
   "cell_type": "code",
   "execution_count": null,
   "metadata": {},
   "outputs": [],
   "source": [
    "x = \"myString\" # str\n",
    "x = 10         # int\n",
    "x = 10.0       # float\n",
    "x = ['pizza','apple','hotdog']  # list\n",
    "x = ('pizza','apple','hotdog')  # tuple\n",
    "x = {'pizza','apple','hotdog'}  # set\n",
    "x = range(10)  # range\n",
    "x = {\"name\": \"Loyal\", \"age\": 41, \"department\" : \"neuroscience\"}  # dict\n",
    "x = True       # bool\n"
   ]
  },
  {
   "cell_type": "markdown",
   "metadata": {},
   "source": [
    "You can also explictly set the data type that you want by using standard functions. This is known as 'casting' a force or change variable to be a specific type."
   ]
  },
  {
   "cell_type": "code",
   "execution_count": null,
   "metadata": {},
   "outputs": [],
   "source": [
    "x = str(5)\n",
    "x"
   ]
  },
  {
   "cell_type": "code",
   "execution_count": null,
   "metadata": {},
   "outputs": [],
   "source": [
    "x = float(4)\n",
    "x"
   ]
  },
  {
   "cell_type": "markdown",
   "metadata": {},
   "source": [
    "### Number types\n",
    "\n",
    "`int` (integer) numbers are whole numbers (positive or negative) without decimals.  There is no limit to the size of an integer in python."
   ]
  },
  {
   "cell_type": "code",
   "execution_count": null,
   "metadata": {},
   "outputs": [],
   "source": [
    "a = 3\n",
    "b = 29398752398757573292375982737575\n",
    "c = -42"
   ]
  },
  {
   "cell_type": "markdown",
   "metadata": {},
   "source": [
    "The integer type should be used for numbers that will always be whole for their operations.  Think of counting the number of bases in a DNA sequence, or counting the number of times something happens.  You will almost never have a 'partial' quantity for these values.  But be careful of how `int` types are handled when you do certain types of operations:"
   ]
  },
  {
   "cell_type": "code",
   "execution_count": null,
   "metadata": {},
   "outputs": [],
   "source": [
    "a = 5\n",
    "b = 10\n",
    "c = 10/5\n",
    "print(c)\n",
    "type(c)"
   ]
  },
  {
   "cell_type": "markdown",
   "metadata": {},
   "source": [
    "The `float` type is for 'floating point numbers'.  These can be positive or negative and can contain one or more decimals. The `float` type can be specified by adding a decimal value to the end of a number when assigned to a variable:"
   ]
  },
  {
   "cell_type": "code",
   "execution_count": null,
   "metadata": {},
   "outputs": [],
   "source": [
    "a = 5.0\n",
    "b = 1.467283\n",
    "c = -14.22"
   ]
  },
  {
   "cell_type": "markdown",
   "metadata": {},
   "source": [
    "The 'float' type can also be scientific notation by adding an `e` to indicate the power of 10:"
   ]
  },
  {
   "cell_type": "code",
   "execution_count": null,
   "metadata": {},
   "outputs": [],
   "source": [
    "x = 2e4\n",
    "print(x)\n",
    "\n",
    "y = -63.5e100\n",
    "print(y)"
   ]
  },
  {
   "cell_type": "markdown",
   "metadata": {},
   "source": [
    "You can convert from one type to another with the `int()` and `float()` functions."
   ]
  },
  {
   "cell_type": "markdown",
   "metadata": {},
   "source": [
    "### Strings\n",
    "Strings or string literals are generally denoted by enclosing them in quotes; either single (`'`) or double (`\"`) quotes:"
   ]
  },
  {
   "cell_type": "code",
   "execution_count": null,
   "metadata": {},
   "outputs": [],
   "source": [
    "print(\"Welcome to BCMB!\")"
   ]
  },
  {
   "cell_type": "markdown",
   "metadata": {},
   "source": [
    "You can assign a string to a variable in the same way."
   ]
  },
  {
   "cell_type": "code",
   "execution_count": null,
   "metadata": {},
   "outputs": [],
   "source": [
    "a = \"Welcome to BCMB!\"\n",
    "print(a)"
   ]
  },
  {
   "cell_type": "markdown",
   "metadata": {},
   "source": [
    "Sometimes strings will span multiple lines.  If this is the case, it is convention to enclose them in triple quotes:"
   ]
  },
  {
   "cell_type": "code",
   "execution_count": null,
   "metadata": {},
   "outputs": [],
   "source": [
    "b = \"\"\"Welcome to BCMB!\n",
    "You've chosen the most exciting graduate program at JHU.\"\"\"\n",
    "\n",
    "print(b)"
   ]
  },
  {
   "cell_type": "markdown",
   "metadata": {},
   "source": [
    "### Strings, substrings, and slicing\n",
    "Strings in python are stored as 'arrays of bytes' representing each charcater, which bascially means that \"Hello\" is actually stored in python in something akin to a list: `[\"H\",\"e\",\"l\",\"l\",\"o\"]`.  So we can access, edit, and manipulate different parts of a string (or any other array) by 'slicing' with square brackets. Its important to recognize when doing this that python is a '0-indexed' language which means that any time you count in python, you always start with 0. Lets see how this works in practice:"
   ]
  },
  {
   "cell_type": "code",
   "execution_count": null,
   "metadata": {},
   "outputs": [],
   "source": [
    "# Create a string literal and store in a variable\n",
    "a = \"Genomics is fun\"\n",
    "\n",
    "# To retrieve the second character in this string we will slice as so\n",
    "print(a[1])\n",
    "\n",
    "# To retrieve a range of positions, we will separate the start and end using ':'\n",
    "print(a[2:6])\n",
    "\n",
    "# You can use negative values to start the slice from the end of the string\n",
    "print(a[-6:-1])\n",
    "\n",
    "# You can leave either side of the ':' black to represent the beginning or end of a string respectively\n",
    "print(a[:8])\n",
    "\n",
    "print(a[9:])"
   ]
  },
  {
   "cell_type": "markdown",
   "metadata": {},
   "source": [
    "Slicing is a fundamental concept in python for accessing any set of elements in an array (not just strings). You will use this often."
   ]
  },
  {
   "cell_type": "markdown",
   "metadata": {},
   "source": [
    "Strings have several functions that are available for some common queries and manipulations:"
   ]
  },
  {
   "cell_type": "code",
   "execution_count": null,
   "metadata": {},
   "outputs": [],
   "source": [
    "# Get the length of the string\n",
    "print(len(a))\n",
    "\n",
    "# Convert the string to lower case\n",
    "print(a.lower())\n",
    "\n",
    "# upper?\n",
    "\n",
    "# You can strip off excess white space\n",
    "b = \"My favorite gene is Pantr2.   \"\n",
    "print(b.strip())\n",
    "\n",
    "# You can replace portions of the string\n",
    "print(a.replace(\"fun\",\"hard\"))\n",
    "\n",
    "# or split a string into substrings based on a 'separator'\n",
    "print(a.split(\" \"))\n"
   ]
  },
  {
   "cell_type": "markdown",
   "metadata": {},
   "source": [
    "You can also test for instances of a substring within a string (note the use of a new syntax here that we will explore later)"
   ]
  },
  {
   "cell_type": "code",
   "execution_count": null,
   "metadata": {},
   "outputs": [],
   "source": [
    "a = \"She sells seashells by the seashore.\"\n",
    "x = \"sea\" in a\n",
    "print(x)\n",
    "\n",
    "y = \"sho\" in a\n",
    "print(y)\n",
    "\n",
    "z = \"sho\" not in a\n",
    "print(z)\n",
    "print(type(z))"
   ]
  },
  {
   "cell_type": "markdown",
   "metadata": {},
   "source": [
    "You can combine strings directly (concatenate) using the `+` operator as we discussed above:"
   ]
  },
  {
   "cell_type": "code",
   "execution_count": null,
   "metadata": {},
   "outputs": [],
   "source": [
    "a = \"Toad\"\n",
    "b = \"the\"\n",
    "c = \"wet\"\n",
    "d = \"Sprocket\"\n",
    "\n",
    "print(a + b + c + d)"
   ]
  },
  {
   "cell_type": "markdown",
   "metadata": {},
   "source": [
    "Whoops...we may want to format this a bit better to add a separator. Fortunately, python provides a convenient way to format strings called 'f-strings'. Simply add the variables in a new string and enclose them with curly braces `{}`."
   ]
  },
  {
   "cell_type": "code",
   "execution_count": null,
   "metadata": {},
   "outputs": [],
   "source": [
    "text = f\"The best band ever is {a} {b} {c} {d}!\"\n",
    "print(text)"
   ]
  },
  {
   "cell_type": "markdown",
   "metadata": {},
   "source": [
    "This is a _very_ useful tool for formatting output strings containing useful pieces of information in your code/scripts"
   ]
  },
  {
   "cell_type": "code",
   "execution_count": null,
   "metadata": {},
   "outputs": [],
   "source": [
    "gc = 56\n",
    "name = 'Pantr2'\n",
    "chromosome = 'chr4'\n",
    "\n",
    "summary = f\"The {name} gene is located on chromosome '{chromosome}' and has a GC content of {gc}%\"\n",
    "\n",
    "print(summary)"
   ]
  },
  {
   "cell_type": "markdown",
   "metadata": {},
   "source": [
    "There are a number of methods for manipulating/searching/testing strings that are built in to python. Feel free to [check them out](https://docs.python.org/2.5/lib/string-methods.html) and test them on your own."
   ]
  },
  {
   "cell_type": "markdown",
   "metadata": {},
   "source": [
    "## Boolean type\n",
    "The Boolean type refers predominantly to logical tests, and ultimately, `type: bool` can only have two values: `True` or `False` (case sensitive). There are often times when you need to test a value or an expression. In python the value returned from these test is a `bool`:"
   ]
  },
  {
   "cell_type": "code",
   "execution_count": null,
   "metadata": {},
   "outputs": [],
   "source": [
    "print(14 > 3)\n",
    "print(14 == 3)\n",
    "print(14 < 3)"
   ]
  },
  {
   "cell_type": "markdown",
   "metadata": {},
   "source": [
    "You can use `bool` values and variables to help control the flow of your code. For example, we could print a message based on whether or not a condition is `True`."
   ]
  },
  {
   "cell_type": "code",
   "execution_count": null,
   "metadata": {},
   "outputs": [],
   "source": [
    "a = 50\n",
    "b = 100\n",
    "\n",
    "if a < b:\n",
    "    print (\"a is the smaller value\")\n",
    "else:\n",
    "    print(\"b is the smaller value\")"
   ]
  },
  {
   "cell_type": "markdown",
   "metadata": {},
   "source": [
    "## Collection Data types\n",
    "Collection data types store groups of `items`. Items can be named variables, or objects of other data types, including other collections (nested). There are four main collection data types, each with their own properties/assets:\n",
    "    \n",
    "1. A *List* is an _ordered_ collection and is _mutable_. It can also hold duplicate items.\n",
    "2. A *Tuple* is an _ordered_ collection and is _immutable_. It also allows for duplicate items.\n",
    "3. A *Set* is an _unordered_ collection and _unindexed_. It does _not_ allow for duplicate items.\n",
    "4. A *Dictionary* is an _unordered_ collection which is _mutable_ and _indexed_. It does not allow for duplicate index keys.\n"
   ]
  },
  {
   "cell_type": "markdown",
   "metadata": {},
   "source": [
    "### Lists\n",
    "A list is instantiated using square brakets `[]`"
   ]
  },
  {
   "cell_type": "code",
   "execution_count": null,
   "metadata": {},
   "outputs": [],
   "source": [
    "genes = ['Gapdh','Mef2c','Pax6','Cxcl1','Msi1']"
   ]
  },
  {
   "cell_type": "markdown",
   "metadata": {},
   "source": [
    "You can access list items by referring to the index number (remember that python is zero-indexed)."
   ]
  },
  {
   "cell_type": "code",
   "execution_count": null,
   "metadata": {},
   "outputs": [],
   "source": [
    "print(genes[1])\n",
    "\n",
    "print(genes[-2]) # negative indexing to select items from the end of the list. (-1 refers to the last item)\n",
    "\n",
    "print(genes[1:3]) # you select a range using \":\" (returns a new list)"
   ]
  },
  {
   "cell_type": "markdown",
   "metadata": {},
   "source": [
    "Since `list` items are mutable, you can change any specific item by refering to it's index number"
   ]
  },
  {
   "cell_type": "code",
   "execution_count": null,
   "metadata": {},
   "outputs": [],
   "source": [
    "genes[2] = 'Sox10'\n",
    "print(genes)"
   ]
  },
  {
   "cell_type": "markdown",
   "metadata": {},
   "source": [
    "`list` collections (like all collection items) are _iterable_, meaning you can loop through elements."
   ]
  },
  {
   "cell_type": "code",
   "execution_count": null,
   "metadata": {},
   "outputs": [],
   "source": [
    "for x in genes:\n",
    "    print(x.upper())"
   ]
  },
  {
   "cell_type": "markdown",
   "metadata": {},
   "source": [
    "To add items to a list (at the end) you can use the `append()` function"
   ]
  },
  {
   "cell_type": "code",
   "execution_count": null,
   "metadata": {},
   "outputs": [],
   "source": [
    "genes.append('Foxp1')\n",
    "\n",
    "print(genes)"
   ]
  },
  {
   "cell_type": "markdown",
   "metadata": {},
   "source": [
    "Conversely, you remove using several methods:"
   ]
  },
  {
   "cell_type": "code",
   "execution_count": null,
   "metadata": {},
   "outputs": [],
   "source": [
    "genes.remove('Mef2c') # removes a 'specific' item\n",
    "print(genes)\n",
    "\n",
    "genes.pop() # removes a specified index position or the last item in the list if index is not specified.\n",
    "print(genes)\n",
    "\n",
    "genes.clear() # empties the entire list\n",
    "print(genes)"
   ]
  },
  {
   "cell_type": "markdown",
   "metadata": {},
   "source": [
    "To join two lists, you can use the `+` operator"
   ]
  },
  {
   "cell_type": "code",
   "execution_count": null,
   "metadata": {},
   "outputs": [],
   "source": [
    "fruit = ['apple', 'banana','pear']\n",
    "veg = ['carrot','celery','potato']\n",
    "\n",
    "food = fruit + veg\n",
    "\n",
    "print(food)"
   ]
  },
  {
   "cell_type": "markdown",
   "metadata": {},
   "source": [
    "### Tuples"
   ]
  },
  {
   "cell_type": "markdown",
   "metadata": {},
   "source": [
    "Tuples operate very similar to lists, but once instantiatied, the items in a tuple cannot be changed. Tuples are created with round brackets `()`. This is a useful data type to hold values associated with a single 'record'.  For example if you wanted to record specific information about a single gene like its name, chromosome, and start position:"
   ]
  },
  {
   "cell_type": "code",
   "execution_count": null,
   "metadata": {},
   "outputs": [],
   "source": [
    "a = ('Sox2','chr4',1589182)\n",
    "b = ('Xist','chrX',23564335)"
   ]
  },
  {
   "cell_type": "markdown",
   "metadata": {},
   "source": [
    "You access individual elements of a tuple in the same way as a list"
   ]
  },
  {
   "cell_type": "code",
   "execution_count": null,
   "metadata": {},
   "outputs": [],
   "source": [
    "print(a[0])\n",
    "\n",
    "print(b[1])"
   ]
  },
  {
   "cell_type": "markdown",
   "metadata": {},
   "source": [
    "You can also loop through a tuple since it it iterable."
   ]
  },
  {
   "cell_type": "code",
   "execution_count": null,
   "metadata": {},
   "outputs": [],
   "source": [
    "for val in a:\n",
    "    print(val)"
   ]
  },
  {
   "cell_type": "markdown",
   "metadata": {},
   "source": [
    "Once you create a tuple, you cannot change the values, and you cannot add items to it."
   ]
  },
  {
   "cell_type": "markdown",
   "metadata": {},
   "source": [
    "## Dictionaries\n",
    "Dictionaries are 'indexed' collections, meaning the _values_ within the collection each must have a unique _key_. You can create a dictionary using curly braces `{}`."
   ]
  },
  {
   "cell_type": "code",
   "execution_count": null,
   "metadata": {},
   "outputs": [],
   "source": [
    "myGene = {\n",
    "    'name': 'Sox2',\n",
    "    'entrezID': 6657,\n",
    "    'Ensembl': 'ENSG00000181449',\n",
    "    'chromosome': 'chr3',\n",
    "    'start': 181711925,\n",
    "    'end': 181714436,\n",
    "    'strand': '-'\n",
    "}\n",
    "print(myGene)"
   ]
  },
  {
   "cell_type": "markdown",
   "metadata": {},
   "source": [
    "To access elements of a dictionary, you do so in a manner similar to other collection items (`[]`), but you must specify a 'key' value."
   ]
  },
  {
   "cell_type": "code",
   "execution_count": null,
   "metadata": {},
   "outputs": [],
   "source": [
    "print(myGene['chromosome'])"
   ]
  },
  {
   "cell_type": "markdown",
   "metadata": {},
   "source": [
    "Dictionaries are mutable so you can change/assign values in the same way"
   ]
  },
  {
   "cell_type": "code",
   "execution_count": null,
   "metadata": {},
   "outputs": [],
   "source": [
    "myGene['strand'] = '+'\n",
    "\n",
    "print(myGene['strand'])"
   ]
  },
  {
   "cell_type": "markdown",
   "metadata": {},
   "source": [
    "When you loop through a dictionary, the values returned are the key index values"
   ]
  },
  {
   "cell_type": "code",
   "execution_count": null,
   "metadata": {},
   "outputs": [],
   "source": [
    "for key in myGene:\n",
    "    print(key)"
   ]
  },
  {
   "cell_type": "markdown",
   "metadata": {},
   "source": [
    "You can also iterate over the values, or key:value pairs"
   ]
  },
  {
   "cell_type": "code",
   "execution_count": null,
   "metadata": {},
   "outputs": [],
   "source": [
    "for val in myGene.values():\n",
    "    print(val)"
   ]
  },
  {
   "cell_type": "code",
   "execution_count": null,
   "metadata": {},
   "outputs": [],
   "source": [
    "for k, v in myGene.items():\n",
    "    print(f'key: {k}  value:{v}')"
   ]
  },
  {
   "cell_type": "markdown",
   "metadata": {},
   "source": [
    "Sometimes it may be useful to check if a key exists in a dictionary."
   ]
  },
  {
   "cell_type": "code",
   "execution_count": null,
   "metadata": {},
   "outputs": [],
   "source": [
    "lookup = \"Ensembl\"\n",
    "if lookup in myGene:\n",
    "    print(f\"Found {lookup} in myGene dictionary keys.\")"
   ]
  },
  {
   "cell_type": "markdown",
   "metadata": {},
   "source": [
    "## Control Flow\n",
    "An important aspect of programming is manipulating the flow of how the program executes commands/functions/operations/etc. This is how programs and scripts take some decisions and execute different things depending on different situations. The structure of most control flow elements in python is fairly similar: evaluate certain conditions/statements and follow this with a colon (`:`).  The subsequent *code block* is below this statement and always indented.  The block ends when the indentation ends. There are three types of control flow statements in python: `if`, `for`, and `while`.  Each operates a bit differently."
   ]
  },
  {
   "cell_type": "markdown",
   "metadata": {},
   "source": [
    "### If...Else\n",
    "The `if` statement first evaluates whether a given expression is `True`. If so, then the associated code block is then executed. We have seen a few examples above but lets make sure we understand how it's organized."
   ]
  },
  {
   "cell_type": "code",
   "execution_count": null,
   "metadata": {},
   "outputs": [],
   "source": [
    "a = 5\n",
    "if a < 10:\n",
    "    print(f'{a} is less than 10.')\n",
    "    \n",
    "if a >= 10:\n",
    "    print(f'{a} is greater than or equal to 10.')"
   ]
  },
  {
   "cell_type": "markdown",
   "metadata": {},
   "source": [
    "Here we've constructed two `if` statements to test the variable `a`. Notice that the first statement (which evaluates to `True`) is executed but the second (`False`) is not. We can also use the `else` and `elif` (read: 'else,if') statement to further condition how python responds to our conditional test."
   ]
  },
  {
   "cell_type": "code",
   "execution_count": null,
   "metadata": {},
   "outputs": [],
   "source": [
    "a = 50\n",
    "if a < 10:\n",
    "    print(f'{a} is less than 10.')\n",
    "elif a == 10:\n",
    "    print(f'{a} is equal to 10.')\n",
    "else:\n",
    "    print(f'{a} is greater than 10.')"
   ]
  },
  {
   "cell_type": "markdown",
   "metadata": {},
   "source": [
    "There are a few things to note here.  First, the `elif` statement, we are providing _another_ conditional test for the variable `a`. If the first `if` returns `False`, then the next `elif` in the program will then be tested.  If all of the specific `if` and `elif` statements return `False`, then the remaining code block under the `else` statement is evaluated.  In this way, `else` acts as a 'catch all' if none of the other statements are `True`. \n",
    "\n",
    "*Only one* of the statements above will be executed; the first statement to evaluate to `True`. Once this happens, python steps out of the `if...else` statement and then continues on wth the rest of the program.\n",
    "\n",
    "The second point to make from the above is the use of the double `=` in the `elif`.  This is the 'comparison operator'. A single `=` is used as the 'assignment operator' as we have been using to assign values to variables.  If we want to test that two values are in fact equal, then we _must_ use `==`."
   ]
  },
  {
   "cell_type": "markdown",
   "metadata": {},
   "source": [
    "### Operators\n",
    "The construction of boolean logical tests is an important part of how you control the flow of your python program.  Often we want to test whether a variable has a certain value, or even exists at all.  Or perform some mathematical transformation on a value. To do this, we use different 'operators'. Operators are the constructs which can manipulate the value of individual items (or operands). You are familiar with many of these, for example 5 + 3 = 8. In this expression 5 and 3 are operands and '+' is the operator. Python has several types of operators, here we will distinguish between a few types"
   ]
  },
  {
   "cell_type": "markdown",
   "metadata": {},
   "source": [
    "#### Arithmetic operators\n",
    "These you should be inherently familar with for the most part. Assume that a = 10 and b = 20:\n",
    "\n",
    "* `+`    Addition:\tAdds values on either side of the operator.\ta + b = 30\n",
    "* `-`    Subtraction:\tSubtracts right hand operand from left hand operand.\ta – b = -10\n",
    "* `*`    Multiplication:\tMultiplies values on either side of the operator\ta * b = 200\n",
    "* `/`     Division:\tDivides left hand operand by right hand operand\tb / a = 2\n",
    "* `%`     Modulus:\t    Divides left hand operand by right hand operand and returns remainder\tb % a = 0\n",
    "* `**`    Exponent:\tPerforms exponential (power) calculation on operators\ta**b =10 to the power 20\n"
   ]
  },
  {
   "cell_type": "markdown",
   "metadata": {},
   "source": [
    "#### Comparison operators\n",
    "These are the operators that allow you to compare two items/variables. Each of these operators returns a `bool` value (`True` or `False`)"
   ]
  },
  {
   "cell_type": "code",
   "execution_count": null,
   "metadata": {},
   "outputs": [],
   "source": [
    "a = 10\n",
    "b = 20\n",
    "\n",
    "print(a == b) # evaluates whether two operands are equal\n",
    "print(a != b) # evaluates whether two operands are _not_ equal\n",
    "print(a < b) # less than\n",
    "print(a > b) # greater than\n",
    "print(a <= b) # less than or equal to\n",
    "print(a >= b) # you can probably guess"
   ]
  },
  {
   "cell_type": "markdown",
   "metadata": {},
   "source": [
    "#### Assignment operators\n",
    "These _assign_ values to a variable:"
   ]
  },
  {
   "cell_type": "code",
   "execution_count": null,
   "metadata": {},
   "outputs": [],
   "source": [
    "a = 10 # assigns the value 10 to the variable a\n",
    "a += 5 # Adds the value on the right to the value in a and then assigns the new value to a\n",
    "print(a)\n",
    "\n",
    "a -= 10 # subtracts the right value from the value in a and then assigns the new value to a\n",
    "print(a)\n",
    "\n",
    "a *= 5 # multiplies the right value with the value of a and then assigns to a\n",
    "print(a)\n",
    "\n",
    "a /= 5 # divides the value of a by the right value and then assigns to a\n",
    "print(a)"
   ]
  },
  {
   "cell_type": "markdown",
   "metadata": {},
   "source": [
    "#### Logical and Membership operators\n",
    "Logical operators help you compare different expressions"
   ]
  },
  {
   "cell_type": "code",
   "execution_count": null,
   "metadata": {},
   "outputs": [],
   "source": [
    "a = True\n",
    "b = True\n",
    "c = False\n",
    "\n",
    "# and: if both values are True then the condition is True\n",
    "print((a and b))\n",
    "\n",
    "# or: if _either_ value is True then the condition is True\n",
    "print((a or b))\n",
    "\n",
    "# not: reverses the logical state of the condition\n",
    "print(not(a or b))\n"
   ]
  },
  {
   "cell_type": "markdown",
   "metadata": {},
   "source": [
    "Membership operators test whether a value (operand) is a member of a collection (as in a string, list or tuple)."
   ]
  },
  {
   "cell_type": "code",
   "execution_count": null,
   "metadata": {},
   "outputs": [],
   "source": [
    "fruits = ['apple','banana','pineapple']\n",
    "a = \"orange\"\n",
    "\n",
    "print(a in fruits)\n",
    "\n",
    "print(a not in fruits)\n",
    "\n",
    "print(\"o\" in a)\n"
   ]
  },
  {
   "cell_type": "markdown",
   "metadata": {},
   "source": [
    "These are the basic operators that you will need to know to create conditional expressions to guide your control flow."
   ]
  },
  {
   "cell_type": "markdown",
   "metadata": {},
   "source": [
    "### Looping/Iteration"
   ]
  },
  {
   "cell_type": "markdown",
   "metadata": {},
   "source": [
    "### While loops\n",
    "The while statement executes commands as long as an evaluated conditional expression remains true. This will loop through the code block until such time as the statement is no longer `True`. "
   ]
  },
  {
   "cell_type": "code",
   "execution_count": null,
   "metadata": {},
   "outputs": [],
   "source": [
    "i = 1\n",
    "\n",
    "while i < 10:\n",
    "    print(i)\n",
    "    i += 1\n"
   ]
  },
  {
   "cell_type": "markdown",
   "metadata": {},
   "source": [
    "### For loops\n",
    "The `for..in` statement also performs loops. In this case however, the loop _iterates_ over a sequence or collection, and in doing so it assigns each element of the collection to a specific variable. Any collection that is _iterable_ can be used to construct a for loop. In the example below `range(0,10)` creates an iterable collection of numbers from 0-9.  Each instance of the loop places one of these values (in order) into the newly created variable `i`, and then executes the code block associated with this loop:"
   ]
  },
  {
   "cell_type": "code",
   "execution_count": null,
   "metadata": {},
   "outputs": [],
   "source": [
    "for i in range(0,10):\n",
    "    print(i)"
   ]
  },
  {
   "cell_type": "code",
   "execution_count": null,
   "metadata": {},
   "outputs": [],
   "source": [
    "An optional `else` statement can be used to execute a code block after the iterations have completed."
   ]
  },
  {
   "cell_type": "code",
   "execution_count": 30,
   "metadata": {},
   "outputs": [
    {
     "name": "stdout",
     "output_type": "stream",
     "text": [
      "Gapdh\n",
      "Mef2c\n",
      "Pax6\n",
      "Cxcl1\n",
      "Msi1\n",
      "No more genes!\n"
     ]
    }
   ],
   "source": [
    "genes = ['Gapdh','Mef2c','Pax6','Cxcl1','Msi1']\n",
    "\n",
    "for gene in genes:\n",
    "    print(gene)\n",
    "else:\n",
    "    print(\"No more genes!\")"
   ]
  },
  {
   "cell_type": "markdown",
   "metadata": {},
   "source": [
    "_*Homework*_: Look into the `break` and `continue` statements can be used in conjunction with the above statements to further control the flow of a program."
   ]
  },
  {
   "cell_type": "markdown",
   "metadata": {},
   "source": [
    "## Functions\n",
    "Many times when writing programs, you will find yourself doing the same task(s) over and over again. Functions allow you to create reuseable pieces of your programs so you can run a block of specificed code anywhere in your program, as many times as you need, with any modifications or variables that you might need. As an example, lets start by figuring out what the GC% is for a given nucleic acid string.  To do this, we will need to learn the length of the oligonucleotide sequence, as well as the number of 'G' and 'C' bases.  Lets start by figuring out a way to do this for one DNA sequence."
   ]
  },
  {
   "cell_type": "code",
   "execution_count": null,
   "metadata": {},
   "outputs": [],
   "source": [
    "dna = 'ATTAGCGTATTCGAGCTATCGATCTAGCGAGCTAGCTATCAGCGACGTACG'\n",
    "\n",
    "dnaLength = len(dna)\n",
    "print(f'Length of dna: {dnaLength}')\n",
    "\n",
    "nG = ??\n",
    "print(f'Number of Gs: {nG}')\n",
    "\n",
    "nC = ??\n",
    "print(f'Number of Cs: {nC}')\n",
    "\n",
    "nGC = ??\n",
    "\n",
    "GC_content = (nGC/dnaLength)*100\n",
    "print(GC_content)"
   ]
  },
  {
   "cell_type": "markdown",
   "metadata": {},
   "source": [
    "While that's not terribly tedious, what if we needed to do this for 10,000 different dna sequences? We will definitely need a way to 'functionalize' this process.  So lets create a function to do all of this for us. We start by defining the function with the `def` statement to give the function a name, followed by a pair of parentheses `()` where we can name a few 'parameters' (another name for variables passed to a function) that we will use within our function. This is then followed by the code block to execute when we 'call' the function. At the end of the function, we specify what values we want to return with `return()`."
   ]
  },
  {
   "cell_type": "code",
   "execution_count": null,
   "metadata": {},
   "outputs": [],
   "source": [
    "def getGC(seq):\n",
    "    dnaLength = len(seq)\n",
    "    nG = seq.count('G')\n",
    "    nC = seq.count('C')\n",
    "    nGC = nG + nC\n",
    "    GC_content = (nGC/dnaLength)*100\n",
    "    return(GC_content)\n"
   ]
  },
  {
   "cell_type": "markdown",
   "metadata": {},
   "source": [
    "Once we've created our function, we can then call it as many times as we want with different values passed to the `seq` argument as needed. ** Note the terminology difference: the names given in the function definition are called parameters, but the values you supply in the function call are called arguments. **"
   ]
  },
  {
   "cell_type": "code",
   "execution_count": null,
   "metadata": {},
   "outputs": [],
   "source": [
    "gc = getGC(dna)\n",
    "print(gc)"
   ]
  },
  {
   "cell_type": "markdown",
   "metadata": {},
   "source": [
    "Now try and use your function within a `for` loop to iterate over a `list` of different DNA sequences"
   ]
  },
  {
   "cell_type": "code",
   "execution_count": null,
   "metadata": {},
   "outputs": [],
   "source": [
    "\n",
    "myDNASet = [\n",
    "            'ACTGATGCTAGCTGACTGATCTAGCTGA',\n",
    "            'TGCATTTTCGAGCTATCGAGCATTCTACGTACT',\n",
    "            'CACTATCTACGGATCGGAGCGGATTCGTAGCTATGC',\n",
    "            'GTATCGGATCTAGCGGCGGCATTATCG'\n",
    "           ] # this is a list of strings, each containing a DNA sequence.\n",
    "\n",
    "for ...\n"
   ]
  },
  {
   "cell_type": "markdown",
   "metadata": {},
   "source": [
    "When you declare variables within a function definition, they become completely isolated from any variables you may have created outside the definition. In this case, all variables created within a function definition are considered 'local'.  You cannot access them from outside the function definition, and they don't override any other variables either. This is called the 'scope' of a variable. All variables have the scope of the code block in which they are declared. There are ways to change this, but for now we just need to realize that there are in fact different scopes."
   ]
  },
  {
   "cell_type": "markdown",
   "metadata": {},
   "source": [
    "When defining a function, you may often want to set default values for your parameters, and or make some parameters optional. You can also use 'keyword' arguments can specify them directly when you call a function like so:"
   ]
  },
  {
   "cell_type": "code",
   "execution_count": null,
   "metadata": {},
   "outputs": [],
   "source": [
    "def checkDNA(seq, query='AGC'): #checks to see if the DNA sequence has a specific substring\n",
    "    return(query in seq)\n",
    "\n",
    "print(checkDNA(dna))\n",
    "\n",
    "print(checkDNA(dna,query='TGCA'))\n",
    "    "
   ]
  },
  {
   "cell_type": "markdown",
   "metadata": {},
   "source": [
    "Now lets try and create a new function that takes a DNA sequence as an argument and calculates the melting temperature (the temperature at which two DNA strands will separate from each other). This property is a function of the DNA sequence itself. For sequences less than 14 nucleotides the formula is: `Tm= (A+T) * 2 + (G+C) * 4`. For sequences longer than 13 nucleotides in length, there is a different equation: `Tm= 64.9 +41*(G+C-16.4)/(A+T+G+C)`. In each equation, `A, T, G, and C` correspond to the number of each nucleotide in the DNA string. Can you define a single function that can test a DNA sequence of any length?"
   ]
  },
  {
   "cell_type": "code",
   "execution_count": null,
   "metadata": {},
   "outputs": [],
   "source": [
    "# define and use your function below...\n",
    "\n",
    "\n",
    "\n",
    "\n"
   ]
  },
  {
   "cell_type": "markdown",
   "metadata": {},
   "source": [
    "## Importing modules\n",
    "One of the more useful features of python, as with many other languages, is that you can add features, tools, data, etc to extend the functionality of python using _modules_. Python has a very large and diverse user base that has already developed hundreds (thousands?) of modules to perform broadly useful tasks, or very specialized tasks for different needs. You can also develop your own modules to split projects/workflows in to manageable pieces for easier maintenance and reusability.\n",
    "\n",
    "A module is nothing more than python code. Within a module, you can define classes (objects), functions, and variables.  Any existing python file can be referenced as a module and the elements within can then be used. For example, if you have a python file named `sequencing.py` you can import the file/module with the name `sequencing`.\n",
    "\n",
    "To use a module in your code you must first tell python where to find the module. To do this, we use the command `import`"
   ]
  },
  {
   "cell_type": "code",
   "execution_count": null,
   "metadata": {},
   "outputs": [],
   "source": [
    "import math"
   ]
  },
  {
   "cell_type": "markdown",
   "metadata": {},
   "source": [
    "This tells the python interpreter to load all of the functions and elements found in the `math` module into the current session. `math` is a 'standard module' that is included with python.  To use a specific function or variable defined in `math` you can call it using the dot (`.`) operator along with the module name"
   ]
  },
  {
   "cell_type": "code",
   "execution_count": null,
   "metadata": {},
   "outputs": [],
   "source": [
    "a = 25\n",
    "math.sqrt(a)"
   ]
  },
  {
   "cell_type": "code",
   "execution_count": null,
   "metadata": {},
   "outputs": [],
   "source": [
    "math.cos(a)"
   ]
  },
  {
   "cell_type": "code",
   "execution_count": null,
   "metadata": {},
   "outputs": [],
   "source": [
    "math.factorial(a)"
   ]
  },
  {
   "cell_type": "markdown",
   "metadata": {},
   "source": [
    "It is important to be aware of modules as they can often save you from having to re-write or re-invent code that others have already solved. It is arguably the basis for the relevance of python as a programming language in the sciences as well!"
   ]
  },
  {
   "cell_type": "markdown",
   "metadata": {},
   "source": [
    "There are a few syntactically different ways to import a module. You've already seen the direct import method above, but you can also import only the functions you need from a module by using the `from .. import` syntax:"
   ]
  },
  {
   "cell_type": "code",
   "execution_count": null,
   "metadata": {},
   "outputs": [],
   "source": [
    "from math import log10, log\n",
    "log10(a)"
   ]
  },
  {
   "cell_type": "markdown",
   "metadata": {},
   "source": [
    "Here we've imported just two of the functions in the `math` module. Notice that this time, you don't have to use `math.` before calling these functions. You can access them directly without using the module name."
   ]
  },
  {
   "cell_type": "markdown",
   "metadata": {},
   "source": [
    "You can rename the module for brevity or any other reason by using `as` with your import statement."
   ]
  },
  {
   "cell_type": "code",
   "execution_count": null,
   "metadata": {},
   "outputs": [],
   "source": [
    "import datetime as dt\n",
    "\n",
    "today = dt.date.today()\n",
    "print(\"Today is\", today)"
   ]
  },
  {
   "cell_type": "markdown",
   "metadata": {},
   "source": [
    "Here, we imported the datetime module as `dt` . Notice that that the `dt` module defines a class called `date`. Then, we used the `date.today()` function to get the current local date, which is then printed with some accessory text using the `print()` function."
   ]
  },
  {
   "cell_type": "markdown",
   "metadata": {},
   "source": [
    "## Working with files\n",
    "\n",
    "### Reading/opening files\n",
    "Reading and writing to files in python is achieved through the `open()` function. When you 'open' a file, you are creating a device to communicate with the file on disk. We will need to specify how we would like to interact with the file.  Do we want to read the file ('r') or write to the file ('w'). This is the 'mode' that we will need to specify when we make the call to `open()`"
   ]
  },
  {
   "cell_type": "code",
   "execution_count": null,
   "metadata": {},
   "outputs": [],
   "source": [
    "file = open('Foxp1.gbk',mode = 'r')\n",
    "\n",
    "# iterate through all lines of a file\n",
    "for line in file:\n",
    "    print(line)"
   ]
  },
  {
   "cell_type": "code",
   "execution_count": null,
   "metadata": {},
   "outputs": [],
   "source": [
    "# Read only the first n lines of a file\n",
    "nLines = 5\n",
    "i=0\n",
    "\n",
    "# Need to re-open the file since we've already iterated through it completely\n",
    "file = open('Foxp1.gbk',mode = 'r')\n",
    "\n",
    "while i < nLines:\n",
    "    print(next(file))\n",
    "    i += 1"
   ]
  },
  {
   "cell_type": "markdown",
   "metadata": {},
   "source": [
    "### Fetching files/data from the internet"
   ]
  },
  {
   "cell_type": "code",
   "execution_count": null,
   "metadata": {},
   "outputs": [],
   "source": [
    "## lets deconstruct what's happening here.\n",
    "\n",
    "import urllib\n",
    "import gzip\n",
    "\n",
    "url = \"https://hgdownload.soe.ucsc.edu/goldenPath/sacCer3/chromosomes/chrIII.fa.gz\"\n",
    "urllib.request.urlretrieve(url, \"chrIII.fa.gz\")\n",
    "\n",
    "chrIII = gzip.open('chrIII.fa.gz',mode = 'rb') # note the additional use of 'b' here meaning we are going to 'read' a 'binary' (zipped) file.\n",
    "\n",
    "print(next(chrIII))\n",
    "\n",
    "numLines = 10\n",
    "\n",
    "head = [next(chrIII) for x in range(numLines)] # Using list comprehension to return a list of values from some operation\n",
    "\n",
    "print(head)\n",
    "    \n",
    "for line in head:\n",
    "    print(line)\n"
   ]
  },
  {
   "cell_type": "markdown",
   "metadata": {},
   "source": [
    "### Writing output to a file\n",
    "When we write to a file, we need to indicate whether we are going to overwrite anything in an existing file, or append (`mode = a`) the content to the end of the existing file. When we are done with a file, we should always close it with `close()`"
   ]
  },
  {
   "cell_type": "code",
   "execution_count": null,
   "metadata": {},
   "outputs": [],
   "source": []
  },
  {
   "cell_type": "code",
   "execution_count": 31,
   "metadata": {},
   "outputs": [
    {
     "name": "stdout",
     "output_type": "stream",
     "text": [
      "Here is my awesome file content!\n",
      "\n",
      "It's probably the most important information I'll need for my thesis!\n",
      "\n",
      "Gapdh\n",
      "\n",
      "Mef2c\n",
      "\n",
      "Pax6\n",
      "\n",
      "Cxcl1\n",
      "\n",
      "Msi1\n",
      "\n",
      "I forgot to add this as well\n",
      "\n"
     ]
    }
   ],
   "source": [
    "file = open('myOutput.txt','w')\n",
    "file.write(\"Here is my awesome file content!\\n\")\n",
    "file.write(\"It's probably the most important information I'll need for my thesis!\\n\")\n",
    "for gene in genes:\n",
    "    file.write(f'{gene}\\n')\n",
    "file.close()\n",
    "\n",
    "file = open('myOutput.txt','a') # Try changing the mode from 'a' to 'w'\n",
    "file.write(\"I forgot to add this as well\\n\")\n",
    "file.close()\n",
    "\n",
    "file = open('myOutput.txt','r')\n",
    "\n",
    "for line in file:\n",
    "    print(line)\n"
   ]
  },
  {
   "cell_type": "markdown",
   "metadata": {},
   "source": [
    "## Intro to Python Scripting\n",
    "Now we're going to tie all of this together into a python script that is a self-contained program. First, lets figure out what our objective(s) are.\n"
   ]
  },
  {
   "cell_type": "markdown",
   "metadata": {},
   "source": []
  },
  {
   "cell_type": "markdown",
   "metadata": {},
   "source": []
  },
  {
   "cell_type": "code",
   "execution_count": null,
   "metadata": {},
   "outputs": [],
   "source": []
  }
 ],
 "metadata": {
  "kernelspec": {
   "display_name": "Python 3",
   "language": "python",
   "name": "python3"
  },
  "language_info": {
   "codemirror_mode": {
    "name": "ipython",
    "version": 3
   },
   "file_extension": ".py",
   "mimetype": "text/x-python",
   "name": "python",
   "nbconvert_exporter": "python",
   "pygments_lexer": "ipython3",
   "version": "3.6.11"
  }
 },
 "nbformat": 4,
 "nbformat_minor": 4
}

{
 "cells": [
  {
   "cell_type": "markdown",
   "metadata": {},
   "source": [
    "# Biopython"
   ]
  },
  {
   "cell_type": "markdown",
   "metadata": {},
   "source": [
    "[Biopython](www.biopython.org) is a well-maintained collection of modules, tools, and scripts specifically designed to help with common bioinformatics tasks.  It is free and open source, with a large number of contributors maintaining the package. "
   ]
  },
  {
   "cell_type": "markdown",
   "metadata": {},
   "source": [
    "## Sequences and Sequence objects\n",
    "Earlier, we created and manipulated DNA sequences as strings. A core component of biopython is the creation of specific 'classes' to store and manipulate certain types of items. One of these is the `Seq` class which is designed to hold all of the relevant information needed for biological sequences (DNA, RNA, protein, etc). There are two primary components for a biological sequences.  The sequence itself and the 'Alphabet' used to define what the characters in the sequence represent (i.e. [A,G,C,T] for DNA or [A,G,C,U] for RNA).\n",
    "\n",
    "Lets start by creating a 'generic' sequence (`Seq` object) in biopython."
   ]
  },
  {
   "cell_type": "code",
   "execution_count": 22,
   "metadata": {},
   "outputs": [
    {
     "name": "stdout",
     "output_type": "stream",
     "text": [
      "TTGAGCAGTTGAGCGATTATGTCGATTAGCTGAGGCATTCGAGCTATG\n",
      "<class 'Bio.Seq.Seq'>\n",
      "Alphabet()\n"
     ]
    }
   ],
   "source": [
    "from Bio.Seq import Seq\n",
    "\n",
    "mySeq = Seq(\"TTGAGCAGTTGAGCGATTATGTCGATTAGCTGAGGCATTCGAGCTATG\")\n",
    "\n",
    "print(mySeq)\n",
    "print(type(mySeq))\n",
    "\n",
    "#str(mySeq)\n",
    "\n",
    "print(mySeq.alphabet)"
   ]
  },
  {
   "cell_type": "markdown",
   "metadata": {},
   "source": [
    "So why go to all of this trouble to create a `Seq` object instead of just storing the DNA seqence as a string?  Well, the `Seq` object defines a number of methods (function) that code for useful _biological_ operations:"
   ]
  },
  {
   "cell_type": "code",
   "execution_count": 28,
   "metadata": {},
   "outputs": [
    {
     "name": "stdout",
     "output_type": "stream",
     "text": [
      "TTGAGCAGTTGAGCGATTATGTCGATTAGCTGAGGCATTCGAGCTATG\n",
      "AACTCGTCAACTCGCTAATACAGCTAATCGACTCCGTAAGCTCGATAC\n",
      "CATAGCTCGAATGCCTCAGCTAATCGACATAATCGCTCAACTGCTCAA\n",
      "UUGAGCAGUUGAGCGAUUAUGUCGAUUAGCUGAGGCAUUCGAGCUAUG\n",
      "LSS*AIMSIS*GIRAM\n",
      "5\n"
     ]
    }
   ],
   "source": [
    "print(mySeq)\n",
    "print(mySeq.complement())\n",
    "print(mySeq.reverse_complement())\n",
    "print(mySeq.transcribe())\n",
    "print(mySeq.transcribe().translate())\n",
    "print(mySeq.count(\"TT\"))"
   ]
  },
  {
   "cell_type": "markdown",
   "metadata": {},
   "source": [
    "`Seq` objects store sequence information `SeqRecord` objects store metadata information associated with an individual `Seq` object including an identifier (id) a name, and a description.  We'll see more of these as we progress."
   ]
  },
  {
   "cell_type": "markdown",
   "metadata": {},
   "source": [
    "## Parsers\n",
    "An important task in bioinformatics is 'parsing' files of different format. There are many types of file formats for biological data, some of which are human readable, and some are not readily so. And some of them can contain thousands or millions of data points that you may need to iterate over in order to analyze. Thankfully biopython maintains several functions in the `Bio.SeqIO` module to parse common biological file formats.\n",
    "\n",
    "You've already been introduced to the FASTA format earlier today. FASTA files can contain many unique sequences within a single file. Using biopython, we can parse a FASTA file into individual `SeqRecord` objects and then iteratively do something with them."
   ]
  },
  {
   "cell_type": "code",
   "execution_count": 30,
   "metadata": {},
   "outputs": [
    {
     "name": "stdout",
     "output_type": "stream",
     "text": [
      "TGGCGTTGTCTTTAATTCGATTAGCATTGCATATCGATTATCTAGCGATATGCTATGCTTAGC\n",
      "AGCCATATGTATCGAGCGATATGCGATACGAGTATCGAGTATGCAGTATGCATTGCAGTATGC\n",
      "TGGGTATGCGCGACGAGCATTATACGATGCATTATTACGGATCTACGGCGATATTACGTACGA\n",
      "GGACGTATCGAGTCTAGCGAGCGACTTCGAGCGATATCGGACTCTCGTCCTCTTCAGTCAGCC\n"
     ]
    }
   ],
   "source": [
    "from Bio import SeqIO\n",
    "\n",
    "fasta_file = SeqIO.parse(\"test.fa\",'fasta')\n",
    "\n",
    "for record in fasta_file:\n",
    "    print(record.seq)"
   ]
  },
  {
   "cell_type": "code",
   "execution_count": 1,
   "metadata": {},
   "outputs": [],
   "source": [
    "### Motif analysis"
   ]
  },
  {
   "cell_type": "code",
   "execution_count": null,
   "metadata": {},
   "outputs": [],
   "source": [
    "### Restriction digestion"
   ]
  },
  {
   "cell_type": "markdown",
   "metadata": {},
   "source": [
    "## Parsing biology-formatted files"
   ]
  },
  {
   "cell_type": "markdown",
   "metadata": {},
   "source": [
    "## Querying NCBI datasets"
   ]
  },
  {
   "cell_type": "markdown",
   "metadata": {},
   "source": [
    "## Motif analysis"
   ]
  },
  {
   "cell_type": "markdown",
   "metadata": {},
   "source": [
    "## Example(s) in the real"
   ]
  },
  {
   "cell_type": "code",
   "execution_count": null,
   "metadata": {},
   "outputs": [],
   "source": [
    "#Pick your favorite gene\n"
   ]
  },
  {
   "cell_type": "markdown",
   "metadata": {},
   "source": []
  },
  {
   "cell_type": "markdown",
   "metadata": {},
   "source": []
  },
  {
   "cell_type": "markdown",
   "metadata": {},
   "source": []
  },
  {
   "cell_type": "markdown",
   "metadata": {},
   "source": []
  },
  {
   "cell_type": "markdown",
   "metadata": {},
   "source": []
  }
 ],
 "metadata": {
  "kernelspec": {
   "display_name": "Python 3",
   "language": "python",
   "name": "python3"
  },
  "language_info": {
   "codemirror_mode": {
    "name": "ipython",
    "version": 3
   },
   "file_extension": ".py",
   "mimetype": "text/x-python",
   "name": "python",
   "nbconvert_exporter": "python",
   "pygments_lexer": "ipython3",
   "version": "3.7.0"
  }
 },
 "nbformat": 4,
 "nbformat_minor": 2
}

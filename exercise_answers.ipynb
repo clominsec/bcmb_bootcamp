{
 "cells": [
  {
   "cell_type": "code",
   "execution_count": null,
   "metadata": {},
   "outputs": [],
   "source": []
  },
  {
   "cell_type": "code",
   "execution_count": 65,
   "metadata": {},
   "outputs": [],
   "source": [
    "def growth(t, C, k):\n",
    "    rate = k * C\n",
    "    return rate\n",
    "def double(t, C,k):\n",
    "    return 200-C[0]"
   ]
  },
  {
   "cell_type": "code",
   "execution_count": 68,
   "metadata": {},
   "outputs": [
    {
     "data": {
      "text/plain": [
       "  message: 'The solver successfully reached the end of the integration interval.'\n",
       "     nfev: 86\n",
       "     njev: 0\n",
       "      nlu: 0\n",
       "      sol: <scipy.integrate._ivp.common.OdeSolution object at 0x7fd5c0e677b8>\n",
       "   status: 0\n",
       "  success: True\n",
       "        t: array([ 0.        ,  0.12357624,  1.35933863,  4.41488646,  8.08260066,\n",
       "       11.98642743, 15.98575101, 20.02441663, 24.07941141, 28.14120457,\n",
       "       32.20583173, 36.27164092, 40.33794323, 44.40445127, 48.        ])\n",
       " t_events: [array([1.99733947])]\n",
       "        y: array([[1.00000000e+02, 1.04381363e+02, 1.60270250e+02, 4.62734841e+02,\n",
       "        1.65213808e+03, 6.40210809e+03, 2.56436645e+04, 1.04126416e+05,\n",
       "        4.25206935e+05, 1.74045713e+06, 7.13104227e+06, 2.92294508e+07,\n",
       "        1.19829168e+08, 4.91287155e+08, 1.71071812e+09]])\n",
       " y_events: [array([[200.]])]"
      ]
     },
     "execution_count": 68,
     "metadata": {},
     "output_type": "execute_result"
    }
   ],
   "source": [
    "C_0=[100] #initial Condition\n",
    "tspan = [0, 48] #Time span\n",
    "C_solver = solve_ivp(growth, tspan, C_0, args=(.347,), events=double, dense_output=True)\n",
    "C_solver"
   ]
  },
  {
   "cell_type": "code",
   "execution_count": null,
   "metadata": {},
   "outputs": [],
   "source": []
  }
 ],
 "metadata": {
  "kernelspec": {
   "display_name": "Python 3",
   "language": "python",
   "name": "python3"
  },
  "language_info": {
   "codemirror_mode": {
    "name": "ipython",
    "version": 3
   },
   "file_extension": ".py",
   "mimetype": "text/x-python",
   "name": "python",
   "nbconvert_exporter": "python",
   "pygments_lexer": "ipython3",
   "version": "3.6.11"
  }
 },
 "nbformat": 4,
 "nbformat_minor": 4
}

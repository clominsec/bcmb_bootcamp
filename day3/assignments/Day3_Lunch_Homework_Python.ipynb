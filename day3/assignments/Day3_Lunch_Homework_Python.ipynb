{
 "cells": [
  {
   "cell_type": "markdown",
   "id": "65afb152",
   "metadata": {},
   "source": [
    "# Day 3 Lunch Homework"
   ]
  },
  {
   "cell_type": "markdown",
   "id": "96e5ef37",
   "metadata": {},
   "source": [
    "1. Here are 25 numbers drawn from a normal distribution. Calculate the mean, standard deviation, and variance of the set.\n",
    "\n",
    "    **Do the mean calculation manually, and then use the built-in functions provided in the **statistics** module for the others.**\n",
    "\n",
    "    **Hint**: The functions `sum`, `len`, `statistics.stdev`, and `statistics.variance` will be useful.\n",
    "    Use the `help` function to learn more about them, if needed."
   ]
  },
  {
   "cell_type": "code",
   "execution_count": 1,
   "id": "68e51639",
   "metadata": {},
   "outputs": [
    {
     "name": "stdout",
     "output_type": "stream",
     "text": [
      "[10.245326341707864, 9.503155526588797, 11.254785931057462, 9.861940937257188, 9.024179666704676, 10.565050217344965, 8.83235498617007, 11.738025467335527, 9.675490796158401, 11.182326307936343, 11.504353761657875, 11.949497039569765, 12.311774710432584, 9.534829130637144, 11.481342356701061, 11.46816841749334, 10.367803012316621, 9.343104196870232, 9.060388465261997, 9.051983236409392, 10.366470756822187, 9.718266746644588, 10.649728727536722, 7.917214485592975, 9.069458652778662]\n",
      "10.227080794999457\n",
      "(10.227080794999457, 1.1534838840843793, 1.3305250708423857)\n"
     ]
    }
   ],
   "source": [
    "import random\n",
    "import statistics\n",
    "\n",
    "#help(len)\n",
    " \n",
    "def sample_normal(mean, sd, n = 1, seed = 42):\n",
    "    \"\"\"Draw n samples from a normal distribution with given mean and standard deviation\"\"\"\n",
    "    random.seed(seed)\n",
    "    return [random.normalvariate(mean, sd) for _ in range(n)]\n",
    "\n",
    "my_samples = sample_normal(10, 1, n=25) \n",
    "print(my_samples) \n",
    " \n",
    "## your manual mean calculation code here\n",
    "manual_mean = sum(my_samples)/len(my_samples)\n",
    "\n",
    "print(manual_mean)\n",
    "\n",
    "## Calculate mean, sd, and variance using statistics module\n",
    "mean = statistics.mean(my_samples)\n",
    "sd = statistics.stdev(my_samples)\n",
    "var = statistics.variance(my_samples)\n",
    "\n",
    "print((mean, sd, var))"
   ]
  },
  {
   "cell_type": "markdown",
   "id": "42ecf210",
   "metadata": {},
   "source": [
    "From *my_samples* above, print out the following:\n",
    "- The first five elements (remember that python begins with index 0)\n",
    "- The last five elements\n",
    "- The 13th and 14th elements"
   ]
  },
  {
   "cell_type": "code",
   "execution_count": 2,
   "id": "07850c76",
   "metadata": {},
   "outputs": [
    {
     "name": "stdout",
     "output_type": "stream",
     "text": [
      "[10.245326341707864, 9.503155526588797, 11.254785931057462, 9.861940937257188, 9.024179666704676]\n",
      "[10.366470756822187, 9.718266746644588, 10.649728727536722, 7.917214485592975, 9.069458652778662]\n",
      "[12.311774710432584, 9.534829130637144]\n"
     ]
    }
   ],
   "source": [
    "# the first five elements\n",
    "print(my_samples[:5])\n",
    "\n",
    "# the last five elements\n",
    "print(my_samples[-5:])\n",
    "\n",
    "# the 13th and 14th elements\n",
    "print(my_samples[12:14])"
   ]
  },
  {
   "cell_type": "markdown",
   "id": "575dff49",
   "metadata": {},
   "source": [
    "2. You are given a sample of a DNA plasmid with a known concentration of 1.85ug/uL and a length of 1,354 bases, and are asked to calculate the molarity of the sample. \n",
    "\n",
    "  * Create a function to calculate the molarity of a double-stranded DNA molecule given this information. (Google is your friend here to find the formula and the molecular weight for an 'average' oligonucleotide base pair)."
   ]
  },
  {
   "cell_type": "code",
   "execution_count": 4,
   "id": "be5d15c3",
   "metadata": {},
   "outputs": [
    {
     "data": {
      "text/plain": [
       "2.0701848619130745e-06"
      ]
     },
     "execution_count": 4,
     "metadata": {},
     "output_type": "execute_result"
    }
   ],
   "source": [
    "def calc_molarity(plasmid_length, conc):\n",
    "    avg_mw = 617.96\n",
    "    mol = conc / (plasmid_length * avg_mw)\n",
    "    return mol\n",
    "\n",
    "# molecular weight for an average oligonucleotide base pair ~ 617.96g/mol\n",
    "\n",
    "# Test your function with the above values\n",
    "plasmid_length = 1354\n",
    "conc = 1.85\n",
    "calc_molarity(plasmid_length, conc)"
   ]
  },
  {
   "cell_type": "markdown",
   "id": "07715398",
   "metadata": {},
   "source": [
    "  * You receive another plasmid with a length of 2,500 bases. You make a series of 10 dilutions ranging from 0-10ug/ul. Construct a loop to calculate the molarity of each dilution. (hint: help(range))"
   ]
  },
  {
   "cell_type": "code",
   "execution_count": 6,
   "id": "8862c8e0",
   "metadata": {},
   "outputs": [
    {
     "name": "stdout",
     "output_type": "stream",
     "text": [
      "0.0\n",
      "6.060606060606061e-07\n",
      "1.2121212121212122e-06\n",
      "1.818181818181818e-06\n",
      "2.4242424242424244e-06\n",
      "3.0303030303030305e-06\n",
      "3.636363636363636e-06\n",
      "4.242424242424242e-06\n",
      "4.848484848484849e-06\n",
      "5.4545454545454545e-06\n",
      "6.060606060606061e-06\n"
     ]
    }
   ],
   "source": [
    "for dilution in range(11):\n",
    "    print(calc_molarity(plasmid_length=2500, conc=dilution))"
   ]
  },
  {
   "cell_type": "markdown",
   "id": "2d859cdc",
   "metadata": {},
   "source": [
    "3. Using either a for loop or a list comprehension approach, translate the following formulae and solve for the indicated range of values\n",
    "\n",
    "* $x^2$ for $x:\\{0 ... 9\\}$"
   ]
  },
  {
   "cell_type": "code",
   "execution_count": 7,
   "id": "2fc6c680",
   "metadata": {},
   "outputs": [
    {
     "data": {
      "text/plain": [
       "[0, 1, 4, 9, 16, 25, 36, 49, 64, 81]"
      ]
     },
     "execution_count": 7,
     "metadata": {},
     "output_type": "execute_result"
    }
   ],
   "source": [
    "[x**2 for x in range(10)]"
   ]
  },
  {
   "cell_type": "markdown",
   "id": "d104a2bf",
   "metadata": {},
   "source": [
    "* $2^x$ for all even numbers between 0 and 20"
   ]
  },
  {
   "cell_type": "code",
   "execution_count": 8,
   "id": "7fd843e2",
   "metadata": {},
   "outputs": [
    {
     "data": {
      "text/plain": [
       "[1, 4, 16, 64, 256, 1024, 4096, 16384, 65536, 262144, 1048576]"
      ]
     },
     "execution_count": 8,
     "metadata": {},
     "output_type": "execute_result"
    }
   ],
   "source": [
    "[2**x for x in range(21) if x%2==0]"
   ]
  },
  {
   "cell_type": "markdown",
   "id": "c19f4c19",
   "metadata": {},
   "source": [
    "* $3x^4-2x^3+17x$ for $x:\\{1 ... 200\\}$"
   ]
  },
  {
   "cell_type": "code",
   "execution_count": 9,
   "id": "cf3ad1cf",
   "metadata": {},
   "outputs": [
    {
     "data": {
      "text/plain": [
       "[18,\n",
       " 66,\n",
       " 240,\n",
       " 708,\n",
       " 1710,\n",
       " 3558,\n",
       " 6636,\n",
       " 11400,\n",
       " 18378,\n",
       " 28170,\n",
       " 41448,\n",
       " 58956,\n",
       " 81510,\n",
       " 109998,\n",
       " 145380,\n",
       " 188688,\n",
       " 241026,\n",
       " 303570,\n",
       " 377568,\n",
       " 464340,\n",
       " 565278,\n",
       " 681846,\n",
       " 815580,\n",
       " 968088,\n",
       " 1141050,\n",
       " 1336218,\n",
       " 1555416,\n",
       " 1800540,\n",
       " 2073558,\n",
       " 2376510,\n",
       " 2711508,\n",
       " 3080736,\n",
       " 3486450,\n",
       " 3930978,\n",
       " 4416720,\n",
       " 4946148,\n",
       " 5521806,\n",
       " 6146310,\n",
       " 6822348,\n",
       " 7552680,\n",
       " 8340138,\n",
       " 9187626,\n",
       " 10098120,\n",
       " 11074668,\n",
       " 12120390,\n",
       " 13238478,\n",
       " 14432196,\n",
       " 15704880,\n",
       " 17059938,\n",
       " 18500850,\n",
       " 20031168,\n",
       " 21654516,\n",
       " 23374590,\n",
       " 25195158,\n",
       " 27120060,\n",
       " 29153208,\n",
       " 31298586,\n",
       " 33560250,\n",
       " 35942328,\n",
       " 38449020,\n",
       " 41084598,\n",
       " 43853406,\n",
       " 46759860,\n",
       " 49808448,\n",
       " 53003730,\n",
       " 56350338,\n",
       " 59852976,\n",
       " 63516420,\n",
       " 67345518,\n",
       " 71345190,\n",
       " 75520428,\n",
       " 79876296,\n",
       " 84417930,\n",
       " 89150538,\n",
       " 94079400,\n",
       " 99209868,\n",
       " 104547366,\n",
       " 110097390,\n",
       " 115865508,\n",
       " 121857360,\n",
       " 128078658,\n",
       " 134535186,\n",
       " 141232800,\n",
       " 148177428,\n",
       " 155375070,\n",
       " 162831798,\n",
       " 170553756,\n",
       " 178547160,\n",
       " 186818298,\n",
       " 195373530,\n",
       " 204219288,\n",
       " 213362076,\n",
       " 222808470,\n",
       " 232565118,\n",
       " 242638740,\n",
       " 253036128,\n",
       " 263764146,\n",
       " 274829730,\n",
       " 286239888,\n",
       " 298001700,\n",
       " 310122318,\n",
       " 322608966,\n",
       " 335468940,\n",
       " 348709608,\n",
       " 362338410,\n",
       " 376362858,\n",
       " 390790536,\n",
       " 405629100,\n",
       " 420886278,\n",
       " 436569870,\n",
       " 452687748,\n",
       " 469247856,\n",
       " 486258210,\n",
       " 503726898,\n",
       " 521662080,\n",
       " 540071988,\n",
       " 558964926,\n",
       " 578349270,\n",
       " 598233468,\n",
       " 618626040,\n",
       " 639535578,\n",
       " 660970746,\n",
       " 682940280,\n",
       " 705452988,\n",
       " 728517750,\n",
       " 752143518,\n",
       " 776339316,\n",
       " 801114240,\n",
       " 826477458,\n",
       " 852438210,\n",
       " 879005808,\n",
       " 906189636,\n",
       " 933999150,\n",
       " 962443878,\n",
       " 991533420,\n",
       " 1021277448,\n",
       " 1051685706,\n",
       " 1082768010,\n",
       " 1114534248,\n",
       " 1146994380,\n",
       " 1180158438,\n",
       " 1214036526,\n",
       " 1248638820,\n",
       " 1283975568,\n",
       " 1320057090,\n",
       " 1356893778,\n",
       " 1394496096,\n",
       " 1432874580,\n",
       " 1472039838,\n",
       " 1512002550,\n",
       " 1552773468,\n",
       " 1594363416,\n",
       " 1636783290,\n",
       " 1680044058,\n",
       " 1724156760,\n",
       " 1769132508,\n",
       " 1814982486,\n",
       " 1861717950,\n",
       " 1909350228,\n",
       " 1957890720,\n",
       " 2007350898,\n",
       " 2057742306,\n",
       " 2109076560,\n",
       " 2161365348,\n",
       " 2214620430,\n",
       " 2268853638,\n",
       " 2324076876,\n",
       " 2380302120,\n",
       " 2437541418,\n",
       " 2495806890,\n",
       " 2555110728,\n",
       " 2615465196,\n",
       " 2676882630,\n",
       " 2739375438,\n",
       " 2802956100,\n",
       " 2867637168,\n",
       " 2933431266,\n",
       " 3000351090,\n",
       " 3068409408,\n",
       " 3137619060,\n",
       " 3207992958,\n",
       " 3279544086,\n",
       " 3352285500,\n",
       " 3426230328,\n",
       " 3501391770,\n",
       " 3577783098,\n",
       " 3655417656,\n",
       " 3734308860,\n",
       " 3814470198,\n",
       " 3895915230,\n",
       " 3978657588,\n",
       " 4062710976,\n",
       " 4148089170,\n",
       " 4234806018,\n",
       " 4322875440,\n",
       " 4412311428,\n",
       " 4503128046,\n",
       " 4595339430,\n",
       " 4688959788,\n",
       " 4784003400]"
      ]
     },
     "execution_count": 9,
     "metadata": {},
     "output_type": "execute_result"
    }
   ],
   "source": [
    "[3*(x**4)-2*(x**3)+17*x for x in range(1,201)]"
   ]
  },
  {
   "cell_type": "markdown",
   "id": "58f31c82",
   "metadata": {},
   "source": [
    "4. Solve the following equation for $x$:\n",
    "\n",
    "$x = p^2 + 2pq + q^2$ where $0<p<1$ and $q=1-p$ over the range of P values provided below. "
   ]
  },
  {
   "cell_type": "code",
   "execution_count": 17,
   "id": "5d503dc5",
   "metadata": {},
   "outputs": [
    {
     "data": {
      "text/plain": [
       "[1.0, 0.8, 0.6699999999999999, 0.5, 0.33333333, 0.010000000000000009]"
      ]
     },
     "execution_count": 17,
     "metadata": {},
     "output_type": "execute_result"
    }
   ],
   "source": [
    "# Here are the range of p's you will need (note 0<p<1 and the Set P variable is capitalized.)\n",
    "P = [0.0, 0.2, 0.33, 0.5, 0.66666667, 0.99]\n",
    "\n",
    "\n",
    "# First define a function `q` that takes p as an argument and returns q (ie. q=1-p)\n",
    "def q(p: float):\n",
    "    return 1-p\n",
    "\n",
    "[q(p) for p in P]"
   ]
  },
  {
   "cell_type": "markdown",
   "id": "ceefacd0",
   "metadata": {},
   "source": [
    "Using either a list comprehension or a for-loop along with your newly created `q` function, \n",
    "\n",
    "**translate the above formula and calculate the solution over the values in `P`**"
   ]
  },
  {
   "cell_type": "code",
   "execution_count": 18,
   "id": "a762b758",
   "metadata": {},
   "outputs": [
    {
     "name": "stdout",
     "output_type": "stream",
     "text": [
      "1.0\n",
      "1.0000000000000002\n",
      "1.0\n",
      "1.0\n",
      "0.9999999999999999\n",
      "1.0\n"
     ]
    }
   ],
   "source": [
    "# Below is a pseudocode template to help you get started\n",
    "\n",
    "# for p in P:\n",
    "#     Find q for given p\n",
    "#     x = ??? # put your formula here using p and q\n",
    "#     print(x)\n",
    "\n",
    "for p in P:\n",
    "    x = p**2+2*p*q(p)+q(p)**2\n",
    "    print(x)"
   ]
  },
  {
   "cell_type": "markdown",
   "id": "779b27bb",
   "metadata": {},
   "source": [
    "_Bonus points: What is the name of this formula and what does it describe?_"
   ]
  },
  {
   "cell_type": "markdown",
   "id": "dcf71e20",
   "metadata": {},
   "source": [
    "Answer: The name is Hardy-Weinberg equation. It describes the frequency of genotypes in a population, with p^2 representing the homozygous dominant genotype, 2pq representing the heterozygous genotype, and q^2 representing the homozygous recessive genotype."
   ]
  },
  {
   "cell_type": "markdown",
   "id": "14e581e1-b301-4ab9-8ee8-f2dccbd4f77d",
   "metadata": {
    "tags": []
   },
   "source": [
    "#### Bonus Problem\n",
    "\n",
    "5. Write a function that takes a DNA sequence as an argument and:\n",
    "    * a) Checks to make sure that the DNA sequence uses only appropriate nucleotides\n",
    "    * b) Returns a tuple containing the GC content, length, and reverse complement sequence of the input DNA molecule\n",
    "    \n",
    "**Hint:** _you can define functions for each of the requested properties and another function to create/organize the output_"
   ]
  },
  {
   "cell_type": "code",
   "execution_count": 33,
   "id": "339c6aad-b7f6-4989-a44b-fb14a1f6da39",
   "metadata": {},
   "outputs": [
    {
     "name": "stdout",
     "output_type": "stream",
     "text": [
      "(0.5238095238095238, 21, 'CGTACCGTCAAGATCGTACTG')\n"
     ]
    }
   ],
   "source": [
    "def is_DNA(seq):\n",
    "    \"\"\"Test whether a given sequence is a valid DNA sequence (ie contains only ATGC bases).\n",
    "    Should return True or False depending on whether the sequence is valid.\"\"\"\n",
    "    return set(seq).issubset({'A','C','G','T'})\n",
    "\n",
    "\n",
    "def calc_GC(seq):\n",
    "    \"\"\"Calculate the GC percent of the DNA sequence passed in as an argument.\"\"\"\n",
    "    nG = seq.count('G')\n",
    "    nC = seq.count('C')\n",
    "    gc = (nG + nC) / len(seq)\n",
    "    return gc\n",
    "\n",
    "def reverse_complement(seq):\n",
    "    \"\"\"Take a DNA sequence (seq) and return the reverse complement\n",
    "    Hint: you can create a dictionary of complemntary bases and use that to look up the complement of a given base\n",
    "    \"\"\"\n",
    "    dictionary = {'A':'T','C':'G','G':'C','T':'A'}\n",
    "    complement = ''\n",
    "    for base in seq:\n",
    "        complement += dictionary[base]\n",
    "    complement = str(complement)\n",
    "    revcomp = complement[-1::-1]\n",
    "    return revcomp\n",
    "    \n",
    "def main(seq):\n",
    "    # Your 'main' function to take an input sequence and process as described above\n",
    "    gc = calc_GC(seq)\n",
    "    length = len(seq)\n",
    "    revcomp = reverse_complement(seq)\n",
    "    return (gc, length, revcomp)\n",
    "\n",
    "# Test your main() function with the following sequence\n",
    "test_seq = 'CAGTACGATCTTGACGGTACG'\n",
    "print(main(test_seq))"
   ]
  },
  {
   "cell_type": "markdown",
   "id": "d9a32675-3c1b-4f05-ae71-301c0aad6d4c",
   "metadata": {},
   "source": [
    "c) Apply your main function(s) to calculate the above parameters of interest (b) for the following of sequences in the `dna_seqs` list."
   ]
  },
  {
   "cell_type": "code",
   "execution_count": 35,
   "id": "ee214c22-ed58-454d-bb56-e7198d6ada40",
   "metadata": {},
   "outputs": [
    {
     "name": "stdout",
     "output_type": "stream",
     "text": [
      "[True, True, False, True, True, True]\n"
     ]
    },
    {
     "data": {
      "text/plain": [
       "[(0.375, 32, 'GCATAGCACTATACCTAATAATCCGCTGATAA'),\n",
       " (0.4444444444444444, 18, 'CACAAATCGCTAATCTCG'),\n",
       " (0.0, 46, 'TTTTTTTTTTTTTTTTTTTTTTTTTTTTTTTTTTTTTTTTTTTTTT'),\n",
       " (0.4794520547945205,\n",
       "  146,\n",
       "  'AGTCGTCGCGCTAAAGAATAATCAGATGCTAGTAGCTCGATGATAGCTAGCTAGCTAGCTCGATAGCGCTCGATGCTCGCTGCGCAGATAGCATCGATAGTCGAATAGTCGCTCGCTAGAATAGACTACTAGCTCGATATTAAGCC')]"
      ]
     },
     "execution_count": 35,
     "metadata": {},
     "output_type": "execute_result"
    }
   ],
   "source": [
    "dna_seqs=[\n",
    "    'TTATCAGCGGATTATTAGGTATAGTGCTATGC',\n",
    "    'CGAGATTAGCGATTTGTG',\n",
    "    'GGTATACTCTGCACGACGAGCGAGCGACGGACGACGGCICGATCTATCTA',\n",
    "    'ACGTACGTACGTACGTACGTACGTACGTACGTACGT',\n",
    "    'tacgagctactgagcgatcggatcgtacgtagc',\n",
    "    'AAAAAAAAAAAAAAAAAAAAAAAAAAAAAAAAAAAAAAAAAAAAAA',\n",
    "    'GGCTTAATATCGAGCTAGTAGTCTATTCTAGCGAGCGACTATTCGACTATCGATGCTATCTGCGCAGCGAGCATCGAGCGCTATCGAGCTAGCTAGCTAGCTATCATCGAGCTACTAGCATCTGATTATTCTTTAGCGCGACGACT'\n",
    "]\n",
    "\n",
    "print([is_DNA(dna_seq.upper()) for dna_seq in dna_seqs])\n",
    "[main(dna_seq.upper()) for dna_seq in dna_seqs if is_DNA(dna_seq)]"
   ]
  }
 ],
 "metadata": {
  "interpreter": {
   "hash": "f830f5482817da8c94e7b92359ddd59f62b3b721ee2e7f2ba7b076c4827b6548"
  },
  "kernelspec": {
   "display_name": "Python 3",
   "language": "python",
   "name": "python3"
  },
  "language_info": {
   "codemirror_mode": {
    "name": "ipython",
    "version": 3
   },
   "file_extension": ".py",
   "mimetype": "text/x-python",
   "name": "python",
   "nbconvert_exporter": "python",
   "pygments_lexer": "ipython3",
   "version": "3.10.14"
  }
 },
 "nbformat": 4,
 "nbformat_minor": 5
}

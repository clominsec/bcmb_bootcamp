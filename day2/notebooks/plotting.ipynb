{
 "cells": [
  {
   "cell_type": "markdown",
   "metadata": {},
   "source": [
    "# Visualizating your data"
   ]
  },
  {
   "cell_type": "markdown",
   "metadata": {},
   "source": [
    "## Why visualization is important"
   ]
  },
  {
   "cell_type": "markdown",
   "metadata": {},
   "source": [
    "Visualizating your data is very important. A mistake a lot of people make is to just keep it as numbers or process it in aggregate without _looking_ at the actual results of their experiments or data.\n",
    "\n",
    "Humans are incredible at pattern recognition.\n",
    "\n",
    "There are many packages and ways to plot your data - [cite tufte, show some picture examples here]"
   ]
  },
  {
   "cell_type": "markdown",
   "metadata": {},
   "source": [
    "## Plotting with matplotlib"
   ]
  },
  {
   "cell_type": "markdown",
   "metadata": {},
   "source": [
    "The base plotting package that (arguably) works best with Jupyter and python is `matplotlib`.  The best way to integrate it into our notebooks is to use the python \"magic\" command `%matplotlib inline` like so:"
   ]
  },
  {
   "cell_type": "code",
   "execution_count": 2,
   "metadata": {},
   "outputs": [],
   "source": [
    "%matplotlib inline"
   ]
  },
  {
   "cell_type": "markdown",
   "metadata": {},
   "source": [
    "This tells jupyter to put the plots _right in the notebook_ for us, allowing us to visualize the data as we are exploring it.  \n",
    "Let's look at at an initial simple plot"
   ]
  }
 ],
 "metadata": {
  "kernelspec": {
   "display_name": "Python 3",
   "language": "python",
   "name": "python3"
  },
  "language_info": {
   "codemirror_mode": {
    "name": "ipython",
    "version": 3
   },
   "file_extension": ".py",
   "mimetype": "text/x-python",
   "name": "python",
   "nbconvert_exporter": "python",
   "pygments_lexer": "ipython3",
   "version": "3.6.11"
  }
 },
 "nbformat": 4,
 "nbformat_minor": 4
}

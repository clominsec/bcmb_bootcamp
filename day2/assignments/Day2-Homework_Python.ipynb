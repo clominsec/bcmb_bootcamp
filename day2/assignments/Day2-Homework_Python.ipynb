{
 "cells": [
  {
   "cell_type": "markdown",
   "metadata": {},
   "source": [
    "# Day 2 - Python Homework Exercises"
   ]
  },
  {
   "cell_type": "markdown",
   "metadata": {},
   "source": [
    "1. Assign integer values to the variables x and y. Write an if/else/elif control statement that prints out which variable is greater (or if they are equal), along with both their values. For example: \n",
    "\n",
    "'The value of x is 45. The value of y is 3. x is greater than y\""
   ]
  },
  {
   "cell_type": "code",
   "execution_count": 1,
   "metadata": {},
   "outputs": [
    {
     "name": "stdout",
     "output_type": "stream",
     "text": [
      "The value of x is 45. The value of y is 3. x is greater than y.\n"
     ]
    }
   ],
   "source": [
    "x = 45\n",
    "y = 3\n",
    "if x > y:\n",
    "    print(f\"The value of x is {x}. The value of y is {y}. x is greater than y.\")\n",
    "elif x < y:\n",
    "    print(f\"The value of x is {x}. The value of y is {y}. y is greater than x.\")\n",
    "else:\n",
    "    print(f\"The value of x is {x}. The value of y is {y}. x is equal to y.\")"
   ]
  },
  {
   "cell_type": "markdown",
   "metadata": {},
   "source": [
    "Create a dictionary that holds the following info about you:\n",
    "- First Name\n",
    "- Undergraduate school\n",
    "- Graduate program\n",
    "- Favorite model organism\n",
    "\n",
    "Use the `keys` attribute/method of your dictionary object to print out your keys.\n"
   ]
  },
  {
   "cell_type": "code",
   "execution_count": 5,
   "metadata": {},
   "outputs": [
    {
     "name": "stdout",
     "output_type": "stream",
     "text": [
      "{'First Name': 'Fenmiao', 'Undergraduate school': 'UCB', 'Graduate program': 'BCMB', 'Favorite model organism': 'C.elegans'}\n",
      "First Name\n",
      "Undergraduate school\n",
      "Graduate program\n",
      "Favorite model organism\n"
     ]
    }
   ],
   "source": [
    "\n",
    "info = {'First Name':'Fenmiao', 'Undergraduate school':'UCB', 'Graduate program':'BCMB', 'Favorite model organism':'C.elegans'}\n",
    "print(info)\n",
    "\n",
    "for key in info.keys():\n",
    "    print(key)"
   ]
  },
  {
   "cell_type": "markdown",
   "metadata": {},
   "source": [
    "Using the dictionary you created above, construct a new string stating your model organsism with the phrase \"is my favorite organism\" appended."
   ]
  },
  {
   "cell_type": "code",
   "execution_count": 13,
   "metadata": {},
   "outputs": [
    {
     "data": {
      "text/plain": [
       "'C.elegans is my favorite organism'"
      ]
     },
     "execution_count": 13,
     "metadata": {},
     "output_type": "execute_result"
    }
   ],
   "source": [
    "new_string = info['Favorite model organism'] + ' ' + 'is my favorite organism'\n",
    "new_string"
   ]
  },
  {
   "cell_type": "markdown",
   "metadata": {},
   "source": [
    "Update your dictionary to include a new k:v pair with the name of your favorite gene."
   ]
  },
  {
   "cell_type": "code",
   "execution_count": 26,
   "metadata": {},
   "outputs": [
    {
     "data": {
      "text/plain": [
       "{'First Name': 'Fenmiao',\n",
       " 'Undergraduate school': 'UCB',\n",
       " 'Graduate program': 'BCMB',\n",
       " 'Favorite model organism': 'C.elegans',\n",
       " 'Favorite gene': 'PPARgamma'}"
      ]
     },
     "execution_count": 26,
     "metadata": {},
     "output_type": "execute_result"
    }
   ],
   "source": [
    "info['Favorite gene'] = 'PPARgamma'\n",
    "info"
   ]
  },
  {
   "cell_type": "markdown",
   "metadata": {},
   "source": [
    "2. The following lists are the majors offered by two different universities. Print the following:\n",
    "- Majors offered by both schools (intersection)\n",
    "- Majors offered by either schools (union)\n",
    "- Majors offered only by school A (difference)\n",
    "- Majors offered only by school B (difference)\n",
    "\n",
    "**Hints**: \n",
    "\n",
    "- lists are iterable, so can be used in for loops! Also remember the `in` operator.\n",
    "\n",
    "- You could also try casting the lists as sets and using set methods to perform the above operations."
   ]
  },
  {
   "cell_type": "code",
   "execution_count": 17,
   "metadata": {},
   "outputs": [
    {
     "name": "stdout",
     "output_type": "stream",
     "text": [
      "Biochemistry\n",
      "Biostatistics\n"
     ]
    }
   ],
   "source": [
    "A = [\"Biochemistry\",\"Molecular Biology\",\"Genetics\", \"Biostatistics\",\"Histopathology\"]\n",
    "B = [\"Mathematics\",\"Physics\",\"Biostatistics\",\"Biochemistry\",\"Ethics\"]\n",
    "\n",
    "## your code here\n",
    "# majors offered by both schools\n",
    "for major in A:\n",
    "    if major in B:\n",
    "        print(major)"
   ]
  },
  {
   "cell_type": "code",
   "execution_count": 21,
   "metadata": {},
   "outputs": [
    {
     "name": "stdout",
     "output_type": "stream",
     "text": [
      "Biochemistry\n",
      "Molecular Biology\n",
      "Genetics\n",
      "Biostatistics\n",
      "Histopathology\n",
      "Mathematics\n",
      "Physics\n",
      "Ethics\n"
     ]
    }
   ],
   "source": [
    "A = [\"Biochemistry\",\"Molecular Biology\",\"Genetics\", \"Biostatistics\",\"Histopathology\"]\n",
    "B = [\"Mathematics\",\"Physics\",\"Biostatistics\",\"Biochemistry\",\"Ethics\"]\n",
    "\n",
    "# majors offered by either schools\n",
    "sum = A + B\n",
    "union = []\n",
    "for element in sum:\n",
    "    if element not in union:\n",
    "        union.append(element)\n",
    "for major in union:\n",
    "    print(major)"
   ]
  },
  {
   "cell_type": "code",
   "execution_count": 15,
   "metadata": {},
   "outputs": [
    {
     "name": "stdout",
     "output_type": "stream",
     "text": [
      "Molecular Biology\n",
      "Genetics\n",
      "Histopathology\n"
     ]
    }
   ],
   "source": [
    "A = [\"Biochemistry\",\"Molecular Biology\",\"Genetics\", \"Biostatistics\",\"Histopathology\"]\n",
    "B = [\"Mathematics\",\"Physics\",\"Biostatistics\",\"Biochemistry\",\"Ethics\"]\n",
    "\n",
    "# majors offered by school A\n",
    "for major in A:\n",
    "    if major not in B:\n",
    "        print(major)"
   ]
  },
  {
   "cell_type": "code",
   "execution_count": 16,
   "metadata": {},
   "outputs": [
    {
     "name": "stdout",
     "output_type": "stream",
     "text": [
      "Mathematics\n",
      "Physics\n",
      "Ethics\n"
     ]
    }
   ],
   "source": [
    "A = [\"Biochemistry\",\"Molecular Biology\",\"Genetics\", \"Biostatistics\",\"Histopathology\"]\n",
    "B = [\"Mathematics\",\"Physics\",\"Biostatistics\",\"Biochemistry\",\"Ethics\"]\n",
    "\n",
    "# majors offered by school B\n",
    "for major in B:\n",
    "    if major not in A:\n",
    "        print(major)"
   ]
  },
  {
   "cell_type": "markdown",
   "metadata": {},
   "source": [
    "3. The first hundred amino acids of Green Fluorescent Protein (https://www.ncbi.nlm.nih.gov/protein/QAA95706.1) are MSKGEELFTGVVPILVELDGDVNGHKFSVSGEGEGDATYGKLTLKFICTTGKLPVPWPTLVTTFTYGVQCFSRYPDHMKQHDFFKSAMPEGYVQERTIFF. \n",
    "- How many Leucines (L) are there?\n",
    "- How many times does any amino acid appear twice in a row? (You don't need to keep track of which amino acids, just return the total number.)\n",
    "\n",
    "Hint: For the second part, we've initialized `repeat_count` with a value of zero, and `previous_character` to an empty string. Try a loop that updates these values."
   ]
  },
  {
   "cell_type": "code",
   "execution_count": 22,
   "metadata": {},
   "outputs": [
    {
     "name": "stdout",
     "output_type": "stream",
     "text": [
      "7\n"
     ]
    }
   ],
   "source": [
    "gfp_100 = 'MSKGEELFTGVVPILVELDGDVNGHKFSVSGEGEGDATYGKLTLKFICTTGKLPVPWPTLVTTFTYGVQCFSRYPDHMKQHDFFKSAMPEGYVQERTIFF'\n",
    "\n",
    "# how many Leucines are there\n",
    "print(gfp_100.count('L'))"
   ]
  },
  {
   "cell_type": "code",
   "execution_count": 25,
   "metadata": {},
   "outputs": [
    {
     "data": {
      "text/plain": [
       "6"
      ]
     },
     "execution_count": 25,
     "metadata": {},
     "output_type": "execute_result"
    }
   ],
   "source": [
    "gfp_100 = 'MSKGEELFTGVVPILVELDGDVNGHKFSVSGEGEGDATYGKLTLKFICTTGKLPVPWPTLVTTFTYGVQCFSRYPDHMKQHDFFKSAMPEGYVQERTIFF'\n",
    "\n",
    "# how many times does any amino acid appear twice in a row\n",
    "repeat_count = 0\n",
    "previous_chararacter = ''\n",
    "\n",
    "for i in range(len(gfp_100)):\n",
    "    if gfp_100[i] == previous_chararacter:\n",
    "        repeat_count += 1\n",
    "    previous_chararacter = gfp_100[i]\n",
    "\n",
    "repeat_count"
   ]
  }
 ],
 "metadata": {
  "interpreter": {
   "hash": "f830f5482817da8c94e7b92359ddd59f62b3b721ee2e7f2ba7b076c4827b6548"
  },
  "kernelspec": {
   "display_name": "Python 3",
   "language": "python",
   "name": "python3"
  },
  "language_info": {
   "codemirror_mode": {
    "name": "ipython",
    "version": 3
   },
   "file_extension": ".py",
   "mimetype": "text/x-python",
   "name": "python",
   "nbconvert_exporter": "python",
   "pygments_lexer": "ipython3",
   "version": "3.10.14"
  }
 },
 "nbformat": 4,
 "nbformat_minor": 4
}

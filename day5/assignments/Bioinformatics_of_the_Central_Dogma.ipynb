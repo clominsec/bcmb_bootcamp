{
 "cells": [
  {
   "cell_type": "markdown",
   "id": "de018064",
   "metadata": {},
   "source": [
    "# Bioinformatics of the Central Dogma - iPython Notebook"
   ]
  },
  {
   "cell_type": "markdown",
   "id": "d84a8422",
   "metadata": {},
   "source": [
    "# Objective: Perform bioinformatic analysis of DNA sequencing data using command-line tools"
   ]
  },
  {
   "cell_type": "markdown",
   "id": "8f454098",
   "metadata": {},
   "source": [
    "## Day 1: Exome Sequencing Analysis"
   ]
  },
  {
   "cell_type": "markdown",
   "id": "59dc8c7d",
   "metadata": {},
   "source": [
    "We will use sequencing data from a family to identify potentially disease-associated mutations."
   ]
  },
  {
   "cell_type": "markdown",
   "id": "de4bc18b",
   "metadata": {},
   "source": [
    "## Step 1: Set up the environment"
   ]
  },
  {
   "cell_type": "markdown",
   "id": "e01a7d99",
   "metadata": {},
   "source": [
    "### Install necessary bioinformatics tools using conda"
   ]
  },
  {
   "cell_type": "code",
   "execution_count": null,
   "id": "93139779",
   "metadata": {},
   "outputs": [],
   "source": [
    "!mamba install -c bioconda fastqc multiqc bwa samtools bcftools freebayes=1.3.6 -y"
   ]
  },
  {
   "cell_type": "markdown",
   "id": "9a5c9eb6",
   "metadata": {},
   "source": [
    "## Step 2: Load the raw sequencing data"
   ]
  },
  {
   "cell_type": "code",
   "execution_count": null,
   "id": "23a5ffe0",
   "metadata": {},
   "outputs": [],
   "source": [
    "# Download raw FASTQ files from Zenodo"
   ]
  },
  {
   "cell_type": "code",
   "execution_count": null,
   "id": "50c60b8b",
   "metadata": {},
   "outputs": [],
   "source": [
    "!wget https://zenodo.org/record/3243160/files/father_R1.fq.gz"
   ]
  },
  {
   "cell_type": "code",
   "execution_count": null,
   "id": "f49f4ec1",
   "metadata": {},
   "outputs": [],
   "source": [
    "!wget https://zenodo.org/record/3243160/files/father_R2.fq.gz"
   ]
  },
  {
   "cell_type": "code",
   "execution_count": null,
   "id": "67f0283f",
   "metadata": {},
   "outputs": [],
   "source": [
    "!wget https://zenodo.org/record/3243160/files/mother_R1.fq.gz"
   ]
  },
  {
   "cell_type": "code",
   "execution_count": null,
   "id": "fedbf008",
   "metadata": {},
   "outputs": [],
   "source": [
    "!wget https://zenodo.org/record/3243160/files/mother_R2.fq.gz"
   ]
  },
  {
   "cell_type": "code",
   "execution_count": null,
   "id": "68850ad4",
   "metadata": {},
   "outputs": [],
   "source": [
    "!wget https://zenodo.org/record/3243160/files/proband_R1.fq.gz"
   ]
  },
  {
   "cell_type": "code",
   "execution_count": null,
   "id": "3cddaf02",
   "metadata": {},
   "outputs": [],
   "source": [
    "!wget https://zenodo.org/record/3243160/files/proband_R2.fq.gz"
   ]
  },
  {
   "cell_type": "code",
   "execution_count": null,
   "id": "eef8cf95",
   "metadata": {},
   "outputs": [],
   "source": [
    "## Steps to download the reference genome and index it -- THIS WAS ALREADY RUN FOR YOU\n",
    "# The data is large and the indexing takes a while, so we have already done this for you\n",
    "\n",
    "# !wget http://hgdownload.soe.ucsc.edu/goldenPath/hg19/bigZips/hg19.fa.gz\n",
    "# !gunzip hg19.fa.gz\n",
    "# !bwa index hg19.fa\n"
   ]
  },
  {
   "cell_type": "markdown",
   "id": "a9c81502",
   "metadata": {},
   "source": [
    "## Step 3: Quality Control"
   ]
  },
  {
   "cell_type": "code",
   "execution_count": 2,
   "id": "da5cf37a",
   "metadata": {},
   "outputs": [],
   "source": [
    "# Run FastQC to evaluate the quality of the raw data"
   ]
  },
  {
   "cell_type": "code",
   "execution_count": null,
   "id": "85cf8c27",
   "metadata": {},
   "outputs": [],
   "source": [
    "!fastqc father_R1.fq.gz father_R2.fq.gz mother_R1.fq.gz mother_R2.fq.gz proband_R1.fq.gz proband_R2.fq.gz -o ."
   ]
  },
  {
   "cell_type": "code",
   "execution_count": null,
   "id": "0ae0b4b4",
   "metadata": {},
   "outputs": [],
   "source": [
    "# Aggregate FastQC results using MultiQC"
   ]
  },
  {
   "cell_type": "code",
   "execution_count": null,
   "id": "41fbb6d0",
   "metadata": {},
   "outputs": [],
   "source": [
    "!multiqc ."
   ]
  },
  {
   "cell_type": "code",
   "execution_count": null,
   "id": "63bba216",
   "metadata": {},
   "outputs": [],
   "source": []
  },
  {
   "cell_type": "markdown",
   "id": "6db14932",
   "metadata": {},
   "source": [
    "## Step 4: Alignment"
   ]
  },
  {
   "cell_type": "code",
   "execution_count": null,
   "id": "4eb6dfec",
   "metadata": {},
   "outputs": [],
   "source": [
    "# Map the sequencing data to the human reference genome (hg19) using BWA-MEM"
   ]
  },
  {
   "cell_type": "code",
   "execution_count": null,
   "id": "30fbad2e",
   "metadata": {},
   "outputs": [],
   "source": [
    "!bwa mem -R '@RG\\tID:000\\tSM:father' /home/kwoyshn1/hg19_reference_genome/hg19.fa father_R1.fq.gz father_R2.fq.gz > father.sam"
   ]
  },
  {
   "cell_type": "code",
   "execution_count": null,
   "id": "e55bf536",
   "metadata": {},
   "outputs": [],
   "source": [
    "!bwa mem -R '@RG\\tID:001\\tSM:mother' /home/kwoyshn1/hg19_reference_genome/hg19.fa mother_R1.fq.gz mother_R2.fq.gz > mother.sam"
   ]
  },
  {
   "cell_type": "code",
   "execution_count": null,
   "id": "d44c19c9",
   "metadata": {},
   "outputs": [],
   "source": [
    "!bwa mem -R '@RG\\tID:002\\tSM:proband' /home/kwoyshn1/hg19_reference_genome/hg19.fa proband_R1.fq.gz proband_R2.fq.gz > proband.sam"
   ]
  },
  {
   "cell_type": "code",
   "execution_count": null,
   "id": "56638ecb",
   "metadata": {},
   "outputs": [],
   "source": []
  },
  {
   "cell_type": "code",
   "execution_count": null,
   "id": "cd9a66e1",
   "metadata": {},
   "outputs": [],
   "source": [
    "# Convert SAM to BAM and sort BAM files"
   ]
  },
  {
   "cell_type": "code",
   "execution_count": null,
   "id": "e60cb7b5",
   "metadata": {},
   "outputs": [],
   "source": [
    "!samtools view -Sb father.sam | samtools sort -o father.bam"
   ]
  },
  {
   "cell_type": "code",
   "execution_count": null,
   "id": "8ebd6d13",
   "metadata": {},
   "outputs": [],
   "source": [
    "!samtools view -Sb mother.sam | samtools sort -o mother.bam"
   ]
  },
  {
   "cell_type": "code",
   "execution_count": null,
   "id": "45de578a",
   "metadata": {},
   "outputs": [],
   "source": [
    "!samtools view -Sb proband.sam | samtools sort -o proband.bam"
   ]
  },
  {
   "cell_type": "code",
   "execution_count": null,
   "id": "743bf8ae",
   "metadata": {},
   "outputs": [],
   "source": []
  },
  {
   "cell_type": "markdown",
   "id": "769f9524",
   "metadata": {},
   "source": [
    "## Step 5: Filter Alignments"
   ]
  },
  {
   "cell_type": "code",
   "execution_count": null,
   "id": "d6c0fa99",
   "metadata": {},
   "outputs": [],
   "source": [
    "# Filter BAM files to retain only properly paired reads and remove duplicates"
   ]
  },
  {
   "cell_type": "code",
   "execution_count": 18,
   "id": "8a16a5b6",
   "metadata": {},
   "outputs": [],
   "source": [
    "!samtools view -b -f 2 father.bam > father.filtered.bam"
   ]
  },
  {
   "cell_type": "code",
   "execution_count": 19,
   "id": "e5c27b6b",
   "metadata": {},
   "outputs": [],
   "source": [
    "!samtools view -b -f 2 mother.bam > mother.filtered.bam"
   ]
  },
  {
   "cell_type": "code",
   "execution_count": 20,
   "id": "817ed198",
   "metadata": {},
   "outputs": [],
   "source": [
    "!samtools view -b -f 2 proband.bam > proband.filtered.bam"
   ]
  },
  {
   "cell_type": "code",
   "execution_count": null,
   "id": "49749672",
   "metadata": {},
   "outputs": [],
   "source": [
    "!samtools rmdup father.filtered.bam father.filtered.rmdup.bam"
   ]
  },
  {
   "cell_type": "code",
   "execution_count": null,
   "id": "61f44b91",
   "metadata": {},
   "outputs": [],
   "source": [
    "!samtools rmdup mother.filtered.bam mother.filtered.rmdup.bam"
   ]
  },
  {
   "cell_type": "code",
   "execution_count": null,
   "id": "7d5a7d85",
   "metadata": {},
   "outputs": [],
   "source": [
    "!samtools rmdup proband.filtered.bam proband.filtered.rmdup.bam"
   ]
  },
  {
   "cell_type": "code",
   "execution_count": null,
   "id": "d6c60a96",
   "metadata": {},
   "outputs": [],
   "source": []
  },
  {
   "cell_type": "markdown",
   "id": "d2397c44",
   "metadata": {},
   "source": [
    "## Step 6: Variant Calling"
   ]
  },
  {
   "cell_type": "code",
   "execution_count": null,
   "id": "4ec86ea5",
   "metadata": {},
   "outputs": [],
   "source": [
    "# Use FreeBayes to call variants"
   ]
  },
  {
   "cell_type": "code",
   "execution_count": 27,
   "id": "fad846b8",
   "metadata": {},
   "outputs": [],
   "source": [
    "!freebayes -f /home/kwoyshn1/hg19_reference_genome/hg19.fa -b father.filtered.rmdup.bam mother.filtered.rmdup.bam proband.filtered.rmdup.bam > variants.vcf"
   ]
  },
  {
   "cell_type": "code",
   "execution_count": null,
   "id": "4f74db29",
   "metadata": {},
   "outputs": [],
   "source": []
  },
  {
   "cell_type": "markdown",
   "id": "ef1030d5",
   "metadata": {},
   "source": [
    "## Step 7: Post-processing"
   ]
  },
  {
   "cell_type": "code",
   "execution_count": null,
   "id": "c8ba815b",
   "metadata": {},
   "outputs": [],
   "source": [
    "# Normalize VCF with bcftools"
   ]
  },
  {
   "cell_type": "code",
   "execution_count": 28,
   "id": "5cd90078",
   "metadata": {},
   "outputs": [
    {
     "name": "stdout",
     "output_type": "stream",
     "text": [
      "Lines   total/split/joined/realigned/skipped:\t36260/1758/0/3816/0\n"
     ]
    }
   ],
   "source": [
    "!bcftools norm -f /home/kwoyshn1/hg19_reference_genome/hg19.fa -m -any variants.vcf -o normalized_variants.vcf"
   ]
  },
  {
   "cell_type": "code",
   "execution_count": null,
   "id": "379a4a60",
   "metadata": {},
   "outputs": [],
   "source": []
  },
  {
   "cell_type": "markdown",
   "id": "d2253278",
   "metadata": {},
   "source": [
    "## Step 8: Download VCF file, interpret in OpenCravat\n"
   ]
  }
 ],
 "metadata": {
  "kernelspec": {
   "display_name": "Python 3",
   "language": "python",
   "name": "python3"
  },
  "language_info": {
   "codemirror_mode": {
    "name": "ipython",
    "version": 3
   },
   "file_extension": ".py",
   "mimetype": "text/x-python",
   "name": "python",
   "nbconvert_exporter": "python",
   "pygments_lexer": "ipython3",
   "version": "3.10.14"
  }
 },
 "nbformat": 4,
 "nbformat_minor": 5
}

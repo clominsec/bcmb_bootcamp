{
 "cells": [
  {
   "cell_type": "markdown",
   "id": "de018064",
   "metadata": {},
   "source": [
    "# Bioinformatics of the Central Dogma - iPython Notebook"
   ]
  },
  {
   "cell_type": "markdown",
   "id": "d84a8422",
   "metadata": {},
   "source": [
    "# Objective: Perform bioinformatic analysis of DNA sequencing data using command-line tools"
   ]
  },
  {
   "cell_type": "markdown",
   "id": "8f454098",
   "metadata": {},
   "source": [
    "## Day 1: Exome Sequencing Analysis"
   ]
  },
  {
   "cell_type": "markdown",
   "id": "59dc8c7d",
   "metadata": {},
   "source": [
    "We will use sequencing data from a family to identify potentially disease-associated mutations."
   ]
  },
  {
   "cell_type": "markdown",
   "id": "de4bc18b",
   "metadata": {},
   "source": [
    "## Step 1: Set up the environment"
   ]
  },
  {
   "cell_type": "markdown",
   "id": "e01a7d99",
   "metadata": {},
   "source": [
    "### Install necessary bioinformatics tools using conda"
   ]
  },
  {
   "cell_type": "code",
   "execution_count": null,
   "id": "93139779",
   "metadata": {},
   "outputs": [],
   "source": [
    "!mamba install -c bioconda fastqc multiqc bwa samtools bcftools freebayes snpeff gemini -y"
   ]
  },
  {
   "cell_type": "markdown",
   "id": "9a5c9eb6",
   "metadata": {},
   "source": [
    "## Step 2: Load the raw sequencing data"
   ]
  },
  {
   "cell_type": "code",
   "execution_count": null,
   "id": "23a5ffe0",
   "metadata": {},
   "outputs": [],
   "source": [
    "# Download raw FASTQ files from Zenodo"
   ]
  },
  {
   "cell_type": "code",
   "execution_count": null,
   "id": "50c60b8b",
   "metadata": {},
   "outputs": [],
   "source": [
    "!wget https://zenodo.org/record/3243160/files/father_R1.fq.gz"
   ]
  },
  {
   "cell_type": "code",
   "execution_count": null,
   "id": "f49f4ec1",
   "metadata": {},
   "outputs": [],
   "source": [
    "!wget https://zenodo.org/record/3243160/files/father_R2.fq.gz"
   ]
  },
  {
   "cell_type": "code",
   "execution_count": null,
   "id": "67f0283f",
   "metadata": {},
   "outputs": [],
   "source": [
    "!wget https://zenodo.org/record/3243160/files/mother_R1.fq.gz"
   ]
  },
  {
   "cell_type": "code",
   "execution_count": null,
   "id": "fedbf008",
   "metadata": {},
   "outputs": [],
   "source": [
    "!wget https://zenodo.org/record/3243160/files/mother_R2.fq.gz"
   ]
  },
  {
   "cell_type": "code",
   "execution_count": null,
   "id": "68850ad4",
   "metadata": {},
   "outputs": [],
   "source": [
    "!wget https://zenodo.org/record/3243160/files/proband_R1.fq.gz"
   ]
  },
  {
   "cell_type": "code",
   "execution_count": null,
   "id": "3cddaf02",
   "metadata": {},
   "outputs": [],
   "source": [
    "!wget https://zenodo.org/record/3243160/files/proband_R2.fq.gz"
   ]
  },
  {
   "cell_type": "code",
   "execution_count": null,
   "id": "eef8cf95",
   "metadata": {},
   "outputs": [],
   "source": []
  },
  {
   "cell_type": "code",
   "execution_count": null,
   "id": "a9c81502",
   "metadata": {},
   "outputs": [],
   "source": [
    "### Step 3: Quality Control"
   ]
  },
  {
   "cell_type": "code",
   "execution_count": null,
   "id": "da5cf37a",
   "metadata": {},
   "outputs": [],
   "source": [
    "# Run FastQC to evaluate the quality of the raw data"
   ]
  },
  {
   "cell_type": "code",
   "execution_count": null,
   "id": "85cf8c27",
   "metadata": {},
   "outputs": [],
   "source": [
    "!fastqc father_R1.fq.gz father_R2.fq.gz mother_R1.fq.gz mother_R2.fq.gz proband_R1.fq.gz proband_R2.fq.gz -o ."
   ]
  },
  {
   "cell_type": "code",
   "execution_count": null,
   "id": "a5d8af62",
   "metadata": {},
   "outputs": [],
   "source": []
  },
  {
   "cell_type": "code",
   "execution_count": null,
   "id": "0ae0b4b4",
   "metadata": {},
   "outputs": [],
   "source": [
    "# Aggregate FastQC results using MultiQC"
   ]
  },
  {
   "cell_type": "code",
   "execution_count": null,
   "id": "41fbb6d0",
   "metadata": {},
   "outputs": [],
   "source": [
    "!multiqc ."
   ]
  },
  {
   "cell_type": "code",
   "execution_count": null,
   "id": "63bba216",
   "metadata": {},
   "outputs": [],
   "source": []
  },
  {
   "cell_type": "code",
   "execution_count": null,
   "id": "6db14932",
   "metadata": {},
   "outputs": [],
   "source": [
    "### Step 4: Alignment"
   ]
  },
  {
   "cell_type": "code",
   "execution_count": null,
   "id": "4eb6dfec",
   "metadata": {},
   "outputs": [],
   "source": [
    "# Map the sequencing data to the human reference genome (hg19) using BWA-MEM"
   ]
  },
  {
   "cell_type": "code",
   "execution_count": null,
   "id": "30fbad2e",
   "metadata": {},
   "outputs": [],
   "source": [
    "!bwa mem -R '@RG\\tID:000\\tSM:father' hg19.fa father_R1.fq.gz father_R2.fq.gz > father.sam"
   ]
  },
  {
   "cell_type": "code",
   "execution_count": null,
   "id": "e55bf536",
   "metadata": {},
   "outputs": [],
   "source": [
    "!bwa mem -R '@RG\\tID:001\\tSM:mother' hg19.fa mother_R1.fq.gz mother_R2.fq.gz > mother.sam"
   ]
  },
  {
   "cell_type": "code",
   "execution_count": null,
   "id": "d44c19c9",
   "metadata": {},
   "outputs": [],
   "source": [
    "!bwa mem -R '@RG\\tID:002\\tSM:proband' hg19.fa proband_R1.fq.gz proband_R2.fq.gz > proband.sam"
   ]
  },
  {
   "cell_type": "code",
   "execution_count": null,
   "id": "f595050a",
   "metadata": {},
   "outputs": [],
   "source": []
  },
  {
   "cell_type": "code",
   "execution_count": null,
   "id": "cd9a66e1",
   "metadata": {},
   "outputs": [],
   "source": [
    "# Convert SAM to BAM and sort BAM files"
   ]
  },
  {
   "cell_type": "code",
   "execution_count": null,
   "id": "e60cb7b5",
   "metadata": {},
   "outputs": [],
   "source": [
    "!samtools view -Sb father.sam | samtools sort -o father.bam"
   ]
  },
  {
   "cell_type": "code",
   "execution_count": null,
   "id": "8ebd6d13",
   "metadata": {},
   "outputs": [],
   "source": [
    "!samtools view -Sb mother.sam | samtools sort -o mother.bam"
   ]
  },
  {
   "cell_type": "code",
   "execution_count": null,
   "id": "45de578a",
   "metadata": {},
   "outputs": [],
   "source": [
    "!samtools view -Sb proband.sam | samtools sort -o proband.bam"
   ]
  },
  {
   "cell_type": "code",
   "execution_count": null,
   "id": "743bf8ae",
   "metadata": {},
   "outputs": [],
   "source": []
  },
  {
   "cell_type": "code",
   "execution_count": null,
   "id": "769f9524",
   "metadata": {},
   "outputs": [],
   "source": [
    "### Step 5: Filter Alignments"
   ]
  },
  {
   "cell_type": "code",
   "execution_count": null,
   "id": "d6c0fa99",
   "metadata": {},
   "outputs": [],
   "source": [
    "# Filter BAM files to retain only properly paired reads and remove duplicates"
   ]
  },
  {
   "cell_type": "code",
   "execution_count": null,
   "id": "8a16a5b6",
   "metadata": {},
   "outputs": [],
   "source": [
    "!samtools view -b -f 2 father.bam > father.filtered.bam"
   ]
  },
  {
   "cell_type": "code",
   "execution_count": null,
   "id": "e5c27b6b",
   "metadata": {},
   "outputs": [],
   "source": [
    "!samtools view -b -f 2 mother.bam > mother.filtered.bam"
   ]
  },
  {
   "cell_type": "code",
   "execution_count": null,
   "id": "817ed198",
   "metadata": {},
   "outputs": [],
   "source": [
    "!samtools view -b -f 2 proband.bam > proband.filtered.bam"
   ]
  },
  {
   "cell_type": "code",
   "execution_count": null,
   "id": "49749672",
   "metadata": {},
   "outputs": [],
   "source": [
    "!samtools rmdup father.filtered.bam father.filtered.rmdup.bam"
   ]
  },
  {
   "cell_type": "code",
   "execution_count": null,
   "id": "61f44b91",
   "metadata": {},
   "outputs": [],
   "source": [
    "!samtools rmdup mother.filtered.bam mother.filtered.rmdup.bam"
   ]
  },
  {
   "cell_type": "code",
   "execution_count": null,
   "id": "7d5a7d85",
   "metadata": {},
   "outputs": [],
   "source": [
    "!samtools rmdup proband.filtered.bam proband.filtered.rmdup.bam"
   ]
  },
  {
   "cell_type": "code",
   "execution_count": null,
   "id": "d6c60a96",
   "metadata": {},
   "outputs": [],
   "source": []
  },
  {
   "cell_type": "code",
   "execution_count": null,
   "id": "d2397c44",
   "metadata": {},
   "outputs": [],
   "source": [
    "### Step 6: Variant Calling"
   ]
  },
  {
   "cell_type": "code",
   "execution_count": null,
   "id": "4ec86ea5",
   "metadata": {},
   "outputs": [],
   "source": [
    "# Use FreeBayes to call variants"
   ]
  },
  {
   "cell_type": "code",
   "execution_count": null,
   "id": "fad846b8",
   "metadata": {},
   "outputs": [],
   "source": [
    "!freebayes -f hg19.fa -b father.filtered.rmdup.bam mother.filtered.rmdup.bam proband.filtered.rmdup.bam > variants.vcf"
   ]
  },
  {
   "cell_type": "code",
   "execution_count": null,
   "id": "4f74db29",
   "metadata": {},
   "outputs": [],
   "source": []
  },
  {
   "cell_type": "code",
   "execution_count": null,
   "id": "ef1030d5",
   "metadata": {},
   "outputs": [],
   "source": [
    "### Step 7: Post-processing"
   ]
  },
  {
   "cell_type": "code",
   "execution_count": null,
   "id": "c8ba815b",
   "metadata": {},
   "outputs": [],
   "source": [
    "# Normalize VCF with bcftools"
   ]
  },
  {
   "cell_type": "code",
   "execution_count": null,
   "id": "5cd90078",
   "metadata": {},
   "outputs": [],
   "source": [
    "!bcftools norm -f hg19.fa -m -any variants.vcf -o normalized_variants.vcf"
   ]
  },
  {
   "cell_type": "code",
   "execution_count": null,
   "id": "379a4a60",
   "metadata": {},
   "outputs": [],
   "source": []
  },
  {
   "cell_type": "code",
   "execution_count": null,
   "id": "2d20a450",
   "metadata": {},
   "outputs": [],
   "source": [
    "### Step 8: Annotate Variants"
   ]
  },
  {
   "cell_type": "code",
   "execution_count": null,
   "id": "3f32652c",
   "metadata": {},
   "outputs": [],
   "source": [
    "# Annotate variants using SnpEff"
   ]
  },
  {
   "cell_type": "code",
   "execution_count": null,
   "id": "73498fab",
   "metadata": {},
   "outputs": [],
   "source": [
    "!snpeff ann hg19 normalized_variants.vcf > annotated_variants.vcf"
   ]
  },
  {
   "cell_type": "code",
   "execution_count": null,
   "id": "29a326ec",
   "metadata": {},
   "outputs": [],
   "source": []
  },
  {
   "cell_type": "code",
   "execution_count": null,
   "id": "7dfa25b3",
   "metadata": {},
   "outputs": [],
   "source": [
    "### Step 9: Create a pedigree file"
   ]
  },
  {
   "cell_type": "code",
   "execution_count": null,
   "id": "61ac8eec",
   "metadata": {},
   "outputs": [],
   "source": [
    "with open('pedigree.ped', 'w') as f:\n"
   ]
  },
  {
   "cell_type": "code",
   "execution_count": null,
   "id": "bda00701",
   "metadata": {},
   "outputs": [],
   "source": [
    "    f.write(\"#family_id\\tname\\tpaternal_id\\tmaternal_id\\tsex\\tphenotype\\n\")\n"
   ]
  },
  {
   "cell_type": "code",
   "execution_count": null,
   "id": "eb92a3c6",
   "metadata": {},
   "outputs": [],
   "source": [
    "    f.write(\"FAM\\tfather\\t0\\t0\\t1\\t1\\n\")\n"
   ]
  },
  {
   "cell_type": "code",
   "execution_count": null,
   "id": "e774bcaa",
   "metadata": {},
   "outputs": [],
   "source": [
    "    f.write(\"FAM\\tmother\\t0\\t0\\t2\\t1\\n\")\n"
   ]
  },
  {
   "cell_type": "code",
   "execution_count": null,
   "id": "ad5df657",
   "metadata": {},
   "outputs": [],
   "source": [
    "    f.write(\"FAM\\tproband\\tfather\\tmother\\t1\\t2\\n\")"
   ]
  },
  {
   "cell_type": "code",
   "execution_count": null,
   "id": "cf19c14c",
   "metadata": {},
   "outputs": [],
   "source": []
  },
  {
   "cell_type": "code",
   "execution_count": null,
   "id": "f7711471",
   "metadata": {},
   "outputs": [],
   "source": [
    "### Step 10: Load data into GEMINI"
   ]
  },
  {
   "cell_type": "code",
   "execution_count": null,
   "id": "456fd7e6",
   "metadata": {},
   "outputs": [],
   "source": [
    "!gemini load -v annotated_variants.vcf -p pedigree.ped -t snpEff database.db"
   ]
  },
  {
   "cell_type": "code",
   "execution_count": null,
   "id": "ac4b2530",
   "metadata": {},
   "outputs": [],
   "source": []
  },
  {
   "cell_type": "code",
   "execution_count": null,
   "id": "61676602",
   "metadata": {},
   "outputs": [],
   "source": [
    "### Step 11: Inheritance Pattern Analysis"
   ]
  },
  {
   "cell_type": "code",
   "execution_count": null,
   "id": "06951c4f",
   "metadata": {},
   "outputs": [],
   "source": [
    "# Query GEMINI for autosomal recessive inheritance patterns"
   ]
  },
  {
   "cell_type": "code",
   "execution_count": null,
   "id": "4b4f01ea",
   "metadata": {},
   "outputs": [],
   "source": [
    "!gemini query -q \"SELECT chrom, start, ref, alt, impact, gene, clinvar_sig, clinvar_disease_name, clinvar_gene_phenotype, max_aaf_all FROM variants WHERE impact_severity != 'LOW' AND (max_aaf_all < 0.01 OR max_aaf_all IS NULL)\" -d database.db > inheritance_results.txt"
   ]
  },
  {
   "cell_type": "code",
   "execution_count": null,
   "id": "3bc56afd",
   "metadata": {},
   "outputs": [],
   "source": []
  },
  {
   "cell_type": "code",
   "execution_count": null,
   "id": "8f726a6c",
   "metadata": {},
   "outputs": [],
   "source": [
    "## Day 2: Additional Analysis"
   ]
  },
  {
   "cell_type": "code",
   "execution_count": null,
   "id": "c236b4d0",
   "metadata": {},
   "outputs": [],
   "source": [
    "# More detailed analysis to follow based on Day 1's output..."
   ]
  },
  {
   "cell_type": "code",
   "execution_count": null,
   "id": "dd803c49",
   "metadata": {},
   "outputs": [],
   "source": []
  },
  {
   "cell_type": "code",
   "execution_count": null,
   "id": "2b8e35cb",
   "metadata": {},
   "outputs": [],
   "source": [
    "## Lab Report and Discussion"
   ]
  },
  {
   "cell_type": "code",
   "execution_count": null,
   "id": "fb9bbcd1",
   "metadata": {},
   "outputs": [],
   "source": [
    "# Include screenshots, result analysis, and answers to discussion questions"
   ]
  }
 ],
 "metadata": {
  "language_info": {
   "name": "python"
  }
 },
 "nbformat": 4,
 "nbformat_minor": 5
}

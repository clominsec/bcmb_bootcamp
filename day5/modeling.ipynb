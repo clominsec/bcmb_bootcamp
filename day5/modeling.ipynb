{
 "cells": [
  {
   "cell_type": "markdown",
   "metadata": {},
   "source": [
    "# Differential equations and rates"
   ]
  },
  {
   "cell_type": "markdown",
   "metadata": {},
   "source": [
    "Biochemistry has _many_ differential equations.  Let's consider a zeroth-order reaction:\n",
    "\n",
    "$\\frac{d[C]}{dt} = -k$\n",
    "\n",
    "Gives us the equation - where the rate at which a drug (or other substance) decays $\\frac{d[C]}{dt}$ is dependent only on the constant $k$.  An example of a zeroth order reaction is the oxidation of ethanol in the human liver to acetaldehyde, catalyzed by alcohol dehydrogenase.  As long as there is a high enough amount of alcohol available, the reaction is limited only by how fast the enzyme can work (and the amount of enzyme available. \n",
    "\n",
    "If we integrate this, we can see that the concentration should behave like:\n",
    "\n",
    "$C(t) = C_0 - kt$"
   ]
  },
  {
   "cell_type": "markdown",
   "metadata": {},
   "source": [
    "Biochemistry has _many_ differential equations.  Let's consider expnonential decay for example:\n",
    "\n",
    "$\\frac{d[C]}{dt} = -\\lambda[C]$\n",
    "\n",
    "Gives us the equation - where the rate at which a drug (or other substance) decays $\\frac{d[C]}{dt}$ is dependent on the amount of the substance $[C]$ times a constant $\\lambda$. "
   ]
  },
  {
   "cell_type": "markdown",
   "metadata": {},
   "source": [
    "But . . . if the rate changes"
   ]
  }
 ],
 "metadata": {
  "kernelspec": {
   "display_name": "Python 3",
   "language": "python",
   "name": "python3"
  },
  "language_info": {
   "codemirror_mode": {
    "name": "ipython",
    "version": 3
   },
   "file_extension": ".py",
   "mimetype": "text/x-python",
   "name": "python",
   "nbconvert_exporter": "python",
   "pygments_lexer": "ipython3",
   "version": "3.6.11"
  }
 },
 "nbformat": 4,
 "nbformat_minor": 4
}
